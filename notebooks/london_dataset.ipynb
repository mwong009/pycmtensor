{
 "cells": [
  {
   "attachments": {},
   "cell_type": "markdown",
   "metadata": {},
   "source": [
    "# London Passenger Mode Choice"
   ]
  },
  {
   "cell_type": "code",
   "execution_count": 10,
   "metadata": {},
   "outputs": [
    {
     "name": "stderr",
     "output_type": "stream",
     "text": [
      "12:48:25 [INFO] n_train_samples:3986 n_valid_samples:997\n",
      "12:48:25 [WARNING] s_time not in any utility functions\n",
      "12:48:25 [WARNING] b_purpose not in any utility functions\n",
      "12:48:25 [WARNING] b_car_own not in any utility functions\n",
      "12:48:25 [INFO] inputs in MNL: [driving_license, dur_walking, dur_cycling, dur_pt_rail, dur_pt_bus, dur_pt_int, dur_driving, cost_transit, cost_driving_fuel, cost_driving_ccharge]\n",
      "12:48:41 [INFO] Build time = 00:00:15\n"
     ]
    }
   ],
   "source": [
    "import os, sys\n",
    "sys.path.insert(0, os.path.abspath(\"..\"))\n",
    "\n",
    "#import packages\n",
    "import pandas as pd\n",
    "from pycmtensor.dataset import Dataset\n",
    "from pycmtensor.expressions import Beta, RandomDraws\n",
    "from pycmtensor.models import MNL\n",
    "\n",
    "lpmc = pd.read_csv(\"../data/lpmc.dat\", sep=\"\\t\")\n",
    "lpmc = lpmc[lpmc[\"travel_year\"]==2015]\n",
    "ds = Dataset(df=lpmc, choice=\"travel_mode\")\n",
    "ds.split(0.8)\n",
    "\n",
    "# Beta parameters\n",
    "asc_walk = Beta(\"asc_walk\", 0.0, None, None, 1)\n",
    "asc_cycle = Beta(\"asc_cycle\", 0.0, None, None, 0)\n",
    "asc_pt = Beta(\"asc_pt\", 0.0, None, None, 0)\n",
    "asc_drive = Beta(\"asc_drive\", 0.0, None, None, 0)\n",
    "b_cost = Beta(\"b_cost\", 0.0, None, None, 0)\n",
    "b_time = Beta(\"b_time\", 0.0, None, None, 0)\n",
    "s_time = Beta(\"s_time\", 0.5, None, None, 0)\n",
    "b_purpose = Beta(\"b_purpose\", 0.0, None, None, 0)\n",
    "b_licence = Beta(\"b_licence\", 0.0, None, None, 0)\n",
    "b_car_own = Beta(\"b_car_own\", 0.0, None, None, 0)\n",
    "\n",
    "rnd_time = RandomDraws('rnd_time', 'lognormal', 100)\n",
    "U_walk = asc_walk + b_time * ds[\"dur_walking\"] # + rnd_time(s_time) * db[\"dur_walking\"]\n",
    "U_cycle = asc_cycle + b_time * ds[\"dur_cycling\"] \n",
    "U_pt = asc_pt + b_time * (ds[\"dur_pt_rail\"] + ds[\"dur_pt_bus\"] + ds[\"dur_pt_int\"]) + b_cost * ds[\"cost_transit\"]\n",
    "U_drive = asc_drive + b_time * ds[\"dur_driving\"] + b_licence * ds[\"driving_license\"] + b_cost * (ds[\"cost_driving_fuel\"] + ds[\"cost_driving_ccharge\"])\n",
    "\n",
    "U = [U_walk, U_cycle, U_pt, U_drive]\n",
    "mymodel = MNL(ds, locals(), U)"
   ]
  },
  {
   "cell_type": "code",
   "execution_count": 11,
   "metadata": {},
   "outputs": [
    {
     "name": "stderr",
     "output_type": "stream",
     "text": [
      "12:48:42 [INFO] Start (n=3986, Step=0, LL=-5525.77, Error=80.34%)\n",
      "12:48:42 [INFO] Train (Step=0, LL=-9008.61, Error=80.34%, gnorm=2.44949e+00, 0/2000)\n",
      "12:48:42 [INFO] Train (Step=16, LL=-3798.26, Error=39.12%, gnorm=4.46640e-01, 16/2000)\n",
      "12:48:43 [INFO] Train (Step=54, LL=-3487.97, Error=35.21%, gnorm=6.80979e-02, 54/2000)\n",
      "12:48:43 [INFO] Train (Step=87, LL=-3471.01, Error=35.01%, gnorm=9.93509e-03, 87/2000)\n",
      "12:48:43 [INFO] Train (Step=130, LL=-3470.29, Error=34.70%, gnorm=1.92617e-03, 130/2000)\n",
      "12:48:43 [INFO] Train (Step=168, LL=-3470.28, Error=34.70%, gnorm=3.22536e-04, 168/2000)\n",
      "12:48:43 [INFO] Train (Step=189, LL=-3470.28, Error=34.70%, gnorm=8.74120e-05, 189/2000)\n",
      "12:48:43 [INFO] Model converged (t=0.734)\n",
      "12:48:46 [INFO] Best results obtained at Step 185: LL=-3470.28, Error=34.70%, gnorm=2.16078e-04\n"
     ]
    }
   ],
   "source": [
    "from pycmtensor.models import train\n",
    "from pycmtensor.optimizers import Adam, BFGS, RMSProp\n",
    "from pycmtensor.scheduler import StepLR, ConstantLR\n",
    "\n",
    "mymodel.reset_values()\n",
    "train(mymodel, ds, optimizer=Adam, batch_size=0, base_learning_rate=1., convergence_threshold=0.0001, max_steps=2000, lr_scheduler=ConstantLR, lr_stepLR_drop_every=20, lr_stepLR_factor=0.99, BFGS_warmup=10)"
   ]
  },
  {
   "cell_type": "code",
   "execution_count": 6,
   "metadata": {},
   "outputs": [
    {
     "name": "stdout",
     "output_type": "stream",
     "text": [
      "              value   std err     t-test   p-value rob. std err rob. t-test rob. p-value\n",
      "asc_cycle -2.555589  0.122056 -20.937894       0.0      0.13551  -18.859044          0.0\n",
      "asc_drive -0.065714  0.075207  -0.873767  0.382245     0.083918   -0.783073     0.433584\n",
      "asc_pt     0.462504  0.059597   7.760475       0.0     0.067708     6.83084          0.0\n",
      "asc_walk        0.0         -          -         -            -           -            -\n",
      "b_cost    -0.137062  0.010515 -13.034681       0.0     0.009242  -14.829647          0.0\n",
      "b_licence  1.305436  0.072837  17.922822       0.0     0.074698   17.476087          0.0\n",
      "b_time     1.490019  0.136327  10.929758       0.0      0.12737   11.698364          0.0\n",
      "                                         value\n",
      "Number of training samples used         3986.0\n",
      "Number of validation samples used        997.0\n",
      "Null. log likelihood              -5525.769323\n",
      "Final log likelihood              -4206.316416\n",
      "Accuracy                                53.36%\n",
      "Likelihood ratio test              2638.905815\n",
      "Rho square                            0.238782\n",
      "Rho square bar                        0.237515\n",
      "Akaike Information Criterion       8426.632832\n",
      "Bayesian Information Criterion     8470.666637\n",
      "Final gradient norm                1.51530e-04\n",
      "                           value\n",
      "Seed                       42069\n",
      "Model build time        00:00:53\n",
      "Model train time        00:00:01\n",
      "iterations per sec  248.6 iter/s\n"
     ]
    }
   ],
   "source": [
    "pd.options.display.width = 99\n",
    "print(mymodel.results.beta_statistics())\n",
    "print(mymodel.results.model_statistics())\n",
    "print(mymodel.results.benchmark())"
   ]
  },
  {
   "cell_type": "code",
   "execution_count": 4,
   "metadata": {},
   "outputs": [
    {
     "data": {
      "text/html": [
       "<div>\n",
       "<style scoped>\n",
       "    .dataframe tbody tr th:only-of-type {\n",
       "        vertical-align: middle;\n",
       "    }\n",
       "\n",
       "    .dataframe tbody tr th {\n",
       "        vertical-align: top;\n",
       "    }\n",
       "\n",
       "    .dataframe thead th {\n",
       "        text-align: right;\n",
       "    }\n",
       "</style>\n",
       "<table border=\"1\" class=\"dataframe\">\n",
       "  <thead>\n",
       "    <tr style=\"text-align: right;\">\n",
       "      <th></th>\n",
       "      <th>asc_cycle</th>\n",
       "      <th>asc_pt</th>\n",
       "      <th>asc_drive</th>\n",
       "      <th>b_cost</th>\n",
       "      <th>b_time</th>\n",
       "      <th>b_licence</th>\n",
       "    </tr>\n",
       "  </thead>\n",
       "  <tbody>\n",
       "    <tr>\n",
       "      <th>asc_cycle</th>\n",
       "      <td>1.000000</td>\n",
       "      <td>0.555348</td>\n",
       "      <td>0.446142</td>\n",
       "      <td>0.275918</td>\n",
       "      <td>-0.664268</td>\n",
       "      <td>-0.056280</td>\n",
       "    </tr>\n",
       "    <tr>\n",
       "      <th>asc_pt</th>\n",
       "      <td>0.555348</td>\n",
       "      <td>1.000000</td>\n",
       "      <td>0.664742</td>\n",
       "      <td>0.028757</td>\n",
       "      <td>-0.747226</td>\n",
       "      <td>-0.023953</td>\n",
       "    </tr>\n",
       "    <tr>\n",
       "      <th>asc_drive</th>\n",
       "      <td>0.446142</td>\n",
       "      <td>0.664742</td>\n",
       "      <td>1.000000</td>\n",
       "      <td>0.001864</td>\n",
       "      <td>-0.612640</td>\n",
       "      <td>-0.621469</td>\n",
       "    </tr>\n",
       "    <tr>\n",
       "      <th>b_cost</th>\n",
       "      <td>0.275918</td>\n",
       "      <td>0.028757</td>\n",
       "      <td>0.001864</td>\n",
       "      <td>1.000000</td>\n",
       "      <td>-0.421506</td>\n",
       "      <td>-0.113394</td>\n",
       "    </tr>\n",
       "    <tr>\n",
       "      <th>b_time</th>\n",
       "      <td>-0.664268</td>\n",
       "      <td>-0.747226</td>\n",
       "      <td>-0.612640</td>\n",
       "      <td>-0.421506</td>\n",
       "      <td>1.000000</td>\n",
       "      <td>0.114312</td>\n",
       "    </tr>\n",
       "    <tr>\n",
       "      <th>b_licence</th>\n",
       "      <td>-0.056280</td>\n",
       "      <td>-0.023953</td>\n",
       "      <td>-0.621469</td>\n",
       "      <td>-0.113394</td>\n",
       "      <td>0.114312</td>\n",
       "      <td>1.000000</td>\n",
       "    </tr>\n",
       "  </tbody>\n",
       "</table>\n",
       "</div>"
      ],
      "text/plain": [
       "           asc_cycle    asc_pt  asc_drive    b_cost    b_time  b_licence\n",
       "asc_cycle   1.000000  0.555348   0.446142  0.275918 -0.664268  -0.056280\n",
       "asc_pt      0.555348  1.000000   0.664742  0.028757 -0.747226  -0.023953\n",
       "asc_drive   0.446142  0.664742   1.000000  0.001864 -0.612640  -0.621469\n",
       "b_cost      0.275918  0.028757   0.001864  1.000000 -0.421506  -0.113394\n",
       "b_time     -0.664268 -0.747226  -0.612640 -0.421506  1.000000   0.114312\n",
       "b_licence  -0.056280 -0.023953  -0.621469 -0.113394  0.114312   1.000000"
      ]
     },
     "execution_count": 4,
     "metadata": {},
     "output_type": "execute_result"
    }
   ],
   "source": [
    "mymodel.results.model_robust_correlation_matrix()"
   ]
  },
  {
   "cell_type": "code",
   "execution_count": 5,
   "metadata": {},
   "outputs": [
    {
     "ename": "AttributeError",
     "evalue": "'MNL' object has no attribute 'predict'",
     "output_type": "error",
     "traceback": [
      "\u001b[1;31m---------------------------------------------------------------------------\u001b[0m",
      "\u001b[1;31mAttributeError\u001b[0m                            Traceback (most recent call last)",
      "Cell \u001b[1;32mIn[5], line 4\u001b[0m\n\u001b[0;32m      1\u001b[0m \u001b[39m# predictions\u001b[39;00m\n\u001b[0;32m      2\u001b[0m \u001b[39mimport\u001b[39;00m \u001b[39mnumpy\u001b[39;00m \u001b[39mas\u001b[39;00m \u001b[39mnp\u001b[39;00m\n\u001b[1;32m----> 4\u001b[0m \u001b[39mprint\u001b[39m(mymodel\u001b[39m.\u001b[39;49mpredict(ds, return_choices\u001b[39m=\u001b[39m\u001b[39mFalse\u001b[39;00m))\n\u001b[0;32m      5\u001b[0m \u001b[39mprint\u001b[39m(np\u001b[39m.\u001b[39munique(mymodel\u001b[39m.\u001b[39mpredict(ds), return_counts\u001b[39m=\u001b[39m\u001b[39mTrue\u001b[39;00m))\n",
      "\u001b[1;31mAttributeError\u001b[0m: 'MNL' object has no attribute 'predict'"
     ]
    }
   ],
   "source": [
    "# predictions\n",
    "import numpy as np\n",
    "\n",
    "print(mymodel.predict(ds, return_choices=False))\n",
    "print(np.unique(mymodel.predict(ds), return_counts=True))"
   ]
  }
 ],
 "metadata": {
  "kernelspec": {
   "display_name": "pycmtensor-dev",
   "language": "python",
   "name": "python3"
  },
  "language_info": {
   "codemirror_mode": {
    "name": "ipython",
    "version": 3
   },
   "file_extension": ".py",
   "mimetype": "text/x-python",
   "name": "python",
   "nbconvert_exporter": "python",
   "pygments_lexer": "ipython3",
   "version": "3.11.4"
  },
  "orig_nbformat": 4
 },
 "nbformat": 4,
 "nbformat_minor": 2
}
