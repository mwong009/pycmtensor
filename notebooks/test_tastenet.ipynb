{
 "cells": [
  {
   "cell_type": "code",
   "execution_count": 16,
   "metadata": {},
   "outputs": [
    {
     "name": "stderr",
     "output_type": "stream",
     "text": [
      "15:49:49 [INFO] n_train_samples:3986 n_valid_samples:997\n"
     ]
    }
   ],
   "source": [
    "import os, sys\n",
    "sys.path.insert(0, os.path.abspath(\"..\"))\n",
    "\n",
    "#import packages\n",
    "import pandas as pd\n",
    "from pycmtensor.dataset import Dataset\n",
    "from pycmtensor.expressions import Beta, RandomDraws\n",
    "from pycmtensor.models import MNL\n",
    "\n",
    "lpmc = pd.read_csv(\"../data/lpmc.dat\", sep=\"\\t\")\n",
    "lpmc = lpmc[lpmc[\"travel_year\"]==2015]\n",
    "ds = Dataset(df=lpmc, choice=\"travel_mode\")\n",
    "ds.split(0.8)\n",
    "\n",
    "# Beta parameters\n",
    "asc_walk = Beta(\"asc_walk\", 0.0, None, None, 1)\n",
    "asc_cycle = Beta(\"asc_cycle\", 0.0, None, None, 0)\n",
    "asc_pt = Beta(\"asc_pt\", 0.0, None, None, 0)\n",
    "asc_drive = Beta(\"asc_drive\", 0.0, None, None, 0)\n",
    "b_cost = Beta(\"b_cost\", 0.0, None, None, 0)\n",
    "b_time = Beta(\"b_time\", 0.0, None, None, 0)\n",
    "s_time = Beta(\"s_time\", 0.5, None, None, 0)\n",
    "b_purpose = Beta(\"b_purpose\", 0.0, None, None, 0)\n",
    "b_licence = Beta(\"b_licence\", 0.0, None, None, 0)\n",
    "b_car_own = Beta(\"b_car_own\", 0.0, None, None, 0)\n",
    "\n",
    "rnd_time = RandomDraws('rnd_time', 'lognormal', 100)\n",
    "U_walk = asc_walk + b_time * ds[\"dur_walking\"] # + rnd_time(s_time) * db[\"dur_walking\"]\n",
    "U_cycle = asc_cycle + b_time * ds[\"dur_cycling\"] \n",
    "U_pt = asc_pt + b_time * (ds[\"dur_pt_rail\"] + ds[\"dur_pt_bus\"] + ds[\"dur_pt_int\"]) + b_cost * ds[\"cost_transit\"]\n",
    "U_drive = asc_drive + b_time * ds[\"dur_driving\"] + b_cost * (ds[\"cost_driving_fuel\"] + ds[\"cost_driving_ccharge\"]) + b_licence * ds[\"driving_license\"]\n",
    "\n",
    "U = [U_walk, U_cycle, U_pt, U_drive]"
   ]
  },
  {
   "cell_type": "code",
   "execution_count": 71,
   "metadata": {},
   "outputs": [
    {
     "name": "stderr",
     "output_type": "stream",
     "text": [
      "16:12:02 [WARNING] s_time not in any utility functions\n",
      "16:12:02 [WARNING] b_purpose not in any utility functions\n",
      "16:12:02 [WARNING] b_car_own not in any utility functions\n"
     ]
    },
    {
     "data": {
      "text/plain": [
       "array([[ 0.01647871,  0.0078125 , -0.01186443, -0.01236618,  0.01756461,\n",
       "         0.0078125 , -0.0234375 ,  0.0078125 ,  0.01956647, -0.00968083,\n",
       "         0.0078125 ,  0.02041445, -0.01535953, -0.0084862 ,  0.0078125 ,\n",
       "        -0.013743  ,  0.01689609,  0.01573495, -0.0234375 ,  0.0078125 ,\n",
       "         0.0078125 ,  0.01868121,  0.0078125 , -0.01521247, -0.01432622,\n",
       "         0.0078125 ,  0.01871448, -0.01240953, -0.00743806,  0.0078125 ,\n",
       "         0.0078125 ,  0.0078125 ]])"
      ]
     },
     "execution_count": 71,
     "metadata": {},
     "output_type": "execute_result"
    }
   ],
   "source": [
    "import aesara.tensor as aet\n",
    "import aesara\n",
    "import numpy as np\n",
    "\n",
    "inputs = [ds['age'], ds['female'], ds['car_ownership']]\n",
    "\n",
    "# z variable\n",
    "z = aet.stack(*inputs)\n",
    "# weights\n",
    "W = aesara.shared(0.1* np.random.normal(size=(3, 10)))\n",
    "W2 = aesara.shared(0.1* np.random.normal(size=(10, 1)))\n",
    "\n",
    "# bias\n",
    "bias = aesara.shared(np.zeros((10, 1)))\n",
    "bias2 = aesara.shared(np.zeros((1, 1)))\n",
    "\n",
    "h = aet.softplus(W.T @ z) + bias\n",
    "\n",
    "b_licence_TN = aet.softplus(W2.T @ h) + bias2\n",
    "license_out = b_licence_TN * ds[\"driving_license\"]\n",
    "\n",
    "U_walk = asc_walk + b_time * ds[\"dur_walking\"] # + rnd_time(s_time) * db[\"dur_walking\"]\n",
    "U_cycle = asc_cycle + b_time * ds[\"dur_cycling\"] \n",
    "U_pt = asc_pt + b_time * (ds[\"dur_pt_rail\"] + ds[\"dur_pt_bus\"] + ds[\"dur_pt_int\"]) + b_cost * ds[\"cost_transit\"]\n",
    "U_drive = asc_drive + b_time * ds[\"dur_driving\"] + b_cost * (ds[\"cost_driving_fuel\"] + ds[\"cost_driving_ccharge\"]) + b_licence * ds[\"driving_license\"] + license_out\n",
    "\n",
    "U = [U_walk, U_cycle, U_pt, U_drive]\n",
    "\n",
    "from pycmtensor.functions import logit, log_likelihood\n",
    "import pycmtensor\n",
    "from pycmtensor.models.basic import extract_params\n",
    "\n",
    "p_y_given_x = logit(U)\n",
    "ll = log_likelihood(p_y_given_x, ds.y)\n",
    "cost = - ll / ds.y.shape[0]\n",
    "\n",
    "params = extract_params(cost, locals())\n",
    "optimizer = pycmtensor.config.optimizer(params)\n",
    "updates = optimizer.update(cost, params, 0.1)\n",
    "\n",
    "params = [p() for p in params if (p.status!=1)]\n",
    "grads = aet.grad(cost, license_out)\n",
    "\n",
    "fn = aesara.function(\n",
    "    inputs=ds.x+[ds.y], \n",
    "    outputs=grads\n",
    ")\n",
    "\n",
    "data = ds.train_dataset(ds.x+[ds.y], index=7, batch_size=32)\n",
    "# print(np.stack(data))\n",
    "fn(*data)"
   ]
  },
  {
   "cell_type": "code",
   "execution_count": 52,
   "metadata": {},
   "outputs": [
    {
     "name": "stdout",
     "output_type": "stream",
     "text": [
      "1\n",
      "2\n"
     ]
    },
    {
     "data": {
      "text/plain": [
       "array([[[ 68.57159147,   6.87060593,  18.08116322, 322.68926133,\n",
       "           0.91667335,   3.23301396,  64.86097475,  18.08193963,\n",
       "           3.85082289,   0.98586741]],\n",
       "\n",
       "       [[ 68.57159147,   6.87060593,  18.08116322, 322.68926133,\n",
       "           0.91667335,   3.23301396,  64.86097475,  18.08193963,\n",
       "           3.85082289,   0.98586741]]])"
      ]
     },
     "execution_count": 52,
     "metadata": {},
     "output_type": "execute_result"
    }
   ],
   "source": [
    "import aesara.tensor as aet\n",
    "import aesara\n",
    "import numpy as np\n",
    "\n",
    "x = aet.join(0, ds[\"cost_driving_fuel\"], ds[\"cost_driving_ccharge\"])\n",
    "print(x.ndim)  # (2,)\n",
    "\n",
    "y = aet.as_tensor_variable([ds[\"cost_driving_fuel\"], ds[\"cost_driving_ccharge\"]])\n",
    "print(y.ndim)  # (2, N)\n",
    "\n",
    "# weights\n",
    "W = aesara.shared(np.random.lognormal(size=(2, 6)))\n",
    "\n",
    "W2 = aesara.shared(np.random.lognormal(size=(6, 1)))\n",
    "\n",
    "# bias\n",
    "bias = aesara.shared(np.zeros((6, 1)))\n",
    "bias2 = aesara.shared(np.zeros((1, 1)))\n",
    "\n",
    "h = aet.softplus(W.T @ y) + bias\n",
    "\n",
    "h2 = aet.softplus(W2.T @ h) + bias2\n",
    "\n",
    "# h2 = aet.flatten(h2)\n",
    "\n",
    "out = h2 * ds[\"cost_driving_fuel\"]\n",
    "\n",
    "u = [out, out]\n",
    "u = aet.stack(u)\n",
    "\n",
    "fn = aesara.function([ds[\"cost_driving_fuel\"], ds[\"cost_driving_ccharge\"]], u)\n",
    "\n",
    "data =ds.train_dataset([ds[\"cost_driving_fuel\"], ds[\"cost_driving_ccharge\"]], index=7, batch_size=10)\n",
    "\n",
    "fn(*data)"
   ]
  }
 ],
 "metadata": {
  "kernelspec": {
   "display_name": "pycmtensor-dev",
   "language": "python",
   "name": "python3"
  },
  "language_info": {
   "codemirror_mode": {
    "name": "ipython",
    "version": 3
   },
   "file_extension": ".py",
   "mimetype": "text/x-python",
   "name": "python",
   "nbconvert_exporter": "python",
   "pygments_lexer": "ipython3",
   "version": "3.11.4"
  },
  "orig_nbformat": 4
 },
 "nbformat": 4,
 "nbformat_minor": 2
}
