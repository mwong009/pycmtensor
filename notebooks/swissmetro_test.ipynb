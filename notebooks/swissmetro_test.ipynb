{
 "cells": [
  {
   "cell_type": "markdown",
   "metadata": {},
   "source": [
    "# Swissmetro test"
   ]
  },
  {
   "cell_type": "code",
   "execution_count": 12,
   "metadata": {},
   "outputs": [],
   "source": [
    "import os, sys\n",
    "sys.path.insert(0, os.path.abspath(\"..\"))\n",
    "\n",
    "import numpy as np\n",
    "import pandas as pd\n",
    "import pycmtensor as cmt\n",
    "from pycmtensor.expressions import Beta\n",
    "from pycmtensor.models import MNL\n",
    "from pycmtensor.statistics import elasticities"
   ]
  },
  {
   "cell_type": "code",
   "execution_count": 2,
   "metadata": {},
   "outputs": [],
   "source": [
    "swissmetro = pd.read_csv(\"../data/swissmetro.dat\", sep=\"\\t\")\n",
    "swissmetro.drop(swissmetro[swissmetro[\"CHOICE\"] == 0].index, inplace=True)\n",
    "swissmetro[\"CHOICE\"] -= 1  # set the first choice index to 0\n",
    "db = cmt.Data(df=swissmetro, choice=\"CHOICE\")\n",
    "db.autoscale_data(except_for=[\"ID\", \"ORIGIN\", \"DEST\"])  # scales dataset\n",
    "db.split_db(split_frac=0.8)  # split dataset"
   ]
  },
  {
   "cell_type": "code",
   "execution_count": 3,
   "metadata": {},
   "outputs": [],
   "source": [
    "b_cost = Beta(\"b_cost\", 0.0, None, None, 0)\n",
    "b_time = Beta(\"b_time\", 0.0, None, None, 0)\n",
    "asc_train = Beta(\"asc_train\", 0.0, None, None, 0)\n",
    "asc_car = Beta(\"asc_car\", 0.0, None, None, 0)\n",
    "asc_sm = Beta(\"asc_sm\", 0.0, None, None, 1)\n",
    "\n",
    "U_1 = b_cost * db[\"TRAIN_CO\"] + b_time * db[\"TRAIN_TT\"] + asc_train\n",
    "U_2 = b_cost * db[\"SM_CO\"] + b_time * db[\"SM_TT\"] + asc_sm\n",
    "U_3 = b_cost * db[\"CAR_CO\"] + b_time * db[\"CAR_TT\"] + asc_car\n",
    "\n",
    "# specify the utility function and the availability conditions\n",
    "U = [U_1, U_2, U_3]  # utility\n",
    "AV = [db[\"TRAIN_AV\"], db[\"SM_AV\"], db[\"CAR_AV\"]]  # availability\n",
    "\n",
    "mymodel = MNL(db, locals(), U, AV, name=\"MNL\")\n",
    "mymodel.config.set_hyperparameter(\"max_steps\", 100)"
   ]
  },
  {
   "cell_type": "markdown",
   "metadata": {},
   "source": [
    "Model training"
   ]
  },
  {
   "cell_type": "code",
   "execution_count": 4,
   "metadata": {},
   "outputs": [
    {
     "name": "stderr",
     "output_type": "stream",
     "text": [
      "[2022-09-16 12:37:46] INFO: Start (n=8575)\n",
      "[2022-09-16 12:37:55] INFO: End (t=00:00:08, VE=41.045%, LL=-7493.118838579969, S=43)\n"
     ]
    }
   ],
   "source": [
    "mymodel.train(db)"
   ]
  },
  {
   "cell_type": "markdown",
   "metadata": {},
   "source": [
    "Print results and statistics"
   ]
  },
  {
   "cell_type": "markdown",
   "metadata": {},
   "source": [
    "Beta parameters"
   ]
  },
  {
   "cell_type": "code",
   "execution_count": 6,
   "metadata": {},
   "outputs": [
    {
     "name": "stdout",
     "output_type": "stream",
     "text": [
      "              value   std err     t-test   p-value rob. std err  rob. t-test  \\\n",
      "asc_car   -0.942329   0.04768 -19.763727       0.0     0.076445   -12.326843   \n",
      "asc_sm          0.0         -          -         -            -            -   \n",
      "asc_train -1.878122  0.050834 -36.946285       0.0     0.016206  -115.890019   \n",
      "b_cost     0.020012  0.019996   1.000844  0.316902     0.009011     2.220941   \n",
      "b_time    -0.531807  0.054323  -9.789711       0.0     0.000386 -1378.755748   \n",
      "\n",
      "          rob. p-value  \n",
      "asc_car            0.0  \n",
      "asc_sm               -  \n",
      "asc_train          0.0  \n",
      "b_cost        0.026355  \n",
      "b_time             0.0  \n"
     ]
    }
   ],
   "source": [
    "print(mymodel.results.beta_statistics())"
   ]
  },
  {
   "cell_type": "markdown",
   "metadata": {},
   "source": [
    "Model statistics"
   ]
  },
  {
   "cell_type": "code",
   "execution_count": 7,
   "metadata": {},
   "outputs": [
    {
     "name": "stdout",
     "output_type": "stream",
     "text": [
      "                                          value\n",
      "Number of training samples used          8575.0\n",
      "Number of validation samples used        2144.0\n",
      "Init. log likelihood               -8870.789689\n",
      "Final log likelihood               -7493.118839\n",
      "Accuracy                                 58.96%\n",
      "Likelihood ratio test                 2755.3417\n",
      "Rho square                             0.155304\n",
      "Rho square bar                         0.154741\n",
      "Akaike Information Criterion       14996.237677\n",
      "Bayesian Information Criterion     15031.520709\n",
      "Final gradient norm                    0.015869\n"
     ]
    }
   ],
   "source": [
    "print(mymodel.results.model_statistics())"
   ]
  },
  {
   "cell_type": "markdown",
   "metadata": {},
   "source": [
    "Correlation matrix"
   ]
  },
  {
   "cell_type": "code",
   "execution_count": 8,
   "metadata": {},
   "outputs": [
    {
     "name": "stdout",
     "output_type": "stream",
     "text": [
      "             b_cost    b_time  asc_train   asc_car\n",
      "b_cost     1.000000  0.220764   0.238790 -0.014013\n",
      "b_time     0.220764  1.000000   0.756603  0.814204\n",
      "asc_train  0.238790  0.756603   1.000000  0.686436\n",
      "asc_car   -0.014013  0.814204   0.686436  1.000000\n"
     ]
    }
   ],
   "source": [
    "print(mymodel.results.model_correlation_matrix())"
   ]
  },
  {
   "cell_type": "markdown",
   "metadata": {},
   "source": [
    "Benchmark"
   ]
  },
  {
   "cell_type": "code",
   "execution_count": 9,
   "metadata": {},
   "outputs": [
    {
     "name": "stdout",
     "output_type": "stream",
     "text": [
      "                       value\n",
      "Seed                     900\n",
      "Model build time    00:00:06\n",
      "Model train time    00:00:08\n",
      "iterations per sec   406.6/s\n"
     ]
    }
   ],
   "source": [
    "print(mymodel.results.benchmark())"
   ]
  },
  {
   "cell_type": "markdown",
   "metadata": {},
   "source": [
    "Predictions"
   ]
  },
  {
   "cell_type": "code",
   "execution_count": 10,
   "metadata": {},
   "outputs": [
    {
     "name": "stdout",
     "output_type": "stream",
     "text": [
      "[[0.11709831 0.5815749  0.30132679]\n",
      " [0.1163768  0.58444756 0.29917564]\n",
      " [0.11763801 0.57752885 0.30483315]\n",
      " ...\n",
      " [0.12554841 0.54182345 0.33262814]\n",
      " [0.12458464 0.53767492 0.33774044]\n",
      " [0.12704342 0.53968389 0.3332727 ]]\n",
      "(array([1, 2], dtype=int64), array([10422,   297], dtype=int64))\n"
     ]
    }
   ],
   "source": [
    "# predictions\n",
    "print(mymodel.predict(db, return_choices=False))\n",
    "print(np.unique(mymodel.predict(db), return_counts=True))"
   ]
  },
  {
   "cell_type": "markdown",
   "metadata": {},
   "source": [
    "Elasticities"
   ]
  },
  {
   "cell_type": "code",
   "execution_count": 13,
   "metadata": {},
   "outputs": [
    {
     "name": "stdout",
     "output_type": "stream",
     "text": [
      "[-0.10702093 -0.05893466 -0.08508935 ... -0.04266499 -0.05229369\n",
      " -0.0884445 ]\n"
     ]
    }
   ],
   "source": [
    "print(elasticities(mymodel, db, 0, \"TRAIN_TT\"))"
   ]
  }
 ],
 "metadata": {
  "kernelspec": {
   "display_name": "Python 3.10.0 ('pycmtensor-dev')",
   "language": "python",
   "name": "python3"
  },
  "language_info": {
   "codemirror_mode": {
    "name": "ipython",
    "version": 3
   },
   "file_extension": ".py",
   "mimetype": "text/x-python",
   "name": "python",
   "nbconvert_exporter": "python",
   "pygments_lexer": "ipython3",
   "version": "3.9.12"
  },
  "orig_nbformat": 4,
  "vscode": {
   "interpreter": {
    "hash": "8519cd4d47b15910736c5570af4c4e0aa29a6c9a8fe56130f373e7aa596bd9e4"
   }
  }
 },
 "nbformat": 4,
 "nbformat_minor": 2
}
