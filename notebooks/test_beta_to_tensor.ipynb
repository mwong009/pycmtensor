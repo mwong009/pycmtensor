{
 "cells": [
  {
   "cell_type": "code",
   "execution_count": 26,
   "metadata": {},
   "outputs": [
    {
     "data": {
      "text/plain": [
       "InplaceDimShuffle{x}.0"
      ]
     },
     "execution_count": 26,
     "metadata": {},
     "output_type": "execute_result"
    }
   ],
   "source": [
    "import aesara\n",
    "import aesara.tensor as aet\n",
    "from aesara.tensor.sharedvar import TensorSharedVariable\n",
    "from aesara.tensor.var import TensorVariable\n",
    "\n",
    "from pycmtensor.expressions import Beta\n",
    "\n",
    "asc_cycle = Beta(\"asc_cycle\", 0.0, None, None, 0)\n",
    "\n",
    "isinstance(asc_cycle, (TensorVariable, TensorSharedVariable))\n",
    "\n",
    "a = aet.as_tensor_variable(asc_cycle())\n",
    "b = aet.as_tensor_variable(a, ndim=2)\n",
    "b.ndim\n",
    "\n",
    "aet."
   ]
  }
 ],
 "metadata": {
  "kernelspec": {
   "display_name": "pycmtensor-dev",
   "language": "python",
   "name": "python3"
  },
  "language_info": {
   "codemirror_mode": {
    "name": "ipython",
    "version": 3
   },
   "file_extension": ".py",
   "mimetype": "text/x-python",
   "name": "python",
   "nbconvert_exporter": "python",
   "pygments_lexer": "ipython3",
   "version": "3.11.4"
  },
  "orig_nbformat": 4
 },
 "nbformat": 4,
 "nbformat_minor": 2
}
