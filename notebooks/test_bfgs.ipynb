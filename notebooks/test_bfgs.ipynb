{
 "cells": [
  {
   "cell_type": "code",
   "execution_count": 4,
   "metadata": {},
   "outputs": [
    {
     "data": {
      "text/plain": [
       "array(99, dtype=int8)"
      ]
     },
     "execution_count": 4,
     "metadata": {},
     "output_type": "execute_result"
    }
   ],
   "source": [
    "import aesara\n",
    "import aesara.tensor as aet\n",
    "import numpy as np\n",
    "from pycmtensor.expressions import Beta\n",
    "from aesara.ifelse import ifelse\n",
    "\n",
    "val = Beta('val', 0.)\n",
    "\n",
    "_y = [aesara.shared(val().eval()+i) for i in np.random.normal(0, 0.0001, size=4)]\n",
    "_s = [aesara.shared(val().eval()+i) for i in np.random.normal(0, 0.0001, size=4)]\n",
    "\n",
    "y = aesara.shared(5.0)\n",
    "x = aesara.shared(7.0)\n",
    "ifelse(aet.eq(y % 5, 0) * aet.eq(x, 7), 99, 98 ).eval()\n",
    "\n",
    "\n"
   ]
  }
 ],
 "metadata": {
  "kernelspec": {
   "display_name": "pycmtensor-dev",
   "language": "python",
   "name": "python3"
  },
  "language_info": {
   "codemirror_mode": {
    "name": "ipython",
    "version": 3
   },
   "file_extension": ".py",
   "mimetype": "text/x-python",
   "name": "python",
   "nbconvert_exporter": "python",
   "pygments_lexer": "ipython3",
   "version": "3.11.4"
  },
  "orig_nbformat": 4
 },
 "nbformat": 4,
 "nbformat_minor": 2
}
