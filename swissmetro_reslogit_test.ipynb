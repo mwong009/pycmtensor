{
 "cells": [
  {
   "cell_type": "markdown",
   "metadata": {},
   "source": [
    "# Swissmetro test\n",
    "\n",
    "Tests the ResLogit implementation"
   ]
  },
  {
   "cell_type": "code",
   "execution_count": 1,
   "metadata": {},
   "outputs": [],
   "source": [
    "import dill as pickle\n",
    "import pandas as pd\n",
    "import pycmtensor as cmt\n",
    "from pycmtensor.models import MNLogit, ResLogitLayer\n",
    "from pycmtensor.optimizers import Adam\n",
    "from pycmtensor.expressions import Beta, Weights\n",
    "from pycmtensor.results import Results, Predict\n",
    "\n",
    "cmt.logger.set_level(cmt.logger.WARNING)\n"
   ]
  },
  {
   "cell_type": "code",
   "execution_count": 2,
   "metadata": {},
   "outputs": [],
   "source": [
    "swissmetro = pd.read_csv(\"data/swissmetro.dat\", sep=\"\\t\")\n",
    "db = cmt.Database(name=\"swissmetro\", pandasDatabase=swissmetro, choiceVar=\"CHOICE\")\n",
    "globals().update(db.variables)\n",
    "# Removing some observations\n",
    "exclude = ((PURPOSE != 1) * (PURPOSE != 3) + (CHOICE == 0)) > 0\n",
    "db.remove(exclude)\n",
    "\n",
    "# additional steps to format database\n",
    "db.data[\"CHOICE\"] -= 1  # set the first choice to 0\n",
    "db.choices = sorted(db.data[\"CHOICE\"].unique())  # save original choices\n",
    "db.autoscale(\n",
    "    variables=[\"TRAIN_CO\", \"TRAIN_TT\", \"CAR_CO\", \"CAR_TT\", \"SM_CO\", \"SM_TT\"],\n",
    "    default=100.0,\n",
    "    verbose=False,\n",
    ")"
   ]
  },
  {
   "cell_type": "code",
   "execution_count": 3,
   "metadata": {},
   "outputs": [],
   "source": [
    "# declare model params here\n",
    "b_cost = Beta(\"b_cost\", 0.0, None, None, 0)\n",
    "b_time = Beta(\"b_time\", 0.0, None, None, 0)\n",
    "asc_train = Beta(\"asc_train\", 0.0, None, None, 0)\n",
    "asc_car = Beta(\"asc_car\", 0.0, None, None, 0)\n",
    "asc_sm = Beta(\"asc_sm\", 0.0, None, None, 1)\n",
    "\n",
    "W_1 = Weights(\"W_1\", (3, 10), 0)\n",
    "W_2 = Weights(\"W_2\", (10, 3), 0)\n",
    "\n",
    "U_1 = b_cost * db[\"TRAIN_CO\"] + b_time * db[\"TRAIN_TT\"] + asc_train\n",
    "U_2 = b_cost * db[\"SM_CO\"] + b_time * db[\"SM_TT\"] + asc_sm\n",
    "U_3 = b_cost * db[\"CAR_CO\"] + b_time * db[\"CAR_TT\"] + asc_car\n",
    "\n",
    "# specify the utility function and the availability conditions\n",
    "U = [U_1, U_2, U_3]\n",
    "AV = [db[\"TRAIN_AV\"], db[\"SM_AV\"], db[\"CAR_AV\"]]\n",
    "\n",
    "# the reslogit layer\n",
    "U = ResLogitLayer(U, W_1, W_2).output\n",
    "\n",
    "mymodel = MNLogit(u=U, av=AV, database=db, name=\"mymodel\")\n",
    "\n",
    "mymodel.add_params(locals())\n",
    "\n",
    "# set training configuration\n",
    "mymodel.config[\"patience\"] = 20000\n",
    "mymodel.config[\"base_lr\"] = 0.0012\n",
    "mymodel.config[\"max_lr\"] = 0.002\n",
    "mymodel.config[\"learning_scheduler\"] = \"CyclicLR\"\n",
    "mymodel.config[\"cyclic_lr_step_size\"] = 8\n",
    "mymodel.config[\"cyclic_lr_mode\"] = \"triangular2\""
   ]
  },
  {
   "cell_type": "code",
   "execution_count": 4,
   "metadata": {},
   "outputs": [
    {
     "name": "stdout",
     "output_type": "stream",
     "text": [
      "dataset: swissmetro (n=6768)\n",
      "batch size: 128\n",
      "iterations per epoch: 52\n"
     ]
    },
    {
     "data": {
      "application/vnd.jupyter.widget-view+json": {
       "model_id": "852c86b276f94bc9bd1bafeb63579a7c",
       "version_major": 2,
       "version_minor": 0
      },
      "text/plain": [
       "Loglikelihood:  -7114.661  Score: 0.327"
      ]
     },
     "metadata": {},
     "output_type": "display_data"
    },
    {
     "data": {
      "application/vnd.jupyter.widget-view+json": {
       "model_id": "13134f59e6f6424183fc1f4b5a027d6f",
       "version_major": 2,
       "version_minor": 0
      },
      "text/plain": [
       "Epoch    0/25948:   0%|          | 0.00/25.9k [00:00<?, ?it/s]"
      ]
     },
     "metadata": {},
     "output_type": "display_data"
    }
   ],
   "source": [
    "# train function\n",
    "model = cmt.train(\n",
    "    mymodel, database=db, optimizer=Adam, batch_size=128, max_epoch=499, notebook=True\n",
    ")\n",
    "\n",
    "with open(\"myModel.pkl\", \"rb\") as f:\n",
    "    model = pickle.load(f)\n",
    "\n",
    "result = Results(model, db, show_weights=True)\n",
    "result.print_beta_statistics()\n",
    "result.print_correlation_matrix()\n"
   ]
  },
  {
   "cell_type": "code",
   "execution_count": null,
   "metadata": {},
   "outputs": [
    {
     "data": {
      "text/plain": [
       "<Figure size 432x288 with 0 Axes>"
      ]
     },
     "metadata": {},
     "output_type": "display_data"
    },
    {
     "data": {
      "image/png": "[encoded data removed]",
      "text/plain": [
       "<Figure size 864x216 with 3 Axes>"
      ]
     },
     "metadata": {},
     "output_type": "display_data"
    }
   ],
   "source": [
    "import seaborn as sns\n",
    "import matplotlib.pyplot as plt\n",
    "\n",
    "sns.set_style(\"ticks\")\n",
    "sns.set_context(\"notebook\", font_scale=1.0, rc={\"lines.linewidth\": 1.2})\n",
    "sns.despine()\n",
    "log = model.tracker.get_data()\n",
    "fig, axs = plt.subplots(1, 3, figsize=(12, 3), squeeze=False)\n",
    "g1 = sns.lineplot(ax=axs[0, 0], data=log, x=log.index, y=\"full_ll\", color=\"red\")\n",
    "g2 = sns.lineplot(ax=axs[0, 1], data=log, x=log.index, y=\"lr\", color=\"red\")\n",
    "g3 = sns.lineplot(\n",
    "    ax=axs[0, 2], data=log, x=log.index, y=\"score\", color=\"red\"\n",
    ")  # y = score or full_ll or lr\n",
    "g1.set(xscale=\"log\", xlabel=\"iterations\", ylabel=\"log likelihood\")\n",
    "g2.set(xscale=\"log\", xlabel=\"iterations\", ylabel=\"learning rate\")\n",
    "g3.set(xscale=\"log\", xlabel=\"iterations\", ylabel=\"accuracy\")\n",
    "plt.tight_layout()\n",
    "plt.savefig(\"docs/viz/fig2.png\", format=\"png\", facecolor=\"white\", transparent=False)\n",
    "plt.show()\n"
   ]
  },
  {
   "cell_type": "code",
   "execution_count": null,
   "metadata": {},
   "outputs": [
    {
     "ename": "ImportError",
     "evalue": "Failed to import pydot. An error happened while importing/trying pydot: (2, '\"dot\" not found in path.', None, 2, None)",
     "output_type": "error",
     "traceback": [
      "\u001b[1;31m---------------------------------------------------------------------------\u001b[0m",
      "\u001b[1;31mImportError\u001b[0m                               Traceback (most recent call last)",
      "\u001b[1;32m~\\AppData\\Local\\Temp/ipykernel_10832/2807008560.py\u001b[0m in \u001b[0;36m<module>\u001b[1;34m\u001b[0m\n\u001b[0;32m      1\u001b[0m \u001b[1;32mimport\u001b[0m \u001b[0maesara\u001b[0m\u001b[1;33m.\u001b[0m\u001b[0md3viz\u001b[0m \u001b[1;32mas\u001b[0m \u001b[0md3v\u001b[0m\u001b[1;33m\u001b[0m\u001b[1;33m\u001b[0m\u001b[0m\n\u001b[0;32m      2\u001b[0m \u001b[1;32mfrom\u001b[0m \u001b[0maesara\u001b[0m \u001b[1;32mimport\u001b[0m \u001b[0mprinting\u001b[0m\u001b[1;33m\u001b[0m\u001b[1;33m\u001b[0m\u001b[0m\n\u001b[1;32m----> 3\u001b[1;33m \u001b[0md3v\u001b[0m\u001b[1;33m.\u001b[0m\u001b[0md3viz\u001b[0m\u001b[1;33m(\u001b[0m\u001b[0mmodel\u001b[0m\u001b[1;33m.\u001b[0m\u001b[0mloglikelihood\u001b[0m\u001b[1;33m,\u001b[0m \u001b[1;34m\"viz/ResLogit.html\"\u001b[0m\u001b[1;33m)\u001b[0m\u001b[1;33m\u001b[0m\u001b[1;33m\u001b[0m\u001b[0m\n\u001b[0m\u001b[0;32m      4\u001b[0m \u001b[0mprinting\u001b[0m\u001b[1;33m.\u001b[0m\u001b[0mpydotprint\u001b[0m\u001b[1;33m(\u001b[0m\u001b[0mmymodel\u001b[0m\u001b[1;33m.\u001b[0m\u001b[0mcost\u001b[0m\u001b[1;33m,\u001b[0m \u001b[1;34m\"viz/print2.png\"\u001b[0m\u001b[1;33m)\u001b[0m\u001b[1;33m\u001b[0m\u001b[1;33m\u001b[0m\u001b[0m\n\u001b[0;32m      5\u001b[0m \u001b[1;32mfrom\u001b[0m \u001b[0mIPython\u001b[0m\u001b[1;33m.\u001b[0m\u001b[0mdisplay\u001b[0m \u001b[1;32mimport\u001b[0m \u001b[0mImage\u001b[0m\u001b[1;33m\u001b[0m\u001b[1;33m\u001b[0m\u001b[0m\n",
      "\u001b[1;32m~\\miniconda3\\lib\\site-packages\\aesara\\d3viz\\d3viz.py\u001b[0m in \u001b[0;36md3viz\u001b[1;34m(fct, outfile, copy_deps, *args, **kwargs)\u001b[0m\n\u001b[0;32m     76\u001b[0m \u001b[1;33m\u001b[0m\u001b[0m\n\u001b[0;32m     77\u001b[0m     \u001b[1;31m# Create DOT graph\u001b[0m\u001b[1;33m\u001b[0m\u001b[1;33m\u001b[0m\u001b[0m\n\u001b[1;32m---> 78\u001b[1;33m     \u001b[0mformatter\u001b[0m \u001b[1;33m=\u001b[0m \u001b[0mPyDotFormatter\u001b[0m\u001b[1;33m(\u001b[0m\u001b[1;33m*\u001b[0m\u001b[0margs\u001b[0m\u001b[1;33m,\u001b[0m \u001b[1;33m**\u001b[0m\u001b[0mkwargs\u001b[0m\u001b[1;33m)\u001b[0m\u001b[1;33m\u001b[0m\u001b[1;33m\u001b[0m\u001b[0m\n\u001b[0m\u001b[0;32m     79\u001b[0m     \u001b[0mgraph\u001b[0m \u001b[1;33m=\u001b[0m \u001b[0mformatter\u001b[0m\u001b[1;33m(\u001b[0m\u001b[0mfct\u001b[0m\u001b[1;33m)\u001b[0m\u001b[1;33m\u001b[0m\u001b[1;33m\u001b[0m\u001b[0m\n\u001b[0;32m     80\u001b[0m     \u001b[0mdot_graph\u001b[0m \u001b[1;33m=\u001b[0m \u001b[0mgraph\u001b[0m\u001b[1;33m.\u001b[0m\u001b[0mcreate_dot\u001b[0m\u001b[1;33m(\u001b[0m\u001b[1;33m)\u001b[0m\u001b[1;33m\u001b[0m\u001b[1;33m\u001b[0m\u001b[0m\n",
      "\u001b[1;32m~\\miniconda3\\lib\\site-packages\\aesara\\d3viz\\formatting.py\u001b[0m in \u001b[0;36m__init__\u001b[1;34m(self, compact)\u001b[0m\n\u001b[0;32m     42\u001b[0m         \u001b[1;34m\"\"\"Construct PyDotFormatter object.\"\"\"\u001b[0m\u001b[1;33m\u001b[0m\u001b[1;33m\u001b[0m\u001b[0m\n\u001b[0;32m     43\u001b[0m         \u001b[1;32mif\u001b[0m \u001b[1;32mnot\u001b[0m \u001b[0mpydot_imported\u001b[0m\u001b[1;33m:\u001b[0m\u001b[1;33m\u001b[0m\u001b[1;33m\u001b[0m\u001b[0m\n\u001b[1;32m---> 44\u001b[1;33m             \u001b[1;32mraise\u001b[0m \u001b[0mImportError\u001b[0m\u001b[1;33m(\u001b[0m\u001b[1;34m\"Failed to import pydot. \"\u001b[0m \u001b[1;33m+\u001b[0m \u001b[0mpydot_imported_msg\u001b[0m\u001b[1;33m)\u001b[0m\u001b[1;33m\u001b[0m\u001b[1;33m\u001b[0m\u001b[0m\n\u001b[0m\u001b[0;32m     45\u001b[0m \u001b[1;33m\u001b[0m\u001b[0m\n\u001b[0;32m     46\u001b[0m         \u001b[0mself\u001b[0m\u001b[1;33m.\u001b[0m\u001b[0mcompact\u001b[0m \u001b[1;33m=\u001b[0m \u001b[0mcompact\u001b[0m\u001b[1;33m\u001b[0m\u001b[1;33m\u001b[0m\u001b[0m\n",
      "\u001b[1;31mImportError\u001b[0m: Failed to import pydot. An error happened while importing/trying pydot: (2, '\"dot\" not found in path.', None, 2, None)"
     ]
    }
   ],
   "source": [
    "import aesara.d3viz as d3v\n",
    "from aesara import printing\n",
    "d3v.d3viz(model.loglikelihood, \"docs/viz/ResLogit.html\")\n",
    "printing.pydotprint(mymodel.cost, \"docs/viz/print2.png\")\n",
    "from IPython.display import Image\n",
    "Image(\"docs/viz/print2.png\", width=\"80%\")\n"
   ]
  },
  {
   "cell_type": "code",
   "execution_count": null,
   "metadata": {},
   "outputs": [],
   "source": [
    "from pycmtensor.results import Predict\n",
    "from pycmtensor.pycmtensor import PyCMTensorModel\n",
    "import dill as pickle\n",
    "import pandas as pd\n",
    "\n",
    "class MNLmodel(PyCMTensorModel):\n",
    "    def __init__(self, db):\n",
    "        super().__init__(db)\n",
    "\n",
    "\n",
    "with open(\"myModel.pkl\", \"rb\") as f:\n",
    "    model = pickle.load(f)\n",
    "\n",
    "pd.concat((Predict(model, db).probs(), Predict(model, db).choices()), axis=1)\n"
   ]
  }
 ],
 "metadata": {
  "interpreter": {
   "hash": "da63d4e9fb59fde60e5c971c6a46911019e2bb62eca7ad51842ebf786c79b6c5"
  },
  "kernelspec": {
   "display_name": "Python 3.9.7 ('base')",
   "language": "python",
   "name": "python3"
  },
  "language_info": {
   "codemirror_mode": {
    "name": "ipython",
    "version": 3
   },
   "file_extension": ".py",
   "mimetype": "text/x-python",
   "name": "python",
   "nbconvert_exporter": "python",
   "pygments_lexer": "ipython3",
   "version": "3.9.7"
  },
  "orig_nbformat": 4
 },
 "nbformat": 4,
 "nbformat_minor": 2
}
