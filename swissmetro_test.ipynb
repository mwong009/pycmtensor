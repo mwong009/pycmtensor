{
 "cells": [
  {
   "cell_type": "code",
   "execution_count": 4,
   "metadata": {},
   "outputs": [],
   "source": [
    "%reload_ext autoreload\n",
    "%autoreload 2"
   ]
  },
  {
   "cell_type": "code",
   "execution_count": 1,
   "metadata": {},
   "outputs": [
    {
     "name": "stdout",
     "output_type": "stream",
     "text": [
      "mymodel\n"
     ]
    }
   ],
   "source": [
    "import dill as pickle\n",
    "import aesara\n",
    "import aesara.tensor as aet\n",
    "import pandas as pd\n",
    "\n",
    "import pycmtensor as cmt\n",
    "from pycmtensor.models import MNLogit\n",
    "from pycmtensor.optimizers import Adam\n",
    "from pycmtensor.expressions import Beta, Weights\n",
    "from pycmtensor.results import Results, Predict\n",
    "\n",
    "swissmetro = pd.read_csv(\"data/swissmetro.dat\", sep=\"\\t\")\n",
    "db = cmt.Database(name=\"swissmetro\", pandasDatabase=swissmetro, choiceVar=\"CHOICE\")\n",
    "globals().update(db.variables)\n",
    "# Removing some observations\n",
    "exclude = ((PURPOSE != 1) * (PURPOSE != 3) + (CHOICE == 0)) > 0\n",
    "db.remove(exclude)\n",
    "\n",
    "# additional steps to format database\n",
    "db.data[\"CHOICE\"] -= 1 # set the first choice to 0\n",
    "db.choices = sorted(db.data[\"CHOICE\"].unique()) # save original choices\n",
    "db.autoscale(variables=['TRAIN_CO', 'TRAIN_TT', 'CAR_CO', 'CAR_TT', \n",
    "    'SM_CO', 'SM_TT'], default=100., verbose=False)\n",
    "\n",
    "# declare model params here\n",
    "b_cost = Beta(\"b_cost\", 0.0, None, None, 0)\n",
    "b_time = Beta(\"b_time\", 0.0, None, None, 0)\n",
    "asc_train = Beta(\"asc_train\", 0.0, None, None, 0)\n",
    "asc_car = Beta(\"asc_car\", 0.0, None, None, 0)\n",
    "asc_sm = Beta(\"asc_sm\", 0.0, None, None, 1)\n",
    "\n",
    "U_1 = b_cost * db[\"TRAIN_CO\"] + b_time * db[\"TRAIN_TT\"] + asc_train\n",
    "U_2 = b_cost * db[\"SM_CO\"] + b_time * db[\"SM_TT\"] + asc_sm\n",
    "U_3 = b_cost * db[\"CAR_CO\"] + b_time * db[\"CAR_TT\"] + asc_car\n",
    "\n",
    "# specify the utility function and the availability conditions\n",
    "U = [U_1, U_2, U_3]\n",
    "AV = [db[\"TRAIN_AV\"], db[\"SM_AV\"], db[\"CAR_AV\"]]\n",
    "        \n",
    "mymodel = MNLogit(u=U, av=AV, database=db, name=\"mymodel\")\n",
    "mymodel.add_params(locals())\n",
    "\n",
    "# train function\n",
    "model = cmt.train(mymodel, database=db, optimizer=Adam, batch_size=128, lr_init=0.01, max_epoch=30, notebook=True)\n",
    "\n",
    "with open(\"myModel.pkl\", \"rb\") as f:\n",
    "    model = pickle.load(f)\n",
    "\n",
    "result = Results(model, db, show_weights=True)"
   ]
  },
  {
   "cell_type": "code",
   "execution_count": 3,
   "metadata": {},
   "outputs": [],
   "source": [
    "from aesara.tensor.random.utils import RandomStream\n",
    "\n",
    "class ResLogitLayer:\n",
    "    def __init__(self, input, w_in, w_out, activation_in=None, activation_out=None):\n",
    "        assert w_in.shape[1].eval() == w_out.shape[0].eval()\n",
    "        if isinstance(input, (list, tuple)):\n",
    "            assert len(input) == w_in.shape[0].eval(), f\"index.0 of w_in must be of the same length as input\"\n",
    "            input = aet.stacklists(input).flatten(2)\n",
    "\n",
    "        assert isinstance(w_in, (Weights)), \"w_in must be of type Weights\"\n",
    "        assert isinstance(w_out, (Weights)), \"w_out must be of type Weights\"\n",
    "        self.w_in = w_in()\n",
    "        self.w_out = w_out()\n",
    "        if activation_in == None:\n",
    "            activation_in = aet.sigmoid\n",
    "        if activation_out == None:\n",
    "            activation_out = aet.sigmoid\n",
    "            \n",
    "        h = activation_in(aet.dot(input.T, self.w_in))\n",
    "        output = activation_out(aet.dot(h, self.w_out)).T\n",
    "        self.input = input\n",
    "        self.weights = [self.w_in, self.w_out]\n",
    "        self.output = output + input\n",
    "\n",
    "    \n",
    "    def __repr__(self):\n",
    "        return f\"ResLogitLayer([{self.w_in.shape.eval()}, {self.w_out.shape.eval()}])\""
   ]
  },
  {
   "cell_type": "code",
   "execution_count": 5,
   "metadata": {},
   "outputs": [],
   "source": [
    "import aesara.d3viz as d3v\n",
    "d3v.d3viz(model.loglikelihood, 'viz/MNLogit.html')\n",
    "\n",
    "aesara.printing.pydotprint(mymodel.cost, \"viz/print.png\")\n",
    "from IPython.display import Image\n",
    "Image(\"viz/print.png\", width=\"80%\")"
   ]
  },
  {
   "cell_type": "code",
   "execution_count": 6,
   "metadata": {},
   "outputs": [
    {
     "data": {
      "text/html": [
       "<div>\n",
       "<style scoped>\n",
       "    .dataframe tbody tr th:only-of-type {\n",
       "        vertical-align: middle;\n",
       "    }\n",
       "\n",
       "    .dataframe tbody tr th {\n",
       "        vertical-align: top;\n",
       "    }\n",
       "\n",
       "    .dataframe thead th {\n",
       "        text-align: right;\n",
       "    }\n",
       "</style>\n",
       "<table border=\"1\" class=\"dataframe\">\n",
       "  <thead>\n",
       "    <tr style=\"text-align: right;\">\n",
       "      <th></th>\n",
       "      <th>CHOICE</th>\n",
       "    </tr>\n",
       "  </thead>\n",
       "  <tbody>\n",
       "    <tr>\n",
       "      <th>0</th>\n",
       "      <td>1</td>\n",
       "    </tr>\n",
       "    <tr>\n",
       "      <th>1</th>\n",
       "      <td>1</td>\n",
       "    </tr>\n",
       "    <tr>\n",
       "      <th>2</th>\n",
       "      <td>1</td>\n",
       "    </tr>\n",
       "    <tr>\n",
       "      <th>3</th>\n",
       "      <td>1</td>\n",
       "    </tr>\n",
       "    <tr>\n",
       "      <th>4</th>\n",
       "      <td>1</td>\n",
       "    </tr>\n",
       "    <tr>\n",
       "      <th>...</th>\n",
       "      <td>...</td>\n",
       "    </tr>\n",
       "    <tr>\n",
       "      <th>6763</th>\n",
       "      <td>1</td>\n",
       "    </tr>\n",
       "    <tr>\n",
       "      <th>6764</th>\n",
       "      <td>1</td>\n",
       "    </tr>\n",
       "    <tr>\n",
       "      <th>6765</th>\n",
       "      <td>1</td>\n",
       "    </tr>\n",
       "    <tr>\n",
       "      <th>6766</th>\n",
       "      <td>1</td>\n",
       "    </tr>\n",
       "    <tr>\n",
       "      <th>6767</th>\n",
       "      <td>1</td>\n",
       "    </tr>\n",
       "  </tbody>\n",
       "</table>\n",
       "<p>6768 rows × 1 columns</p>\n",
       "</div>"
      ],
      "text/plain": [
       "      CHOICE\n",
       "0          1\n",
       "1          1\n",
       "2          1\n",
       "3          1\n",
       "4          1\n",
       "...      ...\n",
       "6763       1\n",
       "6764       1\n",
       "6765       1\n",
       "6766       1\n",
       "6767       1\n",
       "\n",
       "[6768 rows x 1 columns]"
      ]
     },
     "execution_count": 6,
     "metadata": {},
     "output_type": "execute_result"
    }
   ],
   "source": [
    "from pycmtensor.results import Predict\n",
    "from pycmtensor.pycmtensor import PyCMTensorModel\n",
    "import dill as pickle\n",
    "\n",
    "class MNLmodel(PyCMTensorModel):\n",
    "    def __init__(self, db):\n",
    "        super().__init__(db)\n",
    "\n",
    "with open(\"myModel.pkl\", \"rb\") as f:\n",
    "    model = pickle.load(f)\n",
    "\n",
    "Predict(model, db).choices()"
   ]
  },
  {
   "cell_type": "code",
   "execution_count": 7,
   "metadata": {},
   "outputs": [
    {
     "name": "stderr",
     "output_type": "stream",
     "text": [
      "100%|██████████| 100/100 [00:01<00:00, 90.43it/s]\n"
     ]
    },
    {
     "data": {
      "text/plain": [
       "{'n': 100,\n",
       " 'total': 100,\n",
       " 'elapsed': 1.113598346710205,\n",
       " 'ncols': None,\n",
       " 'nrows': None,\n",
       " 'prefix': '',\n",
       " 'ascii': False,\n",
       " 'unit': 'it',\n",
       " 'unit_scale': False,\n",
       " 'rate': None,\n",
       " 'bar_format': None,\n",
       " 'postfix': None,\n",
       " 'unit_divisor': 1000,\n",
       " 'initial': 0,\n",
       " 'colour': None}"
      ]
     },
     "execution_count": 7,
     "metadata": {},
     "output_type": "execute_result"
    }
   ],
   "source": [
    "from tqdm import tqdm, trange\n",
    "from time import sleep\n",
    "\n",
    "pbar = tqdm(total=100)\n",
    "for i in range(10):\n",
    "    sleep(0.1)\n",
    "    pbar.update(10)\n",
    "pbar.close()\n",
    "\n",
    "pbar.format_dict"
   ]
  },
  {
   "cell_type": "code",
   "execution_count": null,
   "metadata": {},
   "outputs": [],
   "source": []
  }
 ],
 "metadata": {
  "interpreter": {
   "hash": "da63d4e9fb59fde60e5c971c6a46911019e2bb62eca7ad51842ebf786c79b6c5"
  },
  "kernelspec": {
   "display_name": "Python 3.9.7 ('base')",
   "language": "python",
   "name": "python3"
  },
  "language_info": {
   "codemirror_mode": {
    "name": "ipython",
    "version": 3
   },
   "file_extension": ".py",
   "mimetype": "text/x-python",
   "name": "python",
   "nbconvert_exporter": "python",
   "pygments_lexer": "ipython3",
   "version": "3.9.7"
  },
  "orig_nbformat": 4
 },
 "nbformat": 4,
 "nbformat_minor": 2
}
