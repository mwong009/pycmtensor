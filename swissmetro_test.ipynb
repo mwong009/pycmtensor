{
 "cells": [
  {
   "cell_type": "code",
   "execution_count": 1,
   "metadata": {},
   "outputs": [],
   "source": [
    "import dill as pickle\n",
    "import aesara.tensor as aet\n",
    "import pandas as pd\n",
    "import pycmtensor as cmt\n",
    "from pycmtensor.pycmtensor import PyCMTensorModel, Beta, Weights\n",
    "from pycmtensor.functions import logit, neg_loglikelihood\n",
    "from pycmtensor.optimizers import Adam\n",
    "from pycmtensor.results import Results\n",
    "\n",
    "swissmetro = pd.read_csv(\"data/swissmetro.dat\", sep=\"\\t\")\n",
    "db = cmt.Database(\"swissmetro\", swissmetro, choiceVar=\"CHOICE\")\n",
    "globals().update(db.variables)\n",
    "# Removing some observations\n",
    "exclude = ((PURPOSE != 1) * (PURPOSE != 3) + (CHOICE == 0)) > 0\n",
    "db.remove(exclude)\n",
    "\n",
    "# additional steps to format database\n",
    "db.data[\"CHOICE\"] -= 1 # set the first choice to 0\n",
    "db.autoscale(variables=['TRAIN_CO', 'TRAIN_TT', 'CAR_CO', 'CAR_TT', \n",
    "    'SM_CO', 'SM_TT'], default=100., verbose=False)"
   ]
  },
  {
   "cell_type": "code",
   "execution_count": 2,
   "metadata": {},
   "outputs": [],
   "source": [
    "# import aesara\n",
    "# import aesara.tensor as aet\n",
    "# import numpy as np\n",
    "# from pycmtensor.pycmtensor import PyCMTensorModel, Beta, Weights\n",
    "# from aesara.tensor.random.utils import RandomStream\n",
    "# floatX = aesara.config.floatX\n",
    "# srng = RandomStream(seed=234)\n",
    "# rv_n = srng.normal(0, 1, size=(4,8))"
   ]
  },
  {
   "cell_type": "code",
   "execution_count": 3,
   "metadata": {},
   "outputs": [],
   "source": [
    "from aesara.tensor.random.utils import RandomStream\n",
    "\n",
    "class ResLogitLayer:\n",
    "    def __init__(self, input, w_in, w_out, activation_in=None, activation_out=None):\n",
    "        assert w_in.shape[1].eval() == w_out.shape[0].eval()\n",
    "        if isinstance(input, (list, tuple)):\n",
    "            assert len(input) == w_in.shape[0].eval(), f\"index.0 of w_in must be of the same length as input\"\n",
    "            input = aet.stacklists(input).flatten(2)\n",
    "\n",
    "        assert isinstance(w_in, (Weights)), \"w_in must be of type Weights\"\n",
    "        assert isinstance(w_out, (Weights)), \"w_out must be of type Weights\"\n",
    "        self.w_in = w_in()\n",
    "        self.w_out = w_out()\n",
    "        if activation_in == None:\n",
    "            activation_in = aet.sigmoid\n",
    "        if activation_out == None:\n",
    "            activation_out = aet.sigmoid\n",
    "            \n",
    "        h = activation_in(aet.dot(input.T, self.w_in))\n",
    "        output = activation_out(aet.dot(h, self.w_out)).T\n",
    "        self.input = input\n",
    "        self.weights = [self.w_in, self.w_out]\n",
    "        self.output = output + input\n",
    "\n",
    "    \n",
    "    def __repr__(self):\n",
    "        return f\"ResLogitLayer([{self.w_in.shape.eval()}, {self.w_out.shape.eval()}])\"\n",
    "\n",
    "\n",
    "class MNLmodel(PyCMTensorModel):\n",
    "    def __init__(self, db):\n",
    "        super().__init__(db)\n",
    "        self.name = \"myModel\"\n",
    "        self.inputs = db.tensors()  # keep track of inputs\n",
    "\n",
    "        # declare model params here\n",
    "        b_cost = Beta(\"b_cost\", 0.0, None, None, 0)\n",
    "        b_time = Beta(\"b_time\", 0.0, None, None, 0)\n",
    "        asc_train = Beta(\"asc_train\", 0.0, None, None, 0)\n",
    "        asc_car = Beta(\"asc_car\", 0.0, None, None, 0)\n",
    "        asc_sm = Beta(\"asc_sm\", 0.0, None, None, 1)\n",
    "\n",
    "        # b_time_s = Beta(\"b_time_s\", 0.0, None, None, 0)\n",
    "\n",
    "        W1 = Weights(\"ResNet_01a\", (3, 10), 0, True)\n",
    "        W2 = Weights(\"ResNet_01b\", (10, 3), 0, True)\n",
    "\n",
    "        # append model params to self.params list\n",
    "        self.append_to_params(locals())\n",
    "        # self.append_to_params([b_cost, b_time, asc_train, asc_car, asc_sm, W1, W2])\n",
    "\n",
    "        # Definition of the utility functions\n",
    "        # srng = RandomStream(seed=234)\n",
    "        # rv_n = srng.normal(0, 1, size=(20,))\n",
    "        # b_time_rnd = b_time + b_time_s * rv_n\n",
    "        U_1 = b_cost * db[\"TRAIN_CO\"] + b_time * db[\"TRAIN_TT\"] + asc_train\n",
    "        U_2 = b_cost * db[\"SM_CO\"] + b_time * db[\"SM_TT\"] + asc_sm\n",
    "        U_3 = b_cost * db[\"CAR_CO\"] + b_time * db[\"CAR_TT\"] + asc_car\n",
    "        U = [U_1, U_2, U_3]\n",
    "        # rh = ResLogitLayer(U, W1, W2)\n",
    "\n",
    "        # definition of the choice output\n",
    "        self.y = db[\"CHOICE\"]\n",
    "\n",
    "        # symbolic expression for the choice model\n",
    "        self.p_y_given_x = logit(U, [db[\"TRAIN_AV\"], db[\"SM_AV\"], db[\"CAR_AV\"]])\n",
    "        # self.p_y_given_x = logit(rh.output, [db[\"TRAIN_AV\"], db[\"SM_AV\"], db[\"CAR_AV\"]])\n",
    "\n",
    "        # declare Regularizers here:\n",
    "        # L1 regularization cost\n",
    "        self.L1 = abs(b_cost()) + abs(b_time())\n",
    "\n",
    "        # L2 regularization cost\n",
    "        self.L2 = b_cost() ** 2 + b_time() ** 2\n",
    "\n",
    "        # symbolic expression for the cost fuction\n",
    "        self.cost = neg_loglikelihood(self.p_y_given_x, self.y)\n",
    "        self.cost = self.cost\n",
    "\n",
    "        # symbolic description of how to compute prediction as class whose\n",
    "        # probability is maximal\n",
    "        self.pred = aet.argmax(self.p_y_given_x, axis=1)"
   ]
  },
  {
   "cell_type": "code",
   "execution_count": 4,
   "metadata": {},
   "outputs": [
    {
     "name": "stdout",
     "output_type": "stream",
     "text": [
      "Building model...\n",
      "dataset: swissmetro (6768)\n",
      "batch size: 256\n",
      "batches per epoch: 26\n",
      "validation frequency: 26\n",
      "\n",
      "Training model...\n"
     ]
    },
    {
     "name": "stderr",
     "output_type": "stream",
     "text": [
      "Loglikelihood:  -5623.073666  Score: 0.621\n",
      "Epoch    9/9: 100%|██████████| 234/234 [00:03<00:00, 78.0it/s, Patience=4%]"
     ]
    },
    {
     "name": "stdout",
     "output_type": "stream",
     "text": [
      "Optimization complete with accuracy of 62.086%\n",
      " with maximum loglikelihood reached @ epoch 7.\n"
     ]
    },
    {
     "name": "stderr",
     "output_type": "stream",
     "text": [
      "\n"
     ]
    },
    {
     "ename": "AssertionError",
     "evalue": "b_cost, ndim=0",
     "output_type": "error",
     "traceback": [
      "\u001b[1;31m---------------------------------------------------------------------------\u001b[0m",
      "\u001b[1;31mAssertionError\u001b[0m                            Traceback (most recent call last)",
      "\u001b[1;32m~\\AppData\\Local\\Temp/ipykernel_8596/2493076189.py\u001b[0m in \u001b[0;36m<module>\u001b[1;34m\u001b[0m\n\u001b[0;32m      5\u001b[0m     \u001b[0mmodel\u001b[0m \u001b[1;33m=\u001b[0m \u001b[0mpickle\u001b[0m\u001b[1;33m.\u001b[0m\u001b[0mload\u001b[0m\u001b[1;33m(\u001b[0m\u001b[0mf\u001b[0m\u001b[1;33m)\u001b[0m\u001b[1;33m\u001b[0m\u001b[1;33m\u001b[0m\u001b[0m\n\u001b[0;32m      6\u001b[0m \u001b[1;33m\u001b[0m\u001b[0m\n\u001b[1;32m----> 7\u001b[1;33m \u001b[0mresult\u001b[0m \u001b[1;33m=\u001b[0m \u001b[0mResults\u001b[0m\u001b[1;33m(\u001b[0m\u001b[0mmodel\u001b[0m\u001b[1;33m,\u001b[0m \u001b[0mdb\u001b[0m\u001b[1;33m,\u001b[0m \u001b[0mshow_weights\u001b[0m\u001b[1;33m=\u001b[0m\u001b[1;32mTrue\u001b[0m\u001b[1;33m)\u001b[0m\u001b[1;33m\u001b[0m\u001b[1;33m\u001b[0m\u001b[0m\n\u001b[0m",
      "\u001b[1;32mc:\\Users\\Melvin\\OneDrive - TU Eindhoven\\Lab\\pycmtensor\\pycmtensor\\results.py\u001b[0m in \u001b[0;36m__init__\u001b[1;34m(self, model, db, show_weights)\u001b[0m\n\u001b[0;32m     34\u001b[0m         \u001b[0mmax_loglike\u001b[0m \u001b[1;33m=\u001b[0m \u001b[0mmodel\u001b[0m\u001b[1;33m.\u001b[0m\u001b[0mbest_ll\u001b[0m\u001b[1;33m\u001b[0m\u001b[1;33m\u001b[0m\u001b[0m\n\u001b[0;32m     35\u001b[0m \u001b[1;33m\u001b[0m\u001b[0m\n\u001b[1;32m---> 36\u001b[1;33m         \u001b[0mself\u001b[0m\u001b[1;33m.\u001b[0m\u001b[0mbeta_results\u001b[0m \u001b[1;33m=\u001b[0m \u001b[0mget_beta_statistics\u001b[0m\u001b[1;33m(\u001b[0m\u001b[0mmodel\u001b[0m\u001b[1;33m,\u001b[0m \u001b[0mdb\u001b[0m\u001b[1;33m)\u001b[0m\u001b[1;33m\u001b[0m\u001b[1;33m\u001b[0m\u001b[0m\n\u001b[0m\u001b[0;32m     37\u001b[0m         \u001b[0mself\u001b[0m\u001b[1;33m.\u001b[0m\u001b[0mrho_square\u001b[0m \u001b[1;33m=\u001b[0m \u001b[0mnan2num\u001b[0m\u001b[1;33m(\u001b[0m\u001b[1;36m1.0\u001b[0m \u001b[1;33m-\u001b[0m \u001b[0mmax_loglike\u001b[0m \u001b[1;33m/\u001b[0m \u001b[0mnull_loglike\u001b[0m\u001b[1;33m)\u001b[0m\u001b[1;33m\u001b[0m\u001b[1;33m\u001b[0m\u001b[0m\n\u001b[0;32m     38\u001b[0m         \u001b[0mself\u001b[0m\u001b[1;33m.\u001b[0m\u001b[0mrho_square_bar\u001b[0m \u001b[1;33m=\u001b[0m \u001b[0mnan2num\u001b[0m\u001b[1;33m(\u001b[0m\u001b[1;36m1.0\u001b[0m \u001b[1;33m-\u001b[0m \u001b[1;33m(\u001b[0m\u001b[0mmax_loglike\u001b[0m \u001b[1;33m-\u001b[0m \u001b[0mk\u001b[0m\u001b[1;33m)\u001b[0m \u001b[1;33m/\u001b[0m \u001b[0mnull_loglike\u001b[0m\u001b[1;33m)\u001b[0m\u001b[1;33m\u001b[0m\u001b[1;33m\u001b[0m\u001b[0m\n",
      "\u001b[1;32mc:\\Users\\Melvin\\OneDrive - TU Eindhoven\\Lab\\pycmtensor\\pycmtensor\\results.py\u001b[0m in \u001b[0;36mget_beta_statistics\u001b[1;34m(model, db)\u001b[0m\n\u001b[0;32m     93\u001b[0m     H = aesara.function(\n\u001b[0;32m     94\u001b[0m         \u001b[0minputs\u001b[0m\u001b[1;33m=\u001b[0m\u001b[0mmodel\u001b[0m\u001b[1;33m.\u001b[0m\u001b[0minputs\u001b[0m\u001b[1;33m,\u001b[0m\u001b[1;33m\u001b[0m\u001b[1;33m\u001b[0m\u001b[0m\n\u001b[1;32m---> 95\u001b[1;33m         \u001b[0moutputs\u001b[0m\u001b[1;33m=\u001b[0m\u001b[0mhessians\u001b[0m\u001b[1;33m(\u001b[0m\u001b[0mmodel\u001b[0m\u001b[1;33m.\u001b[0m\u001b[0mp_y_given_x\u001b[0m\u001b[1;33m,\u001b[0m \u001b[0mmodel\u001b[0m\u001b[1;33m.\u001b[0m\u001b[0my\u001b[0m\u001b[1;33m,\u001b[0m \u001b[0mmodel\u001b[0m\u001b[1;33m.\u001b[0m\u001b[0mbeta_params\u001b[0m\u001b[1;33m)\u001b[0m\u001b[1;33m,\u001b[0m\u001b[1;33m\u001b[0m\u001b[1;33m\u001b[0m\u001b[0m\n\u001b[0m\u001b[0;32m     96\u001b[0m         \u001b[0mon_unused_input\u001b[0m\u001b[1;33m=\u001b[0m\u001b[1;34m\"ignore\"\u001b[0m\u001b[1;33m,\u001b[0m\u001b[1;33m\u001b[0m\u001b[1;33m\u001b[0m\u001b[0m\n\u001b[0;32m     97\u001b[0m     )\n",
      "\u001b[1;32mc:\\Users\\Melvin\\OneDrive - TU Eindhoven\\Lab\\pycmtensor\\pycmtensor\\functions.py\u001b[0m in \u001b[0;36mhessians\u001b[1;34m(prob, y, params)\u001b[0m\n\u001b[0;32m     62\u001b[0m     \u001b[0mparams\u001b[0m \u001b[1;33m=\u001b[0m \u001b[1;33m[\u001b[0m\u001b[0mp\u001b[0m\u001b[1;33m(\u001b[0m\u001b[1;33m)\u001b[0m \u001b[1;32mfor\u001b[0m \u001b[0mp\u001b[0m \u001b[1;32min\u001b[0m \u001b[0mparams\u001b[0m \u001b[1;32mif\u001b[0m \u001b[1;33m(\u001b[0m\u001b[0mp\u001b[0m\u001b[1;33m.\u001b[0m\u001b[0mstatus\u001b[0m \u001b[1;33m!=\u001b[0m \u001b[1;36m1\u001b[0m\u001b[1;33m)\u001b[0m\u001b[1;33m]\u001b[0m\u001b[1;33m\u001b[0m\u001b[1;33m\u001b[0m\u001b[0m\n\u001b[0;32m     63\u001b[0m     \u001b[1;32mfor\u001b[0m \u001b[0mp\u001b[0m \u001b[1;32min\u001b[0m \u001b[0mparams\u001b[0m\u001b[1;33m:\u001b[0m\u001b[1;33m\u001b[0m\u001b[1;33m\u001b[0m\u001b[0m\n\u001b[1;32m---> 64\u001b[1;33m         \u001b[1;32massert\u001b[0m \u001b[0mp\u001b[0m\u001b[1;33m.\u001b[0m\u001b[0mndim\u001b[0m \u001b[1;33m==\u001b[0m \u001b[1;36m2\u001b[0m\u001b[1;33m,\u001b[0m \u001b[1;34mf\"{p.name}, ndim={p.ndim}\"\u001b[0m\u001b[1;33m\u001b[0m\u001b[1;33m\u001b[0m\u001b[0m\n\u001b[0m\u001b[0;32m     65\u001b[0m     \u001b[0mgrads\u001b[0m \u001b[1;33m=\u001b[0m \u001b[0maet\u001b[0m\u001b[1;33m.\u001b[0m\u001b[0mgrad\u001b[0m\u001b[1;33m(\u001b[0m\u001b[0mfull_loglikelihood\u001b[0m\u001b[1;33m(\u001b[0m\u001b[0mprob\u001b[0m\u001b[1;33m,\u001b[0m \u001b[0my\u001b[0m\u001b[1;33m)\u001b[0m\u001b[1;33m,\u001b[0m \u001b[0mparams\u001b[0m\u001b[1;33m,\u001b[0m \u001b[0mdisconnected_inputs\u001b[0m\u001b[1;33m=\u001b[0m\u001b[1;34m\"ignore\"\u001b[0m\u001b[1;33m)\u001b[0m\u001b[1;33m\u001b[0m\u001b[1;33m\u001b[0m\u001b[0m\n\u001b[0;32m     66\u001b[0m     \u001b[0m_h\u001b[0m \u001b[1;33m=\u001b[0m \u001b[0maet\u001b[0m\u001b[1;33m.\u001b[0m\u001b[0mas_tensor_variable\u001b[0m\u001b[1;33m(\u001b[0m\u001b[0mnp\u001b[0m\u001b[1;33m.\u001b[0m\u001b[0mzeros\u001b[0m\u001b[1;33m(\u001b[0m\u001b[1;33m(\u001b[0m\u001b[0mlen\u001b[0m\u001b[1;33m(\u001b[0m\u001b[0mgrads\u001b[0m\u001b[1;33m)\u001b[0m\u001b[1;33m,\u001b[0m \u001b[0mlen\u001b[0m\u001b[1;33m(\u001b[0m\u001b[0mgrads\u001b[0m\u001b[1;33m)\u001b[0m\u001b[1;33m)\u001b[0m\u001b[1;33m)\u001b[0m\u001b[1;33m)\u001b[0m\u001b[1;33m\u001b[0m\u001b[1;33m\u001b[0m\u001b[0m\n",
      "\u001b[1;31mAssertionError\u001b[0m: b_cost, ndim=0"
     ]
    }
   ],
   "source": [
    "# train function\n",
    "model = cmt.train(MNLmodel, database=db, optimizer=Adam, batch_size=256, lr_init=0.01, max_epoch=999)\n",
    "        \n",
    "with open(\"myModel.pkl\", \"rb\") as f:\n",
    "    model = pickle.load(f)\n",
    "\n",
    "result = Results(model, db, show_weights=True)"
   ]
  },
  {
   "cell_type": "code",
   "execution_count": null,
   "metadata": {},
   "outputs": [],
   "source": []
  }
 ],
 "metadata": {
  "interpreter": {
   "hash": "da63d4e9fb59fde60e5c971c6a46911019e2bb62eca7ad51842ebf786c79b6c5"
  },
  "kernelspec": {
   "display_name": "Python 3.9.7 ('base')",
   "language": "python",
   "name": "python3"
  },
  "language_info": {
   "codemirror_mode": {
    "name": "ipython",
    "version": 3
   },
   "file_extension": ".py",
   "mimetype": "text/x-python",
   "name": "python",
   "nbconvert_exporter": "python",
   "pygments_lexer": "ipython3",
   "version": "3.9.7"
  },
  "orig_nbformat": 4
 },
 "nbformat": 4,
 "nbformat_minor": 2
}
