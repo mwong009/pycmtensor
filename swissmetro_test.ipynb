{
 "cells": [
  {
   "cell_type": "code",
   "execution_count": 1,
   "metadata": {},
   "outputs": [],
   "source": [
    "import dill as pickle\n",
    "import aesara.tensor as aet\n",
    "import pandas as pd\n",
    "import pycmtensor as cmt\n",
    "from pycmtensor.pycmtensor import PyCMTensorModel, Beta, Weights\n",
    "from pycmtensor.functions import logit, neg_loglikelihood\n",
    "from pycmtensor.optimizers import Adam\n",
    "from pycmtensor.results import Results\n",
    "\n",
    "swissmetro = pd.read_csv(\"data/swissmetro.dat\", sep=\"\\t\")\n",
    "db = cmt.Database(\"swissmetro\", swissmetro, choiceVar=\"CHOICE\")\n",
    "globals().update(db.variables)\n",
    "# Removing some observations\n",
    "exclude = ((PURPOSE != 1) * (PURPOSE != 3) + (CHOICE == 0)) > 0\n",
    "db.remove(exclude)\n",
    "\n",
    "# additional steps to format database\n",
    "db.data[\"CHOICE\"] -= 1 # set the first choice to 0\n",
    "db.autoscale(variables=['TRAIN_CO', 'TRAIN_TT', 'CAR_CO', 'CAR_TT', \n",
    "    'SM_CO', 'SM_TT'], default=100., verbose=False)"
   ]
  },
  {
   "cell_type": "code",
   "execution_count": 2,
   "metadata": {},
   "outputs": [],
   "source": [
    "# import aesara\n",
    "# import aesara.tensor as aet\n",
    "# import numpy as np\n",
    "# from pycmtensor.pycmtensor import PyCMTensorModel, Beta, Weights\n",
    "# from aesara.tensor.random.utils import RandomStream\n",
    "# floatX = aesara.config.floatX\n",
    "# srng = RandomStream(seed=234)\n",
    "# rv_n = srng.normal(0, 1, size=(4,8))"
   ]
  },
  {
   "cell_type": "code",
   "execution_count": 3,
   "metadata": {},
   "outputs": [],
   "source": [
    "from aesara.tensor.random.utils import RandomStream\n",
    "\n",
    "class ResLogitLayer:\n",
    "    def __init__(self, input, w_in, w_out, activation_in=None, activation_out=None):\n",
    "        assert w_in.shape[1].eval() == w_out.shape[0].eval()\n",
    "        if isinstance(input, (list, tuple)):\n",
    "            assert len(input) == w_in.shape[0].eval(), f\"index.0 of w_in must be of the same length as input\"\n",
    "            input = aet.stacklists(input).flatten(2)\n",
    "\n",
    "        assert isinstance(w_in, (Weights)), \"w_in must be of type Weights\"\n",
    "        assert isinstance(w_out, (Weights)), \"w_out must be of type Weights\"\n",
    "        self.w_in = w_in()\n",
    "        self.w_out = w_out()\n",
    "        if activation_in == None:\n",
    "            activation_in = aet.sigmoid\n",
    "        if activation_out == None:\n",
    "            activation_out = aet.sigmoid\n",
    "            \n",
    "        h = activation_in(aet.dot(input.T, self.w_in))\n",
    "        output = activation_out(aet.dot(h, self.w_out)).T\n",
    "        self.input = input\n",
    "        self.weights = [self.w_in, self.w_out]\n",
    "        self.output = output + input\n",
    "\n",
    "    \n",
    "    def __repr__(self):\n",
    "        return f\"ResLogitLayer([{self.w_in.shape.eval()}, {self.w_out.shape.eval()}])\"\n",
    "\n",
    "\n",
    "class MNLmodel(PyCMTensorModel):\n",
    "    def __init__(self, db):\n",
    "        super().__init__(db)\n",
    "        self.name = \"myModel\"\n",
    "        self.inputs = db.tensors()  # keep track of inputs\n",
    "\n",
    "        # declare model params here\n",
    "        b_cost = Beta(\"b_cost\", 0.0, None, None, 0)\n",
    "        b_time = Beta(\"b_time\", 0.0, None, None, 0)\n",
    "        asc_train = Beta(\"asc_train\", 0.0, None, None, 0)\n",
    "        asc_car = Beta(\"asc_car\", 0.0, None, None, 0)\n",
    "        asc_sm = Beta(\"asc_sm\", 0.0, None, None, 1)\n",
    "\n",
    "        # b_time_s = Beta(\"b_time_s\", 0.0, None, None, 0)\n",
    "\n",
    "        W1 = Weights(\"ResNet_01a\", (3, 10), 0, True)\n",
    "        W2 = Weights(\"ResNet_01b\", (10, 3), 0, True)\n",
    "\n",
    "        # append model params to self.params list\n",
    "        self.append_to_params(locals())\n",
    "        # self.append_to_params([b_cost, b_time, asc_train, asc_car, asc_sm, W1, W2])\n",
    "\n",
    "        # Definition of the utility functions\n",
    "        # srng = RandomStream(seed=234)\n",
    "        # rv_n = srng.normal(0, 1, size=(20,))\n",
    "        # b_time_rnd = b_time + b_time_s * rv_n\n",
    "        U_1 = b_cost * db[\"TRAIN_CO\"] + b_time * db[\"TRAIN_TT\"] + asc_train\n",
    "        U_2 = b_cost * db[\"SM_CO\"] + b_time * db[\"SM_TT\"] + asc_sm\n",
    "        U_3 = b_cost * db[\"CAR_CO\"] + b_time * db[\"CAR_TT\"] + asc_car\n",
    "        U = [U_1, U_2, U_3]\n",
    "        # rh = ResLogitLayer(U, W1, W2)\n",
    "\n",
    "        # definition of the choice output\n",
    "        self.y = db[\"CHOICE\"]\n",
    "\n",
    "        # symbolic expression for the choice model\n",
    "        self.p_y_given_x = logit(U, [db[\"TRAIN_AV\"], db[\"SM_AV\"], db[\"CAR_AV\"]])\n",
    "        # self.p_y_given_x = logit(rh.output, [db[\"TRAIN_AV\"], db[\"SM_AV\"], db[\"CAR_AV\"]])\n",
    "\n",
    "        # declare Regularizers here:\n",
    "        # L1 regularization cost\n",
    "        self.L1 = abs(b_cost()) + abs(b_time())\n",
    "\n",
    "        # L2 regularization cost\n",
    "        self.L2 = b_cost() ** 2 + b_time() ** 2\n",
    "\n",
    "        # symbolic expression for the cost fuction\n",
    "        self.cost = neg_loglikelihood(self.p_y_given_x, self.y)\n",
    "        self.cost = self.cost\n",
    "\n",
    "        # symbolic description of how to compute prediction as class whose\n",
    "        # probability is maximal\n",
    "        self.pred = aet.argmax(self.p_y_given_x, axis=1)"
   ]
  },
  {
   "cell_type": "code",
   "execution_count": 4,
   "metadata": {},
   "outputs": [
    {
     "name": "stdout",
     "output_type": "stream",
     "text": [
      "Building model...\n",
      "dataset: swissmetro (6768)\n",
      "batch size: 256\n",
      "batches per epoch: 26\n",
      "validation frequency: 26\n",
      "\n",
      "Training model...\n"
     ]
    },
    {
     "name": "stderr",
     "output_type": "stream",
     "text": [
      "Loglikelihood:  -5590.553517  Score: 0.625\n",
      "Epoch  231/999:  23%|██▎       | 6.00k/26.0k [00:55<03:03, 109it/s, Patience=100%] "
     ]
    },
    {
     "name": "stdout",
     "output_type": "stream",
     "text": [
      "Estimation reached maximum patience. Early stopping...\n",
      "Optimization complete with accuracy of 62.515%\n",
      " with maximum loglikelihood reached @ epoch 63.\n"
     ]
    },
    {
     "name": "stderr",
     "output_type": "stream",
     "text": [
      "\n"
     ]
    },
    {
     "name": "stdout",
     "output_type": "stream",
     "text": [
      "Results for model myModel\n",
      "Number of Beta parameters: 4\n",
      "Total size of Neural Net weights: 60\n",
      "Sample size: 6768\n",
      "Init loglikelihood: -6964.663\n",
      "Final loglikelihood: -5590.554\n",
      "Likelihood ratio test: 2748.219\n",
      "Accuracy: 62.515%\n",
      "Rho square: 0.197\n",
      "Rho bar square: 0.188\n",
      "Akaike Information Criterion: 11309.11\n",
      "Bayesian Information Criterion: 11745.58\n",
      "Final gradient norm: 0.094\n",
      "\n",
      "              Value   Std err     t-test   p-value Rob. Std err Rob. t-test Rob. p-value\n",
      "asc_car    0.143312  0.042173   3.398236  0.000678     0.070008    2.047089     0.040649\n",
      "asc_sm          0.0         -          -         -            -           -            -\n",
      "asc_train -0.615213  0.055089 -11.167529       0.0      0.00592  -103.91256          0.0\n",
      "b_cost      0.01162  0.002706   4.293341  0.000018     0.005419     2.14435     0.032005\n",
      "b_time    -1.191483  0.054493 -21.864821       0.0     0.036076  -33.027129          0.0 \n",
      "\n",
      "ResNet_01a (3, 10) init: random\n",
      "[[ 0.61761811 -0.01517801  0.22115592  0.34349752  0.35260468 -0.60086476\n",
      "  -0.3444114  -0.61220671  0.50376505  0.11857459]\n",
      " [-0.46334961  0.54183624  0.66629867 -0.44386395 -0.29932865  0.51735276\n",
      "  -0.07077262  0.16796268 -0.23036239  0.31832725]\n",
      " [-0.02527688 -0.05016821 -0.66691522 -0.30843398  0.02336447 -0.45024424\n",
      "   0.03895169 -0.49139938 -0.28166063  0.65539753]]\n",
      "\n",
      "ResNet_01b (10, 3) init: random\n",
      "[[-0.45926549  0.29337799 -0.46043261]\n",
      " [ 0.66399025  0.57564825  0.54865043]\n",
      " [-0.29983247  0.44090928 -0.31046391]\n",
      " [ 0.32409533  0.32421129  0.16577492]\n",
      " [-0.13090878  0.51703805 -0.00767515]\n",
      " [ 0.29957511  0.09201399 -0.1913418 ]\n",
      " [ 0.21373479 -0.06412012  0.65941399]\n",
      " [ 0.36748528 -0.20112028 -0.48449905]\n",
      " [ 0.1994821   0.47779735 -0.01186309]\n",
      " [ 0.61953591 -0.44441345  0.12572147]]\n",
      "\n"
     ]
    }
   ],
   "source": [
    "# train function\n",
    "model = cmt.train(MNLmodel, database=db, optimizer=Adam, batch_size=256, lr_init=0.01, max_epoch=999)\n",
    "        \n",
    "with open(\"myModel.pkl\", \"rb\") as f:\n",
    "    model = pickle.load(f)\n",
    "\n",
    "result = Results(model, db, show_weights=True)"
   ]
  },
  {
   "cell_type": "code",
   "execution_count": null,
   "metadata": {},
   "outputs": [],
   "source": []
  }
 ],
 "metadata": {
  "interpreter": {
   "hash": "da63d4e9fb59fde60e5c971c6a46911019e2bb62eca7ad51842ebf786c79b6c5"
  },
  "kernelspec": {
   "display_name": "Python 3.9.7 ('base')",
   "language": "python",
   "name": "python3"
  },
  "language_info": {
   "codemirror_mode": {
    "name": "ipython",
    "version": 3
   },
   "file_extension": ".py",
   "mimetype": "text/x-python",
   "name": "python",
   "nbconvert_exporter": "python",
   "pygments_lexer": "ipython3",
   "version": "3.9.7"
  },
  "orig_nbformat": 4
 },
 "nbformat": 4,
 "nbformat_minor": 2
}
