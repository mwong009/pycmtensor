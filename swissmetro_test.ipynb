{
 "cells": [
  {
   "cell_type": "code",
   "execution_count": 1,
   "metadata": {},
   "outputs": [],
   "source": [
    "import dill as pickle\n",
    "import aesara.tensor as aet\n",
    "import pandas as pd\n",
    "import pycmtensor as cmt\n",
    "from pycmtensor.pycmtensor import PyCMTensorModel, Beta, Weights\n",
    "from pycmtensor.functions import logit, neg_loglikelihood\n",
    "from pycmtensor.optimizers import Adam\n",
    "from pycmtensor.results import Results\n",
    "\n",
    "swissmetro = pd.read_csv(\"data/swissmetro.dat\", sep=\"\\t\")\n",
    "db = cmt.Database(\"swissmetro\", swissmetro, choiceVar=\"CHOICE\")\n",
    "globals().update(db.variables)\n",
    "# Removing some observations\n",
    "exclude = ((PURPOSE != 1) * (PURPOSE != 3) + (CHOICE == 0)) > 0\n",
    "db.remove(exclude)\n",
    "\n",
    "# additional steps to format database\n",
    "db.data[\"CHOICE\"] -= 1 # set the first choice to 0\n",
    "db.autoscale(variables=['TRAIN_CO', 'TRAIN_TT', 'CAR_CO', 'CAR_TT', \n",
    "    'SM_CO', 'SM_TT'], default=100., verbose=False)"
   ]
  },
  {
   "cell_type": "code",
   "execution_count": 2,
   "metadata": {},
   "outputs": [],
   "source": [
    "from aesara.tensor.random.utils import RandomStream\n",
    "\n",
    "class ResLogitLayer:\n",
    "    def __init__(self, input, w_in, w_out, activation_in=None, activation_out=None):\n",
    "        assert w_in.shape[1].eval() == w_out.shape[0].eval()\n",
    "        if isinstance(input, (list, tuple)):\n",
    "            assert len(input) == w_in.shape[0].eval(), f\"index.0 of w_in must be of the same length as input\"\n",
    "            input = aet.stacklists(input).flatten(2)\n",
    "\n",
    "        assert isinstance(w_in, (Weights)), \"w_in must be of type Weights\"\n",
    "        assert isinstance(w_out, (Weights)), \"w_out must be of type Weights\"\n",
    "        self.w_in = w_in()\n",
    "        self.w_out = w_out()\n",
    "        if activation_in == None:\n",
    "            activation_in = aet.sigmoid\n",
    "        if activation_out == None:\n",
    "            activation_out = aet.sigmoid\n",
    "            \n",
    "        h = activation_in(aet.dot(input.T, self.w_in))\n",
    "        output = activation_out(aet.dot(h, self.w_out)).T\n",
    "        self.input = input\n",
    "        self.weights = [self.w_in, self.w_out]\n",
    "        self.output = output + input\n",
    "\n",
    "    \n",
    "    def __repr__(self):\n",
    "        return f\"ResLogitLayer([{self.w_in.shape.eval()}, {self.w_out.shape.eval()}])\"\n",
    "\n",
    "\n",
    "class MNLmodel(PyCMTensorModel):\n",
    "    def __init__(self, db):\n",
    "        super().__init__(db)\n",
    "        self.name = \"myModel\"\n",
    "        self.inputs = db.tensors()  # keep track of inputs\n",
    "\n",
    "        # declare model params here\n",
    "        b_cost = Beta(\"b_cost\", 0.0, None, None, 0)\n",
    "        b_time = Beta(\"b_time\", 0.0, None, None, 0)\n",
    "        asc_train = Beta(\"asc_train\", 0.0, None, None, 0)\n",
    "        asc_car = Beta(\"asc_car\", 0.0, None, None, 0)\n",
    "        asc_sm = Beta(\"asc_sm\", 0.0, None, None, 1)\n",
    "\n",
    "        # b_time_s = Beta(\"b_time_s\", 0.0, None, None, 0)\n",
    "\n",
    "        W1 = Weights(\"ResNet_01a\", (3, 10), 0, True)\n",
    "        W2 = Weights(\"ResNet_01b\", (10, 3), 0, True)\n",
    "\n",
    "        # append model params to self.params list\n",
    "        self.append_to_params(locals())\n",
    "        # self.append_to_params([b_cost, b_time, asc_train, asc_car, asc_sm, W1, W2])\n",
    "\n",
    "        # Definition of the utility functions\n",
    "        # srng = RandomStream(seed=234)\n",
    "        # rv_n = srng.normal(0, 1, size=(20,))\n",
    "        # b_time_rnd = b_time + b_time_s * rv_n\n",
    "        U_1 = b_cost * db[\"TRAIN_CO\"] + b_time * db[\"TRAIN_TT\"] + asc_train\n",
    "        U_2 = b_cost * db[\"SM_CO\"] + b_time * db[\"SM_TT\"] + asc_sm\n",
    "        U_3 = b_cost * db[\"CAR_CO\"] + b_time * db[\"CAR_TT\"] + asc_car\n",
    "        U = [U_1, U_2, U_3]\n",
    "        # rh = ResLogitLayer(U, W1, W2)\n",
    "\n",
    "        # definition of the choice output\n",
    "        self.y = db[\"CHOICE\"]\n",
    "\n",
    "        # symbolic expression for the choice model\n",
    "        self.p_y_given_x = logit(U, [db[\"TRAIN_AV\"], db[\"SM_AV\"], db[\"CAR_AV\"]])\n",
    "        # self.p_y_given_x = logit(rh.output, [db[\"TRAIN_AV\"], db[\"SM_AV\"], db[\"CAR_AV\"]])\n",
    "\n",
    "        # declare Regularizers here:\n",
    "        # L1 regularization cost\n",
    "        self.L1 = abs(b_cost()) + abs(b_time())\n",
    "\n",
    "        # L2 regularization cost\n",
    "        self.L2 = b_cost() ** 2 + b_time() ** 2\n",
    "\n",
    "        # symbolic expression for the cost fuction\n",
    "        self.cost = neg_loglikelihood(self.p_y_given_x, self.y)\n",
    "        self.cost = self.cost\n",
    "\n",
    "        # symbolic description of how to compute prediction as class whose\n",
    "        # probability is maximal\n",
    "        self.pred = aet.argmax(self.p_y_given_x, axis=0)"
   ]
  },
  {
   "cell_type": "code",
   "execution_count": 3,
   "metadata": {},
   "outputs": [
    {
     "name": "stdout",
     "output_type": "stream",
     "text": [
      "Building model...\n",
      "dataset: swissmetro (6768)\n",
      "batch size: 256\n",
      "batches per epoch: 26\n",
      "validation frequency: 26\n",
      "\n",
      "Training model...\n"
     ]
    },
    {
     "name": "stderr",
     "output_type": "stream",
     "text": [
      "Loglikelihood:  -5623.073666  Score: 0.621\n",
      "Epoch    9/9: 100%|██████████| 234/234 [00:02<00:00, 104it/s, Patience=4%]"
     ]
    },
    {
     "name": "stdout",
     "output_type": "stream",
     "text": [
      "Optimization complete with accuracy of 62.086%\n",
      " with maximum loglikelihood reached @ epoch 7.\n"
     ]
    },
    {
     "name": "stderr",
     "output_type": "stream",
     "text": [
      "\n"
     ]
    },
    {
     "name": "stdout",
     "output_type": "stream",
     "text": [
      "Results for model myModel\n",
      "Number of Beta parameters: 4\n",
      "Total size of Neural Net weights: 60\n",
      "Sample size: 6768\n",
      "Init loglikelihood: -6964.663\n",
      "Final loglikelihood: -5623.074\n",
      "Likelihood ratio test: 2683.179\n",
      "Accuracy: 62.086%\n",
      "Rho square: 0.193\n",
      "Rho bar square: 0.183\n",
      "Akaike Information Criterion: 11374.15\n",
      "Bayesian Information Criterion: 11810.62\n",
      "Final gradient norm: 0.602\n",
      "\n",
      "              Value   Std err     t-test   p-value Rob. Std err Rob. t-test Rob. p-value\n",
      "asc_car   -0.106922  0.041725   -2.56254  0.010391     0.167764   -0.637336     0.523906\n",
      "asc_sm          0.0         -          -         -            -           -            -\n",
      "asc_train -0.606735  0.051642 -11.748786       0.0     0.006604  -91.878561          0.0\n",
      "b_cost    -0.018055  0.002487  -7.260799       0.0     0.024045   -0.750898     0.452714\n",
      "b_time    -0.858922  0.050486 -17.012917       0.0     0.265913   -3.230083     0.001238 \n",
      "\n",
      "ResNet_01a (3, 10) init: random\n",
      "[[ 0.50764229  0.49684529  0.54017006  0.07002042  0.12731928 -0.15083491\n",
      "  -0.03161033  0.24245862 -0.26788839 -0.40698308]\n",
      " [-0.16626126  0.16950698  0.15479785  0.27497648  0.24630842  0.15130736\n",
      "   0.45299809  0.05510487  0.52095404 -0.18954691]\n",
      " [-0.0624701  -0.3486804  -0.55231322 -0.09809914 -0.16535631 -0.01043179\n",
      "   0.1057704   0.55407602  0.60412448 -0.38213209]]\n",
      "\n",
      "ResNet_01b (10, 3) init: random\n",
      "[[-0.41203026  0.37267368  0.23127553]\n",
      " [ 0.11394307 -0.29422339 -0.17223949]\n",
      " [-0.60169521 -0.65436133  0.66779561]\n",
      " [ 0.36462911  0.43386827 -0.47505681]\n",
      " [-0.17216093 -0.00646031 -0.61143111]\n",
      " [-0.27928553  0.25717061 -0.39902657]\n",
      " [ 0.22053965 -0.18093809 -0.16154414]\n",
      " [ 0.47066278  0.36979575  0.33045462]\n",
      " [ 0.66238754  0.18440268  0.23916811]\n",
      " [-0.24694007  0.50113032  0.67928611]]\n",
      "\n"
     ]
    }
   ],
   "source": [
    "# train function\n",
    "model = cmt.train(MNLmodel, database=db, optimizer=Adam, batch_size=256, lr_init=0.01, max_epoch=9, notebook=True)\n",
    "        \n",
    "with open(\"myModel.pkl\", \"rb\") as f:\n",
    "    model = pickle.load(f)\n",
    "\n",
    "result = Results(model, db, show_weights=True)"
   ]
  },
  {
   "cell_type": "code",
   "execution_count": 4,
   "metadata": {},
   "outputs": [
    {
     "data": {
      "text/plain": [
       "array([1, 1, 1, ..., 1, 1, 1], dtype=int64)"
      ]
     },
     "execution_count": 4,
     "metadata": {},
     "output_type": "execute_result"
    }
   ],
   "source": [
    "model.output_choices(*db.input_data())"
   ]
  }
 ],
 "metadata": {
  "interpreter": {
   "hash": "da63d4e9fb59fde60e5c971c6a46911019e2bb62eca7ad51842ebf786c79b6c5"
  },
  "kernelspec": {
   "display_name": "Python 3.9.7 ('base')",
   "language": "python",
   "name": "python3"
  },
  "language_info": {
   "codemirror_mode": {
    "name": "ipython",
    "version": 3
   },
   "file_extension": ".py",
   "mimetype": "text/x-python",
   "name": "python",
   "nbconvert_exporter": "python",
   "pygments_lexer": "ipython3",
   "version": "3.9.7"
  },
  "orig_nbformat": 4
 },
 "nbformat": 4,
 "nbformat_minor": 2
}
