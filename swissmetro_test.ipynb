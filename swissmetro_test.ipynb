{
 "cells": [
  {
   "cell_type": "code",
   "execution_count": 1,
   "metadata": {},
   "outputs": [],
   "source": [
    "import dill as pickle\n",
    "import aesara.tensor as aet\n",
    "import pandas as pd\n",
    "import pycmtensor as cmt\n",
    "from pycmtensor.pycmtensor import PyCMTensorModel, Beta, Weights\n",
    "from pycmtensor.functions import logit, neg_loglikelihood\n",
    "from pycmtensor.optimizers import Adam\n",
    "from pycmtensor.results import Results\n",
    "\n",
    "swissmetro = pd.read_csv(\"data/swissmetro.dat\", sep=\"\\t\")\n",
    "db = cmt.Database(\"swissmetro\", swissmetro, choiceVar=\"CHOICE\")\n",
    "\n",
    "# Removing some observations\n",
    "exclude = ((db.variables[\"PURPOSE\"] != 1) * (db.variables[\"PURPOSE\"] != 3) + (db.variables[\"CHOICE\"] == 0)) > 0\n",
    "db.remove(exclude)\n",
    "\n",
    "# additional steps to format database\n",
    "db.data[\"CHOICE\"] -= 1 # set the first choice to 0\n",
    "db.autoscale(variables=['TRAIN_CO', 'TRAIN_TT', 'CAR_CO', 'CAR_TT', \n",
    "    'SM_CO', 'SM_TT'], default=100., verbose=False)"
   ]
  },
  {
   "cell_type": "code",
   "execution_count": 2,
   "metadata": {},
   "outputs": [],
   "source": [
    "class ResLogitLayer:\n",
    "    def __init__(self, input, w_in, w_out, activation_in=None, activation_out=None):\n",
    "        assert w_in.shape.eval()[1] == w_out.shape.eval()[0]\n",
    "        if isinstance(input, (list, tuple)):\n",
    "            assert len(input) == w_in.shape.eval()[0], f\"index.0 of w_in must be of the same length as input\"\n",
    "            input = aet.concatenate(input, axis=1)\n",
    "\n",
    "        assert isinstance(w_in, (Weights)), \"w_in must be of type Weights\"\n",
    "        assert isinstance(w_out, (Weights)), \"w_out must be of type Weights\"\n",
    "        self.w_in = w_in()\n",
    "        self.w_out = w_out()\n",
    "            \n",
    "        h = aet.sigmoid(aet.dot(input, self.w_in))\n",
    "        output = aet.sigmoid(aet.dot(h, self.w_out))\n",
    "        self.input = input\n",
    "        self.weights = [self.w_in, self.w_out]\n",
    "        self.output = output + input\n",
    "\n",
    "    \n",
    "    def __repr__(self):\n",
    "        return f\"ResLogitLayer([{self.w_in.shape.eval()}, {self.w_out.shape.eval()}])\"\n",
    "\n",
    "\n",
    "class MNLmodel(PyCMTensorModel):\n",
    "    def __init__(self, db):\n",
    "        super().__init__()\n",
    "        self.name = \"myModel\"\n",
    "        self.inputs = db.inputs()  # keep track of inputs\n",
    "\n",
    "        # update global variables from database\n",
    "        for var in self.inputs:\n",
    "            globals().update({var.name: var})\n",
    "\n",
    "        # declare model params here\n",
    "        b_cost = Beta(\"b_cost\", 0.0, None, None, 0)\n",
    "        b_time = Beta(\"b_time\", 0.0, None, None, 0)\n",
    "        asc_train = Beta(\"asc_train\", 0.0, None, None, 0)\n",
    "        asc_car = Beta(\"asc_car\", 0.0, None, None, 0)\n",
    "        asc_sm = Beta(\"asc_sm\", 0.0, None, None, 1)\n",
    "\n",
    "        W1 = Weights(\"ResNet_01a\", (3, 10), 0, True)\n",
    "        W2 = Weights(\"ResNet_01b\", (10, 3), 0, True)\n",
    "\n",
    "        # append model params to self.params list\n",
    "        self.append_to_params(locals())\n",
    "        # self.append_to_params([b_cost, b_time, asc_train, asc_car, asc_sm, W1, W2])\n",
    "\n",
    "        # Definition of the utility functions\n",
    "        U_1 = b_cost * TRAIN_CO + b_time * TRAIN_TT + asc_train\n",
    "        U_2 = b_cost * SM_CO + b_time * SM_TT + asc_sm\n",
    "        U_3 = b_cost * CAR_CO + b_time * CAR_TT + asc_car\n",
    "        U = [U_1, U_2, U_3]\n",
    "        rh = ResLogitLayer(U, W1, W2)\n",
    "\n",
    "        # definition of the choice output\n",
    "        self.y = CHOICE\n",
    "\n",
    "        # symbolic expression for the choice model\n",
    "        self.p_y_given_x = logit(rh.output, [TRAIN_AV, SM_AV, CAR_AV])\n",
    "\n",
    "        # declare Regularizers here:\n",
    "        # L1 regularization cost\n",
    "        self.L1 = abs(b_cost()) + abs(b_time())\n",
    "\n",
    "        # L2 regularization cost\n",
    "        self.L2 = b_cost() ** 2 + b_time() ** 2\n",
    "\n",
    "        # symbolic expression for the cost fuction\n",
    "        self.cost = neg_loglikelihood(self.p_y_given_x, self.y)\n",
    "        self.cost = self.cost\n",
    "\n",
    "        # symbolic description of how to compute prediction as class whose\n",
    "        # probability is maximal\n",
    "        self.pred = aet.argmax(self.p_y_given_x, axis=1)"
   ]
  },
  {
   "cell_type": "code",
   "execution_count": 3,
   "metadata": {},
   "outputs": [
    {
     "name": "stdout",
     "output_type": "stream",
     "text": [
      "Building model...\n",
      "dataset: swissmetro (6768)\n",
      "batch size: 256\n",
      "batches per epoch: 26\n",
      "validation frequency: 26\n",
      "\n",
      "Training model...\n"
     ]
    },
    {
     "name": "stderr",
     "output_type": "stream",
     "text": [
      "Loglikelihood:  -5662.390045  Score: 0.610\n",
      "Epoch    3/3: 100%|██████████| 78.0/78.0 [00:03<00:00, 25.6it/s, Patience=1%]"
     ]
    },
    {
     "name": "stdout",
     "output_type": "stream",
     "text": [
      "Optimization complete with accuracy of 61.229%\n",
      " with maximum loglikelihood reached @ epoch 4.\n"
     ]
    },
    {
     "name": "stderr",
     "output_type": "stream",
     "text": [
      "\n"
     ]
    },
    {
     "name": "stdout",
     "output_type": "stream",
     "text": [
      "Results for model myModel\n",
      "Number of Beta parameters: 4\n",
      "Total size of Neural Net weights: 60\n",
      "Sample size: 6768\n",
      "Init loglikelihood: -6935.135\n",
      "Final loglikelihood: -5662.390\n",
      "Likelihood ratio test: 2545.489\n",
      "Accuracy: 61.008%\n",
      "Rho square: 0.184\n",
      "Rho bar square: 0.174\n",
      "Akaike Information Criterion: 11452.78\n",
      "Bayesian Information Criterion: 11889.26\n",
      "Final gradient norm: 0.152\n",
      "\n",
      "              Value   Std err     t-test   p-value Rob. Std err Rob. t-test Rob. p-value\n",
      "asc_car    0.024409  0.039074    0.62468  0.532181     0.292541    0.083438     0.933504\n",
      "asc_sm          0.0         -          -         -            -           -            -\n",
      "asc_train -0.401266  0.051592  -7.777741       0.0       0.5733   -0.699923     0.483976\n",
      "b_cost     0.005662   0.00296   1.912478  0.055815     0.010247    0.552524      0.58059\n",
      "b_time    -0.466838  0.042857 -10.892865       0.0     0.526514   -0.886659     0.375263 \n",
      "\n",
      "ResNet_01a (3, 10) init: random\n",
      "[[-0.29701441  0.01695761  0.33581889  0.34770798  0.78708886 -1.08045196\n",
      "   0.04573259 -0.88036919 -0.30892893 -0.12614039]\n",
      " [-0.41818504 -0.43158418  0.74721053 -0.30563975  0.07085685  0.25093819\n",
      "  -0.2621014  -0.08150492 -0.82466123 -0.63348285]\n",
      " [-1.0059768  -0.01369828  0.05385673  0.33724823  0.27356066 -0.61969709\n",
      "   0.68410467 -0.58621609 -0.95304611  0.07182082]]\n",
      "\n",
      "ResNet_01b (10, 3) init: random\n",
      "[[-0.31726576  0.81079226  0.01046171]\n",
      " [-0.47281747  0.738848    0.71719809]\n",
      " [ 0.137866    0.00986805 -0.30443359]\n",
      " [ 0.14080974  0.57461136 -0.38047345]\n",
      " [ 0.35784816 -0.30314172  0.61387376]\n",
      " [-1.00315569  0.24034732 -0.23660792]\n",
      " [-0.00570623 -0.30900375  0.56355123]\n",
      " [-0.86591078  0.72845956 -0.51276306]\n",
      " [-0.23943068  0.55111986  0.39024047]\n",
      " [-0.96708679  0.13816117  0.6921054 ]]\n",
      "\n"
     ]
    }
   ],
   "source": [
    "# train function\n",
    "model = cmt.train(MNLmodel, db, optimizer=Adam, batch_size=256, lr_init=0.01, max_epoch=3)\n",
    "        \n",
    "with open(\"myModel.pkl\", \"rb\") as f:\n",
    "    model = pickle.load(f)\n",
    "\n",
    "result = Results(model, db, show_weights=True)"
   ]
  },
  {
   "cell_type": "code",
   "execution_count": null,
   "metadata": {},
   "outputs": [],
   "source": []
  }
 ],
 "metadata": {
  "interpreter": {
   "hash": "da63d4e9fb59fde60e5c971c6a46911019e2bb62eca7ad51842ebf786c79b6c5"
  },
  "kernelspec": {
   "display_name": "Python 3.9.7 ('base')",
   "language": "python",
   "name": "python3"
  },
  "language_info": {
   "codemirror_mode": {
    "name": "ipython",
    "version": 3
   },
   "file_extension": ".py",
   "mimetype": "text/x-python",
   "name": "python",
   "nbconvert_exporter": "python",
   "pygments_lexer": "ipython3",
   "version": "3.9.7"
  },
  "orig_nbformat": 4
 },
 "nbformat": 4,
 "nbformat_minor": 2
}
