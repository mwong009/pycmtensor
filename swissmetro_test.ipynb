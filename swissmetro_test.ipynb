{
 "cells": [
  {
   "cell_type": "code",
   "execution_count": 1,
   "metadata": {},
   "outputs": [],
   "source": [
    "import dill as pickle\n",
    "import aesara.tensor as aet\n",
    "import pandas as pd\n",
    "import pycmtensor as cmt\n",
    "from pycmtensor.pycmtensor import PyCMTensorModel, Beta, Weights\n",
    "from pycmtensor.functions import logit, neg_loglikelihood\n",
    "from pycmtensor.optimizers import Adam\n",
    "from pycmtensor.results import Results\n",
    "\n",
    "swissmetro = pd.read_csv(\"data/swissmetro.dat\", sep=\"\\t\")\n",
    "db = cmt.Database(\"swissmetro\", swissmetro, choiceVar=\"CHOICE\")"
   ]
  },
  {
   "cell_type": "code",
   "execution_count": 2,
   "metadata": {},
   "outputs": [],
   "source": [
    "# Removing some observations\n",
    "exclude = ((db.variables[\"PURPOSE\"] != 1) * (db.variables[\"PURPOSE\"] != 3) + (db.variables[\"CHOICE\"] == 0)) > 0\n",
    "db.remove(exclude)\n",
    "\n",
    "# additional steps to format database\n",
    "db.data[\"CHOICE\"] -= 1 # set the first choice to 0\n",
    "db.autoscale(variables=['TRAIN_CO', 'TRAIN_TT', 'CAR_CO', 'CAR_TT', \n",
    "    'SM_CO', 'SM_TT'], default=100., verbose=False)\n",
    "\n",
    "\n",
    "class ResLogitLayer:\n",
    "    def __init__(self, input, w_in, w_out, activation_in=None, activation_out=None):\n",
    "        assert w_in.shape.eval()[1] == w_out.shape.eval()[0]\n",
    "        if isinstance(input, (list, tuple)):\n",
    "            assert len(input) == w_in.shape.eval()[0], f\"index.0 of w_in must be of the same length as input\"\n",
    "            input = aet.concatenate(input, axis=1)\n",
    "\n",
    "        assert isinstance(w_in, (Weights)), \"w_in must be of type Weights\"\n",
    "        assert isinstance(w_out, (Weights)), \"w_out must be of type Weights\"\n",
    "        self.w_in = w_in()\n",
    "        self.w_out = w_out()\n",
    "            \n",
    "        h = aet.sigmoid(aet.dot(input, self.w_in))\n",
    "        output = aet.sigmoid(aet.dot(h, self.w_out))\n",
    "        self.input = input\n",
    "        self.weights = [self.w_in, self.w_out]\n",
    "        self.output = output + input\n",
    "\n",
    "    \n",
    "    def __repr__(self):\n",
    "        return f\"ResLogitLayer([{self.w_in.shape.eval()}, {self.w_out.shape.eval()}])\"\n",
    "\n",
    "\n",
    "class MNLmodel(PyCMTensorModel):\n",
    "    def __init__(self, db):\n",
    "        super().__init__()\n",
    "        self.name = \"myModel\"\n",
    "        self.inputs = db.inputs()  # keep track of inputs\n",
    "\n",
    "        # update global variables from database\n",
    "        for var in self.inputs:\n",
    "            globals().update({var.name: var})\n",
    "\n",
    "        # declare model params here\n",
    "        b_cost = Beta(\"b_cost\", 0.0, None, None, 0)\n",
    "        b_time = Beta(\"b_time\", 0.0, None, None, 0)\n",
    "        asc_train = Beta(\"asc_train\", 0.0, None, None, 0)\n",
    "        asc_car = Beta(\"asc_car\", 0.0, None, None, 0)\n",
    "        asc_sm = Beta(\"asc_sm\", 0.0, None, None, 1)\n",
    "\n",
    "        W1 = Weights(\"ResNet_01a\", (3, 10), 0, True)\n",
    "        W2 = Weights(\"ResNet_01b\", (10, 3), 0, True)\n",
    "\n",
    "        # append model params to self.params list\n",
    "        self.append_to_params(locals())\n",
    "        # self.append_to_params([b_cost, b_time, asc_train, asc_car, asc_sm, W1, W2])\n",
    "\n",
    "        # Definition of the utility functions\n",
    "        U_1 = b_cost * TRAIN_CO + b_time * TRAIN_TT + asc_train\n",
    "        U_2 = b_cost * SM_CO + b_time * SM_TT + asc_sm\n",
    "        U_3 = b_cost * CAR_CO + b_time * CAR_TT + asc_car\n",
    "        U = [U_1, U_2, U_3]\n",
    "        rh = ResLogitLayer(U, W1, W2)\n",
    "\n",
    "        # definition of the choice output\n",
    "        self.y = CHOICE\n",
    "\n",
    "        # symbolic expression for the choice model\n",
    "        self.p_y_given_x = logit(rh.output, [TRAIN_AV, SM_AV, CAR_AV])\n",
    "\n",
    "        # declare Regularizers here:\n",
    "        # L1 regularization cost\n",
    "        self.L1 = abs(b_cost()) + abs(b_time())\n",
    "\n",
    "        # L2 regularization cost\n",
    "        self.L2 = b_cost() ** 2 + b_time() ** 2\n",
    "\n",
    "        # symbolic expression for the cost fuction\n",
    "        self.cost = neg_loglikelihood(self.p_y_given_x, self.y)\n",
    "        self.cost = self.cost\n",
    "\n",
    "        # symbolic description of how to compute prediction as class whose\n",
    "        # probability is maximal\n",
    "        self.pred = aet.argmax(self.p_y_given_x, axis=1)"
   ]
  },
  {
   "cell_type": "code",
   "execution_count": 3,
   "metadata": {},
   "outputs": [
    {
     "name": "stdout",
     "output_type": "stream",
     "text": [
      "Building model...\n",
      "dataset: swissmetro (6768)\n",
      "batch size: 256\n",
      "batches per epoch: 26\n",
      "validation frequency: 26\n",
      "\n",
      "Training model...\n"
     ]
    },
    {
     "name": "stderr",
     "output_type": "stream",
     "text": [
      "Loglikelihood:  -5648.636579  Score: 0.612\n",
      "Epoch    4/4: 100%|██████████| 104/104 [00:03<00:00, 31.8it/s, Patience=2%]"
     ]
    },
    {
     "name": "stdout",
     "output_type": "stream",
     "text": [
      "Optimization complete with accuracy of 61.229%\n",
      " with maximum loglikelihood reached @ epoch 4.\n"
     ]
    },
    {
     "name": "stderr",
     "output_type": "stream",
     "text": [
      "\n"
     ]
    },
    {
     "name": "stdout",
     "output_type": "stream",
     "text": [
      "Results for model myModel\n",
      "Number of Beta parameters: 4\n",
      "Total size of Neural Net weights: 60\n",
      "Sample size: 6768\n",
      "Init loglikelihood: -7098.896\n",
      "Final loglikelihood: -5648.637\n",
      "Likelihood ratio test: 2900.519\n",
      "Accuracy: 61.229%\n",
      "Rho square: 0.204\n",
      "Rho bar square: 0.195\n",
      "Akaike Information Criterion: 11425.27\n",
      "Bayesian Information Criterion: 11861.75\n",
      "Final gradient norm: 0.166\n",
      "\n",
      "              Value   Std err     t-test   p-value Rob. Std err Rob. t-test Rob. p-value\n",
      "asc_car    0.170372  0.038788   4.392447  0.000011     0.278241    0.612319     0.540327\n",
      "asc_sm          0.0         -          -         -            -           -            -\n",
      "asc_train  -0.41081  0.051326  -8.003997       0.0     0.567376   -0.724052     0.469034\n",
      "b_cost     0.026847  0.003675   7.304829       0.0     0.011668    2.300857       0.0214\n",
      "b_time    -0.516164  0.043588 -11.842014       0.0      0.50786   -1.016351     0.309462 \n",
      "\n",
      "ResNet_01a (3, 10) init: random\n",
      "[[-0.05209099 -0.81983533 -0.33586673 -0.66219017 -0.7612131  -0.11417167\n",
      "  -0.94664308 -0.27898328  0.69894369  0.39477149]\n",
      " [ 0.31367203 -0.41751229 -0.090064   -0.29779277 -0.6287503  -0.33869194\n",
      "  -0.01026426 -0.84831783  0.29605708 -0.22976595]\n",
      " [-1.27919256 -0.87851507  0.07583291  0.65204125 -0.0669045  -0.52111188\n",
      "  -0.61404359 -0.21731779  0.36541561 -0.69655569]]\n",
      "\n",
      "ResNet_01b (10, 3) init: random\n",
      "[[-0.24633115  0.64328313 -0.10086135]\n",
      " [-0.18081632  0.9228609  -0.11368893]\n",
      " [ 0.0644908  -0.33532399  0.24632525]\n",
      " [-0.270973   -0.33191465  0.78890521]\n",
      " [-0.62840581  0.79483087  0.01614277]\n",
      " [-0.69822979 -0.16455351  0.29069787]\n",
      " [-0.62417431  0.69676834 -0.37874601]\n",
      " [-0.87253185  0.00705035 -0.26336989]\n",
      " [-0.08618509 -0.12473059 -0.31604908]\n",
      " [ 0.3023793   0.58589427 -0.00141151]]\n",
      "\n"
     ]
    }
   ],
   "source": [
    "# train function\n",
    "model = cmt.train(MNLmodel, db, optimizer=Adam, batch_size=256, lr_init=0.01, max_epoch=4)\n",
    "\n",
    "with open(\"myModel.pkl\", \"rb\") as f:\n",
    "    model = pickle.load(f)\n",
    "\n",
    "result = Results(model, db, show_weights=True)"
   ]
  },
  {
   "cell_type": "code",
   "execution_count": null,
   "metadata": {},
   "outputs": [],
   "source": []
  }
 ],
 "metadata": {
  "interpreter": {
   "hash": "da63d4e9fb59fde60e5c971c6a46911019e2bb62eca7ad51842ebf786c79b6c5"
  },
  "kernelspec": {
   "display_name": "Python 3.9.7 ('base')",
   "language": "python",
   "name": "python3"
  },
  "language_info": {
   "codemirror_mode": {
    "name": "ipython",
    "version": 3
   },
   "file_extension": ".py",
   "mimetype": "text/x-python",
   "name": "python",
   "nbconvert_exporter": "python",
   "pygments_lexer": "ipython3",
   "version": "3.9.7"
  },
  "orig_nbformat": 4
 },
 "nbformat": 4,
 "nbformat_minor": 2
}
