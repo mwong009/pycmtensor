{
 "cells": [
  {
   "cell_type": "code",
   "execution_count": 1,
   "metadata": {},
   "outputs": [],
   "source": [
    "%reload_ext autoreload\n",
    "%autoreload 2"
   ]
  },
  {
   "cell_type": "code",
   "execution_count": 1,
   "metadata": {},
   "outputs": [],
   "source": [
    "import dill as pickle\n",
    "import pandas as pd\n",
    "import pycmtensor as cmt\n",
    "from pycmtensor.models import MNLogit\n",
    "from pycmtensor.optimizers import Adam\n",
    "from pycmtensor.expressions import Beta, Weights\n",
    "from pycmtensor.results import Results, Predict"
   ]
  },
  {
   "cell_type": "code",
   "execution_count": 3,
   "metadata": {},
   "outputs": [
    {
     "name": "stdout",
     "output_type": "stream",
     "text": [
      "Building model...\n",
      "dataset: swissmetro (6768)\n",
      "batch size: 128\n",
      "batches per epoch: 52\n",
      "validation frequency: 52\n",
      "\n",
      "Training model...\n"
     ]
    },
    {
     "data": {
      "application/vnd.jupyter.widget-view+json": {
       "model_id": "68a52ce668094fc9a42e174eddd63004",
       "version_major": 2,
       "version_minor": 0
      },
      "text/plain": [
       "Loglikelihood:  -6964.662979  Score: 0.134"
      ]
     },
     "metadata": {},
     "output_type": "display_data"
    },
    {
     "data": {
      "application/vnd.jupyter.widget-view+json": {
       "model_id": "41518259b8944d2484feebf784301ba4",
       "version_major": 2,
       "version_minor": 0
      },
      "text/plain": [
       "Epoch    0/51948:   0%|          | 0.00/51.9k [00:00<?, ?it/s]"
      ]
     },
     "metadata": {},
     "output_type": "display_data"
    },
    {
     "name": "stdout",
     "output_type": "stream",
     "text": [
      "Maximum patience reached. Early stopping...\n",
      "Optimization complete with accuracy of 62.544% with maximum loglikelihood reached @ epoch 366.\n",
      "\n",
      "Results for model: mymodel\n",
      "Build time: 00:00:06\n",
      "Estimation time: 00:00:44\n",
      "Estimation rate: 16.793 epochs/s\n",
      "Seed value: 999\n",
      "Number of Beta parameters: 4\n",
      "Sample size: 6768\n",
      "Excluded data: 3960\n",
      "Init loglikelihood: -6964.663\n",
      "Final loglikelihood: -5590.573\n",
      "Final loglikelihood reached at: epoch 366\n",
      "Likelihood ratio test: 2748.180\n",
      "Accuracy: 62.544%\n",
      "Rho square: 0.197\n",
      "Rho bar square: 0.197\n",
      "Akaike Information Criterion: 11189.15\n",
      "Bayesian Information Criterion: 11216.43\n",
      "Final gradient norm: 0.161\n",
      "\n",
      "Statistical Analysis:\n",
      "              Value   Std err     t-test   p-value Rob. Std err Rob. t-test Rob. p-value\n",
      "asc_car    0.077562  0.042261   1.835315  0.066459     0.004942   15.695852          0.0\n",
      "asc_sm          0.0         -          -         -            -           -            -\n",
      "asc_train -0.561478  0.054498 -10.302725       0.0     0.049399  -11.366126          0.0\n",
      "b_cost     0.013695  0.002798   4.894167  0.000001     0.007932    1.726466     0.084264\n",
      "b_time     -1.17696  0.054507 -21.592746       0.0     0.021839  -53.891781          0.0 \n",
      "\n"
     ]
    }
   ],
   "source": [
    "\n",
    "swissmetro = pd.read_csv(\"data/swissmetro.dat\", sep=\"\\t\")\n",
    "db = cmt.Database(name=\"swissmetro\", pandasDatabase=swissmetro, choiceVar=\"CHOICE\")\n",
    "globals().update(db.variables)\n",
    "# Removing some observations\n",
    "exclude = ((PURPOSE != 1) * (PURPOSE != 3) + (CHOICE == 0)) > 0\n",
    "db.remove(exclude)\n",
    "\n",
    "# additional steps to format database\n",
    "db.data[\"CHOICE\"] -= 1 # set the first choice to 0\n",
    "db.choices = sorted(db.data[\"CHOICE\"].unique()) # save original choices\n",
    "db.autoscale(variables=['TRAIN_CO', 'TRAIN_TT', 'CAR_CO', 'CAR_TT', \n",
    "    'SM_CO', 'SM_TT'], default=100., verbose=False)\n",
    "\n",
    "# declare model params here\n",
    "b_cost = Beta(\"b_cost\", 0.0, None, None, 0)\n",
    "b_time = Beta(\"b_time\", 0.0, None, None, 0)\n",
    "asc_train = Beta(\"asc_train\", 0.0, None, None, 0)\n",
    "asc_car = Beta(\"asc_car\", 0.0, None, None, 0)\n",
    "asc_sm = Beta(\"asc_sm\", 0.0, None, None, 1)\n",
    "\n",
    "U_1 = b_cost * db[\"TRAIN_CO\"] + b_time * db[\"TRAIN_TT\"] + asc_train\n",
    "U_2 = b_cost * db[\"SM_CO\"] + b_time * db[\"SM_TT\"] + asc_sm\n",
    "U_3 = b_cost * db[\"CAR_CO\"] + b_time * db[\"CAR_TT\"] + asc_car\n",
    "\n",
    "# specify the utility function and the availability conditions\n",
    "U = [U_1, U_2, U_3]\n",
    "AV = [db[\"TRAIN_AV\"], db[\"SM_AV\"], db[\"CAR_AV\"]]\n",
    "        \n",
    "mymodel = MNLogit(u=U, av=AV, database=db, name=\"mymodel\")\n",
    "mymodel.add_params(locals())\n",
    "\n",
    "# train function\n",
    "model = cmt.train(mymodel, database=db, optimizer=Adam, batch_size=128, lr_init=0.01, max_epoch=999, notebook=True)\n",
    "\n",
    "with open(\"myModel.pkl\", \"rb\") as f:\n",
    "    model = pickle.load(f)\n",
    "\n",
    "result = Results(model, db, show_weights=True)"
   ]
  },
  {
   "cell_type": "code",
   "execution_count": 4,
   "metadata": {},
   "outputs": [],
   "source": [
    "from aesara.tensor.random.utils import RandomStream\n",
    "\n",
    "class ResLogitLayer:\n",
    "    def __init__(self, input, w_in, w_out, activation_in=None, activation_out=None):\n",
    "        assert w_in.shape[1].eval() == w_out.shape[0].eval()\n",
    "        if isinstance(input, (list, tuple)):\n",
    "            assert len(input) == w_in.shape[0].eval(), f\"index.0 of w_in must be of the same length as input\"\n",
    "            input = aet.stacklists(input).flatten(2)\n",
    "\n",
    "        assert isinstance(w_in, (Weights)), \"w_in must be of type Weights\"\n",
    "        assert isinstance(w_out, (Weights)), \"w_out must be of type Weights\"\n",
    "        self.w_in = w_in()\n",
    "        self.w_out = w_out()\n",
    "        if activation_in == None:\n",
    "            activation_in = aet.sigmoid\n",
    "        if activation_out == None:\n",
    "            activation_out = aet.sigmoid\n",
    "            \n",
    "        h = activation_in(aet.dot(input.T, self.w_in))\n",
    "        output = activation_out(aet.dot(h, self.w_out)).T\n",
    "        self.input = input\n",
    "        self.weights = [self.w_in, self.w_out]\n",
    "        self.output = output + input\n",
    "\n",
    "    \n",
    "    def __repr__(self):\n",
    "        return f\"ResLogitLayer([{self.w_in.shape.eval()}, {self.w_out.shape.eval()}])\""
   ]
  },
  {
   "cell_type": "code",
   "execution_count": 5,
   "metadata": {},
   "outputs": [
    {
     "ename": "NameError",
     "evalue": "name 'aesara' is not defined",
     "output_type": "error",
     "traceback": [
      "\u001b[1;31m---------------------------------------------------------------------------\u001b[0m",
      "\u001b[1;31mNameError\u001b[0m                                 Traceback (most recent call last)",
      "\u001b[1;32m~\\AppData\\Local\\Temp/ipykernel_6304/3221536130.py\u001b[0m in \u001b[0;36m<module>\u001b[1;34m\u001b[0m\n\u001b[0;32m      2\u001b[0m \u001b[0md3v\u001b[0m\u001b[1;33m.\u001b[0m\u001b[0md3viz\u001b[0m\u001b[1;33m(\u001b[0m\u001b[0mmodel\u001b[0m\u001b[1;33m.\u001b[0m\u001b[0mloglikelihood\u001b[0m\u001b[1;33m,\u001b[0m \u001b[1;34m'viz/MNLogit.html'\u001b[0m\u001b[1;33m)\u001b[0m\u001b[1;33m\u001b[0m\u001b[1;33m\u001b[0m\u001b[0m\n\u001b[0;32m      3\u001b[0m \u001b[1;33m\u001b[0m\u001b[0m\n\u001b[1;32m----> 4\u001b[1;33m \u001b[0maesara\u001b[0m\u001b[1;33m.\u001b[0m\u001b[0mprinting\u001b[0m\u001b[1;33m.\u001b[0m\u001b[0mpydotprint\u001b[0m\u001b[1;33m(\u001b[0m\u001b[0mmymodel\u001b[0m\u001b[1;33m.\u001b[0m\u001b[0mcost\u001b[0m\u001b[1;33m,\u001b[0m \u001b[1;34m\"viz/print.png\"\u001b[0m\u001b[1;33m)\u001b[0m\u001b[1;33m\u001b[0m\u001b[1;33m\u001b[0m\u001b[0m\n\u001b[0m\u001b[0;32m      5\u001b[0m \u001b[1;32mfrom\u001b[0m \u001b[0mIPython\u001b[0m\u001b[1;33m.\u001b[0m\u001b[0mdisplay\u001b[0m \u001b[1;32mimport\u001b[0m \u001b[0mImage\u001b[0m\u001b[1;33m\u001b[0m\u001b[1;33m\u001b[0m\u001b[0m\n\u001b[0;32m      6\u001b[0m \u001b[0mImage\u001b[0m\u001b[1;33m(\u001b[0m\u001b[1;34m\"viz/print.png\"\u001b[0m\u001b[1;33m,\u001b[0m \u001b[0mwidth\u001b[0m\u001b[1;33m=\u001b[0m\u001b[1;34m\"80%\"\u001b[0m\u001b[1;33m)\u001b[0m\u001b[1;33m\u001b[0m\u001b[1;33m\u001b[0m\u001b[0m\n",
      "\u001b[1;31mNameError\u001b[0m: name 'aesara' is not defined"
     ]
    }
   ],
   "source": [
    "import aesara.d3viz as d3v\n",
    "d3v.d3viz(model.loglikelihood, 'viz/MNLogit.html')\n",
    "\n",
    "aesara.printing.pydotprint(mymodel.cost, \"viz/print.png\")\n",
    "from IPython.display import Image\n",
    "Image(\"viz/print.png\", width=\"80%\")"
   ]
  },
  {
   "cell_type": "code",
   "execution_count": null,
   "metadata": {},
   "outputs": [],
   "source": [
    "from pycmtensor.results import Predict\n",
    "from pycmtensor.pycmtensor import PyCMTensorModel\n",
    "import dill as pickle\n",
    "\n",
    "class MNLmodel(PyCMTensorModel):\n",
    "    def __init__(self, db):\n",
    "        super().__init__(db)\n",
    "\n",
    "with open(\"myModel.pkl\", \"rb\") as f:\n",
    "    model = pickle.load(f)\n",
    "\n",
    "Predict(model, db).choices()"
   ]
  },
  {
   "cell_type": "code",
   "execution_count": null,
   "metadata": {},
   "outputs": [],
   "source": [
    "from tqdm import tqdm, trange\n",
    "from time import sleep\n",
    "\n",
    "pbar = tqdm(total=100)\n",
    "for i in range(10):\n",
    "    sleep(0.1)\n",
    "    pbar.update(10)\n",
    "pbar.close()\n",
    "\n",
    "pbar.format_dict"
   ]
  },
  {
   "cell_type": "code",
   "execution_count": null,
   "metadata": {},
   "outputs": [],
   "source": []
  }
 ],
 "metadata": {
  "interpreter": {
   "hash": "da63d4e9fb59fde60e5c971c6a46911019e2bb62eca7ad51842ebf786c79b6c5"
  },
  "kernelspec": {
   "display_name": "Python 3.9.7 ('base')",
   "language": "python",
   "name": "python3"
  },
  "language_info": {
   "codemirror_mode": {
    "name": "ipython",
    "version": 3
   },
   "file_extension": ".py",
   "mimetype": "text/x-python",
   "name": "python",
   "nbconvert_exporter": "python",
   "pygments_lexer": "ipython3",
   "version": "3.9.7"
  },
  "orig_nbformat": 4
 },
 "nbformat": 4,
 "nbformat_minor": 2
}
