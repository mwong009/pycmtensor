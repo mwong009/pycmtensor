{
 "cells": [
  {
   "cell_type": "markdown",
   "metadata": {},
   "source": [
    "# London Passenger Mode Choice"
   ]
  },
  {
   "cell_type": "code",
   "execution_count": 1,
   "metadata": {},
   "outputs": [
    {
     "name": "stderr",
     "output_type": "stream",
     "text": [
      "11:03:08 [INFO] seed: 100 n_train_samples:3986 n_valid_samples:997\n",
      "11:03:09 [WARNING] s_time not in any utility functions\n",
      "11:03:09 [WARNING] b_car_own not in any utility functions\n",
      "11:03:09 [INFO] choice: travel_mode\n",
      "11:03:09 [INFO] inputs in MNL: [purpose, driving_license, dur_walking, dur_cycling, dur_pt_rail, dur_pt_bus, dur_pt_int, dur_driving, cost_transit, cost_driving_fuel, cost_driving_ccharge]\n",
      "11:03:10 [INFO] Build time = 00:00:01\n"
     ]
    }
   ],
   "source": [
    "import os, sys\n",
    "sys.path.insert(0, os.path.abspath(\"..\"))\n",
    "\n",
    "#import packages\n",
    "import pandas as pd\n",
    "from pycmtensor.dataset import Dataset\n",
    "from pycmtensor.expressions import Beta, RandomDraws\n",
    "from pycmtensor.models import MNL\n",
    "\n",
    "lpmc = pd.read_csv(\"../data/lpmc.dat\", sep=\"\\t\")\n",
    "lpmc = lpmc[lpmc[\"travel_year\"]==2015]\n",
    "ds = Dataset(df=lpmc, choice=\"travel_mode\")\n",
    "ds.split(0.8)\n",
    "\n",
    "# Beta parameters\n",
    "asc_walk = Beta(\"asc_walk\", 0.0, None, None, 1)\n",
    "asc_cycle = Beta(\"asc_cycle\", 0.0, None, None, 0)\n",
    "asc_pt = Beta(\"asc_pt\", -1.379, None, None, 0)\n",
    "asc_drive = Beta(\"asc_drive\", -2.956, None, None, 0)\n",
    "b_cost = Beta(\"b_cost\", -0.141, None, None, 0)\n",
    "b_time = Beta(\"b_time\", -4.971, None, None, 0)\n",
    "s_time = Beta(\"s_time\", 0.5, None, None, 0)\n",
    "b_purpose = Beta(\"b_purpose\", 0.291, None, None, 0)\n",
    "b_licence = Beta(\"b_licence\", 1.464, None, None, 0)\n",
    "b_car_own = Beta(\"b_car_own\", 0.0, None, None, 0)\n",
    "\n",
    "rnd_time = RandomDraws('rnd_time', 'lognormal', 100)\n",
    "\n",
    "U_walk = asc_walk + b_time * ds[\"dur_walking\"] # + rnd_time(s_time) * db[\"dur_walking\"]\n",
    "U_cycle = asc_cycle + b_time * ds[\"dur_cycling\"] \n",
    "U_pt = asc_pt + b_time * (ds[\"dur_pt_rail\"] + ds[\"dur_pt_bus\"] + ds[\"dur_pt_int\"]) + b_cost * ds[\"cost_transit\"]\n",
    "U_drive = asc_drive + b_time * ds[\"dur_driving\"] + b_licence * ds[\"driving_license\"] + b_cost * (ds[\"cost_driving_fuel\"] + ds[\"cost_driving_ccharge\"])  + b_purpose * ds[\"purpose\"]\n",
    "\n",
    "U = [U_walk, U_cycle, U_pt, U_drive]\n",
    "mymodel = MNL(ds, locals(), U)"
   ]
  },
  {
   "cell_type": "markdown",
   "metadata": {},
   "source": [
    "## Estimate the models"
   ]
  },
  {
   "cell_type": "code",
   "execution_count": 2,
   "metadata": {},
   "outputs": [
    {
     "name": "stderr",
     "output_type": "stream",
     "text": [
      "11:03:14 [INFO] Start (n=3986, epoch=0, NLL=-5525.77, error=81.85%)\n",
      "11:03:14 [INFO] Train 0/2K (epoch=0, LL=-5323.30, error=63.59%, gnorm=2.646e-01)\n",
      "11:03:15 [INFO] Train 200/2K (epoch=200, LL=-3414.93, error=35.31%, gnorm=2.211e-03)\n",
      "11:03:15 [INFO] Train 229/2K (epoch=229, LL=-3414.87, error=35.31%, gnorm=9.885e-04)\n",
      "11:03:15 [INFO] Model converged (t=1.563)\n",
      "11:03:15 [INFO] Best results obtained at epoch 229: LL=-3414.87, error=35.31%, gnorm=9.88461e-04\n"
     ]
    }
   ],
   "source": [
    "from pycmtensor import train\n",
    "from pycmtensor.optimizers import SGD, Adam, AdaGrad, SQNBFGS, RMSProp\n",
    "from pycmtensor.scheduler import StepLR, ConstantLR\n",
    "\n",
    "mymodel.reset_values()\n",
    "train(mymodel, ds, optimizer=Adam, batch_size=0, base_learning_rate=0.1, convergence_threshold=0.001, max_epochs=2000, lr_scheduler=ConstantLR, lr_stepLR_drop_every=20, lr_stepLR_factor=0.99, BFGS_warmup=30)"
   ]
  },
  {
   "cell_type": "markdown",
   "metadata": {},
   "source": [
    "## Display results"
   ]
  },
  {
   "cell_type": "code",
   "execution_count": 3,
   "metadata": {},
   "outputs": [
    {
     "name": "stdout",
     "output_type": "stream",
     "text": [
      "           value std err  t-test p-value rob. std err rob. t-test rob. p-value\n",
      "asc_cycle -3.949   0.082 -48.386     0.0        0.081     -48.689          0.0\n",
      "asc_drive -2.954   0.092  -32.04     0.0        0.094     -31.383          0.0\n",
      "asc_pt    -1.379   0.047 -29.619     0.0        0.049     -28.059          0.0\n",
      "asc_walk     0.0       -       -       -            -           -            -\n",
      "b_cost    -0.141   0.013 -10.941     0.0        0.012      -11.47          0.0\n",
      "b_licence  1.463   0.081  18.152     0.0        0.086      17.088          0.0\n",
      "b_purpose  0.291   0.032   9.138     0.0        0.032       8.965          0.0\n",
      "b_time    -4.975   0.182 -27.336     0.0        0.195       -25.5          0.0\n",
      "                                                 value\n",
      "Number of training samples used                   3986\n",
      "Number of validation samples used                  997\n",
      "Number of estimated parameters in the model          8\n",
      "Null log likelihood                           -5525.77\n",
      "Init. log likelihood                          -6041.19\n",
      "Final log likelihood                          -3414.87\n",
      "Validation Accuracy                             64.69%\n",
      "Training Accuracy                               64.40%\n",
      "Likelihood ratio test                          4221.79\n",
      "Rho square                                       0.382\n",
      "Rho square bar                                   0.381\n",
      "Akaike Information Criterion                   6845.75\n",
      "Bayesian Information Criterion                 6896.07\n",
      "Final gradient norm                          9.885e-04\n",
      "Maximum epochs reached                              No\n",
      "Best result at epoch                               229\n",
      "                                                        value\n",
      "Platform                                   Windows 10.0.22631\n",
      "Processor           Intel(R) Core(TM) i7-10750H CPU @ 2.60GHz\n",
      "RAM                                                  15.34 GB\n",
      "Python version                                         3.11.8\n",
      "PyCMTensor version                                     1.10.0\n",
      "Seed                                                      100\n",
      "Model build time                                     00:00:01\n",
      "Model train time                                     00:00:02\n",
      "epochs per sec                                 147.15 epoch/s\n"
     ]
    }
   ],
   "source": [
    "pd.options.display.width = 99\n",
    "print(mymodel.results.beta_statistics())\n",
    "print(mymodel.results.model_statistics())\n",
    "print(mymodel.results.benchmark())"
   ]
  },
  {
   "cell_type": "markdown",
   "metadata": {},
   "source": [
    "## Correlation matrix"
   ]
  },
  {
   "cell_type": "code",
   "execution_count": 4,
   "metadata": {},
   "outputs": [
    {
     "name": "stdout",
     "output_type": "stream",
     "text": [
      "           asc_walk  asc_cycle  asc_pt  asc_drive  b_cost  b_time  b_purpose  b_licence\n",
      "asc_walk      1.000     -0.278   0.133     -0.554   0.049  -0.644      0.433      0.307\n",
      "asc_cycle    -0.278      1.000  -0.350     -0.504   0.128   0.035      0.255      0.133\n",
      "asc_pt        0.133     -0.350   1.000     -0.293  -0.186   0.246      0.457      0.265\n",
      "asc_drive    -0.554     -0.504  -0.293      1.000  -0.055   0.317     -0.773     -0.476\n",
      "b_cost        0.049      0.128  -0.186     -0.055   1.000  -0.018     -0.025     -0.056\n",
      "b_time       -0.644      0.035   0.246      0.317  -0.018   1.000     -0.090     -0.143\n",
      "b_purpose     0.433      0.255   0.457     -0.773  -0.025  -0.090      1.000      0.026\n",
      "b_licence     0.307      0.133   0.265     -0.476  -0.056  -0.143      0.026      1.000\n",
      "           asc_walk  asc_cycle  asc_pt  asc_drive  b_cost  b_time  b_purpose  b_licence\n",
      "asc_walk      1.000     -0.290   0.113     -0.565  -0.000  -0.697      0.428      0.326\n",
      "asc_cycle    -0.290      1.000  -0.330     -0.470   0.136   0.067      0.247      0.096\n",
      "asc_pt        0.113     -0.330   1.000     -0.323  -0.092   0.332      0.443      0.341\n",
      "asc_drive    -0.565     -0.470  -0.323      1.000  -0.069   0.296     -0.768     -0.507\n",
      "b_cost       -0.000      0.136  -0.092     -0.069   1.000   0.084      0.023     -0.089\n",
      "b_time       -0.697      0.067   0.332      0.296   0.084   1.000     -0.079     -0.133\n",
      "b_purpose     0.428      0.247   0.443     -0.768   0.023  -0.079      1.000      0.047\n",
      "b_licence     0.326      0.096   0.341     -0.507  -0.089  -0.133      0.047      1.000\n"
     ]
    }
   ],
   "source": [
    "print(mymodel.results.model_correlation_matrix())\n",
    "print(mymodel.results.model_robust_correlation_matrix())"
   ]
  },
  {
   "cell_type": "markdown",
   "metadata": {},
   "source": [
    "## Predictions"
   ]
  },
  {
   "cell_type": "code",
   "execution_count": 5,
   "metadata": {},
   "outputs": [
    {
     "name": "stdout",
     "output_type": "stream",
     "text": [
      "                0         1         2         3  pred_travel_mode  true_travel_mode\n",
      "0    1.816248e-02  0.026326  0.114566  0.840946                 3                 3\n",
      "1    3.065364e-02  0.015545  0.128382  0.825420                 3                 2\n",
      "2    6.246189e-01  0.019188  0.264846  0.091347                 0                 2\n",
      "3    3.817132e-08  0.002589  0.073193  0.924218                 3                 3\n",
      "4    5.005149e-05  0.025316  0.827526  0.147108                 2                 3\n",
      "..            ...       ...       ...       ...               ...               ...\n",
      "992  3.488616e-01  0.013858  0.159682  0.477598                 3                 0\n",
      "993  7.497424e-03  0.028629  0.107076  0.856797                 3                 3\n",
      "994  2.811260e-01  0.014601  0.175604  0.528669                 3                 3\n",
      "995  3.967949e-05  0.005089  0.011836  0.983035                 3                 3\n",
      "996  1.733436e-02  0.030785  0.182990  0.768891                 3                 3\n",
      "\n",
      "[997 rows x 6 columns]\n"
     ]
    }
   ],
   "source": [
    "prob = mymodel.predict(ds)\n",
    "print(pd.DataFrame(prob))"
   ]
  },
  {
   "cell_type": "markdown",
   "metadata": {},
   "source": [
    "## Elasticities"
   ]
  },
  {
   "cell_type": "code",
   "execution_count": 6,
   "metadata": {},
   "outputs": [
    {
     "name": "stdout",
     "output_type": "stream",
     "text": [
      "      cost_driving_ccharge  cost_driving_fuel  cost_transit  driving_license  dur_cycling  \\\n",
      "0                     -0.0             -0.033         0.063            0.228        0.022   \n",
      "1                     -0.0             -0.074         0.159            0.717        0.022   \n",
      "2                     -0.0             -0.110         0.189            0.000        0.030   \n",
      "3                     -0.0             -0.032         0.000            0.793        0.016   \n",
      "4                     -0.0             -0.089         0.113            0.000        0.031   \n",
      "...                    ...                ...           ...              ...          ...   \n",
      "3981                  -0.0             -0.023         0.000            0.000        0.008   \n",
      "3982                  -0.0             -0.131         0.000            0.798        0.038   \n",
      "3983                  -0.0             -0.018         0.050            0.565        0.016   \n",
      "3984                  -0.0             -0.012         0.040            0.162        0.019   \n",
      "3985                  -0.0             -0.042         0.114            0.000        0.026   \n",
      "\n",
      "      dur_driving  dur_pt_bus  dur_pt_int  dur_pt_rail  dur_walking  purpose  \n",
      "0          -0.193       0.286       0.099        0.000        0.003    0.045  \n",
      "1          -1.035       0.000       0.000        0.312        0.063    0.712  \n",
      "2          -1.160       0.000       0.000        0.460        0.062    0.709  \n",
      "3          -0.482       0.000       0.000        0.107        0.297    0.473  \n",
      "4          -0.561       0.062       0.249        0.560        0.000    0.224  \n",
      "...           ...         ...         ...          ...          ...      ...  \n",
      "3981       -0.200       0.081       0.000        0.000        0.556    1.072  \n",
      "3982       -1.606       0.325       0.221        0.664        0.009    0.476  \n",
      "3983       -0.263       0.169       0.000        0.000        0.376    0.337  \n",
      "3984       -0.117       0.039       0.070        0.047        0.033    0.161  \n",
      "3985       -0.483       0.227       0.000        0.000        0.723    0.247  \n",
      "\n",
      "[3986 rows x 11 columns]\n"
     ]
    }
   ],
   "source": [
    "elas = mymodel.elasticities(ds=ds, wrt_choice=3)\n",
    "print(pd.DataFrame(elas).round(3))"
   ]
  },
  {
   "cell_type": "code",
   "execution_count": 7,
   "metadata": {},
   "outputs": [
    {
     "data": {
      "text/plain": [
       "cost_driving_ccharge   -0.158740\n",
       "cost_driving_fuel      -0.063035\n",
       "cost_transit            0.088113\n",
       "driving_license         0.407457\n",
       "dur_cycling             0.042464\n",
       "dur_driving            -0.795293\n",
       "dur_pt_bus              0.225916\n",
       "dur_pt_int              0.079587\n",
       "dur_pt_rail             0.245821\n",
       "dur_walking             0.333449\n",
       "purpose                 0.440599\n",
       "dtype: float64"
      ]
     },
     "execution_count": 7,
     "metadata": {},
     "output_type": "execute_result"
    }
   ],
   "source": [
    "import numpy as np \n",
    "np.mean(pd.DataFrame(elas), axis=0)"
   ]
  },
  {
   "cell_type": "code",
   "execution_count": 8,
   "metadata": {},
   "outputs": [
    {
     "data": {
      "image/png": "[encoded data removed]",
      "text/plain": [
       "<Figure size 640x480 with 2 Axes>"
      ]
     },
     "metadata": {},
     "output_type": "display_data"
    }
   ],
   "source": [
    "table = mymodel.results.show_training_plot(offset=0, cutoff=180, sample_intervals=10)"
   ]
  }
 ],
 "metadata": {
  "kernelspec": {
   "display_name": "pycmtensor-dev",
   "language": "python",
   "name": "python3"
  },
  "language_info": {
   "codemirror_mode": {
    "name": "ipython",
    "version": 3
   },
   "file_extension": ".py",
   "mimetype": "text/x-python",
   "name": "python",
   "nbconvert_exporter": "python",
   "pygments_lexer": "ipython3",
   "version": "3.11.8"
  },
  "orig_nbformat": 4
 },
 "nbformat": 4,
 "nbformat_minor": 2
}
