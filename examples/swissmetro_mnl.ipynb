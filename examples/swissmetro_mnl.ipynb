{
 "cells": [
  {
   "cell_type": "markdown",
   "metadata": {},
   "source": [
    "## A simple multinomial logit model using the Swissmetro dataset"
   ]
  },
  {
   "cell_type": "code",
   "execution_count": null,
   "metadata": {},
   "outputs": [],
   "source": [
    "import sys\n",
    "sys.path.append('..')"
   ]
  },
  {
   "cell_type": "code",
   "execution_count": null,
   "metadata": {},
   "outputs": [],
   "source": [
    "# import packages\n",
    "import pandas as pd\n",
    "\n",
    "from pycmtensor import train\n",
    "from pycmtensor import Dataset\n",
    "from pycmtensor.expressions import Beta\n",
    "import pycmtensor.scheduler as sched\n",
    "import pycmtensor.optimizers as optim\n",
    "from pycmtensor.models import MNL\n",
    "\n",
    "import pycmtensor\n",
    "pycmtensor.about()"
   ]
  },
  {
   "cell_type": "code",
   "execution_count": null,
   "metadata": {},
   "outputs": [],
   "source": [
    "# read the data and load it into a dataset\n",
    "df = pd.read_csv('http://transp-or.epfl.ch/data/swissmetro.dat', sep='\\t')\n",
    "\n",
    "# remove unknown choices\n",
    "df = df.loc[df[\"CHOICE\"] > 0]\n",
    "\n",
    "# Load the DataFrame into a Dataset object\n",
    "ds = Dataset(df, choice=\"CHOICE\")\n",
    "ds.scale_variable(\"TRAIN_TT\", 100)\n",
    "ds.scale_variable(\"SM_TT\", 100)\n",
    "ds.scale_variable(\"CAR_TT\", 100)\n",
    "ds.scale_variable(\"TRAIN_CO\", 100)\n",
    "ds.scale_variable(\"SM_CO\", 100)\n",
    "ds.scale_variable(\"CAR_CO\", 100)\n",
    "ds.split(frac=0.80)\n",
    "\n",
    "# Define the alternative specific constants (ASCs) for each mode of transport\n",
    "ASC_TRAIN = Beta(\"ASC_TRAIN\", 0., None, None, 0)\n",
    "ASC_SM = Beta(\"ASC_SM\", 0., None, None, 0)\n",
    "ASC_CAR = Beta(\"ASC_CAR\", 0., None, None, 1)\n",
    "\n",
    "# Define the coefficients for the variables\n",
    "B_COST = Beta(\"B_COST\", 0., None, None, 0)\n",
    "B_TIME_TRAIN = Beta(\"B_TIME_TRAIN\", 0., None, None, 0)\n",
    "B_TIME_SM = Beta(\"B_TIME_SM\", 0., None, None, 0)\n",
    "B_TIME_CAR = Beta(\"B_TIME_CAR\", 0., None, None, 0)\n",
    "B_SEAT = Beta(\"B_SEAT\", 0., None, None, 0)\n",
    "\n",
    "# Define the utility functions for each mode of transport\n",
    "V_TRAIN = (\n",
    "\tASC_TRAIN \n",
    "\t+ B_TIME_TRAIN * ds[\"TRAIN_TT\"] \n",
    "\t+ B_COST * ds[\"TRAIN_CO\"]\n",
    ")\n",
    "V_SM = (\n",
    "\tASC_SM \n",
    "\t+ B_TIME_SM * ds[\"SM_TT\"] \n",
    "\t+ B_COST * ds[\"SM_CO\"] \n",
    "\t+ B_SEAT * ds[\"SM_SEATS\"]\n",
    ")\n",
    "V_CAR = (\n",
    "\tASC_CAR \n",
    "\t+ B_TIME_CAR * ds[\"CAR_TT\"] \n",
    "\t+ B_COST * ds[\"CAR_CO\"]\n",
    ")\n",
    "\n",
    "# Define the model\n",
    "U = [V_TRAIN, V_SM, V_CAR]\n",
    "AV = [ds[\"TRAIN_AV\"], ds[\"SM_AV\"], ds[\"CAR_AV\"]]\n",
    "model = MNL(ds, locals(), U, AV)"
   ]
  },
  {
   "cell_type": "markdown",
   "metadata": {},
   "source": [
    "Estimate the model"
   ]
  },
  {
   "cell_type": "code",
   "execution_count": null,
   "metadata": {},
   "outputs": [],
   "source": [
    "# Train model\n",
    "model.reset_values()\n",
    "train(model, ds, optimizer=optim.Adam, lr_scheduler=sched.ConstantLR, batch_size=0, max_epochs=2000, base_learning_rate=0.01, convergence_threshold=1e-3, acceptance_method=0)"
   ]
  },
  {
   "cell_type": "markdown",
   "metadata": {},
   "source": [
    "Display model results:"
   ]
  },
  {
   "cell_type": "code",
   "execution_count": null,
   "metadata": {},
   "outputs": [],
   "source": [
    "display(model.results.beta_statistics())\n",
    "display(model.results.model_statistics())\n",
    "display(model.results.benchmark())"
   ]
  },
  {
   "cell_type": "markdown",
   "metadata": {},
   "source": [
    "Display model correlation matrices"
   ]
  },
  {
   "cell_type": "code",
   "execution_count": null,
   "metadata": {},
   "outputs": [],
   "source": [
    "display(model.results.model_correlation_matrix())\n",
    "# display(model.results.model_robust_correlation_matrix())"
   ]
  },
  {
   "cell_type": "markdown",
   "metadata": {},
   "source": [
    "Plot model Loglikelihood, training and validation error"
   ]
  },
  {
   "cell_type": "code",
   "execution_count": null,
   "metadata": {},
   "outputs": [],
   "source": [
    "model.results.show_training_plot()"
   ]
  },
  {
   "cell_type": "markdown",
   "metadata": {},
   "source": [
    "Model validation prediction"
   ]
  },
  {
   "cell_type": "code",
   "execution_count": null,
   "metadata": {},
   "outputs": [],
   "source": [
    "# predict CHOICE on the validation set and display the results.\n",
    "# First three columns are the probabilities, the fourth column \n",
    "# is the predicted choice, fifth column is the actual choice.\n",
    "pd.DataFrame(model.predict(ds))"
   ]
  },
  {
   "cell_type": "markdown",
   "metadata": {},
   "source": [
    "Compute elasticities of SM_CO with respect to CHOICE:SM"
   ]
  },
  {
   "cell_type": "code",
   "execution_count": null,
   "metadata": {},
   "outputs": [],
   "source": [
    "sm_co_wrt_sm = model.elasticities(ds, 1)[\"SM_CO\"]\n",
    "print(sm_co_wrt_sm.mean())"
   ]
  },
  {
   "cell_type": "markdown",
   "metadata": {},
   "source": [
    "Plot the elasticities"
   ]
  },
  {
   "cell_type": "code",
   "execution_count": null,
   "metadata": {},
   "outputs": [],
   "source": [
    "import seaborn as sns\n",
    "import matplotlib.pyplot as plt\n",
    "sns.set_style(\"ticks\")\n",
    "\n",
    "fig, ax = plt.subplots()\n",
    "sns.histplot(sm_co_wrt_sm, kde=False, ax=ax, bins=40)\n",
    "\n",
    "sns.despine()\n",
    "plt.show()"
   ]
  }
 ],
 "metadata": {
  "kernelspec": {
   "display_name": "pycmtensor",
   "language": "python",
   "name": "python3"
  },
  "language_info": {
   "codemirror_mode": {
    "name": "ipython",
    "version": 3
   },
   "file_extension": ".py",
   "mimetype": "text/x-python",
   "name": "python",
   "nbconvert_exporter": "python",
   "pygments_lexer": "ipython3",
   "version": "3.11.9"
  }
 },
 "nbformat": 4,
 "nbformat_minor": 4
}
