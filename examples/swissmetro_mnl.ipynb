{
 "cells": [
  {
   "cell_type": "markdown",
   "metadata": {},
   "source": [
    "## A simple multinomial logit model using the Swissmetro dataset"
   ]
  },
  {
   "cell_type": "code",
   "execution_count": 1,
   "metadata": {},
   "outputs": [],
   "source": [
    "import sys\n",
    "sys.path.append('..')"
   ]
  },
  {
   "cell_type": "code",
   "execution_count": 2,
   "metadata": {},
   "outputs": [
    {
     "name": "stderr",
     "output_type": "stream",
     "text": [
      "13:33:00 [INFO] CHOICE: {0: 1423, 1: 6216, 2: 3080}\n",
      "13:33:00 [INFO] seed: 100 n_train_samples:8575 n_valid_samples:2144\n",
      "13:33:06 [INFO] inputs in MNL: [TRAIN_AV, CAR_AV, SM_AV, TRAIN_TT, TRAIN_CO, SM_TT, SM_CO, SM_SEATS, CAR_TT, CAR_CO]\n",
      "13:33:06 [INFO] Build time = 00:00:06\n"
     ]
    }
   ],
   "source": [
    "# import packages\n",
    "import pandas as pd\n",
    "\n",
    "from pycmtensor import train\n",
    "from pycmtensor import Dataset\n",
    "from pycmtensor.expressions import Beta\n",
    "import pycmtensor.optimizers as optim\n",
    "import pycmtensor.scheduler as sched\n",
    "from pycmtensor.models import MNL\n",
    "\n",
    "# read the data and load it into a dataset\n",
    "df = pd.read_csv('http://transp-or.epfl.ch/data/swissmetro.dat', sep='\\t')\n",
    "\n",
    "# remove unknown choices\n",
    "df = df.loc[df[\"CHOICE\"] > 0]\n",
    "\n",
    "# Load the DataFrame into a Dataset object\n",
    "ds = Dataset(df, choice=\"CHOICE\")\n",
    "ds.scale_variable(\"TRAIN_TT\", 100)\n",
    "ds.scale_variable(\"SM_TT\", 100)\n",
    "ds.scale_variable(\"CAR_TT\", 100)\n",
    "ds.scale_variable(\"TRAIN_CO\", 100)\n",
    "ds.scale_variable(\"SM_CO\", 100)\n",
    "ds.scale_variable(\"CAR_CO\", 100)\n",
    "ds.split(frac=0.80)\n",
    "\n",
    "# Define the alternative specific constants (ASCs) for each mode of transport\n",
    "ASC_TRAIN = Beta(\"ASC_TRAIN\", 0., None, None, 0)\n",
    "ASC_SM = Beta(\"ASC_SM\", 0., None, None, 0)\n",
    "ASC_CAR = Beta(\"ASC_CAR\", 0., None, None, 1)\n",
    "\n",
    "# Define the coefficients for the variables\n",
    "B_COST = Beta(\"B_COST\", 0., None, None, 0)\n",
    "B_TIME_TRAIN = Beta(\"B_TIME_TRAIN\", 0., None, None, 0)\n",
    "B_TIME_SM = Beta(\"B_TIME_SM\", 0., None, None, 0)\n",
    "B_TIME_CAR = Beta(\"B_TIME_CAR\", 0., None, None, 0)\n",
    "B_SEAT = Beta(\"B_SEAT\", 0., None, None, 0)\n",
    "\n",
    "# Define the utility functions for each mode of transport\n",
    "V_TRAIN = (\n",
    "\tASC_TRAIN \n",
    "\t+ B_TIME_TRAIN * ds[\"TRAIN_TT\"] \n",
    "\t+ B_COST * ds[\"TRAIN_CO\"]\n",
    ")\n",
    "V_SM = (\n",
    "\tASC_SM \n",
    "\t+ B_TIME_SM * ds[\"SM_TT\"] \n",
    "\t+ B_COST * ds[\"SM_CO\"] \n",
    "\t+ B_SEAT * ds[\"SM_SEATS\"]\n",
    ")\n",
    "V_CAR = (\n",
    "\tASC_CAR \n",
    "\t+ B_TIME_CAR * ds[\"CAR_TT\"] \n",
    "\t+ B_COST * ds[\"CAR_CO\"]\n",
    ")\n",
    "\n",
    "# Define the model\n",
    "U = [V_TRAIN, V_SM, V_CAR]\n",
    "AV = [ds[\"TRAIN_AV\"], ds[\"SM_AV\"], ds[\"CAR_AV\"]]\n",
    "model = MNL(ds, locals(), U, AV)"
   ]
  },
  {
   "cell_type": "markdown",
   "metadata": {},
   "source": [
    "Estimate the model"
   ]
  },
  {
   "cell_type": "code",
   "execution_count": 3,
   "metadata": {},
   "outputs": [
    {
     "name": "stderr",
     "output_type": "stream",
     "text": [
      "13:33:43 [INFO] Start (n=8575, epoch=0, NLL=-8869.17, error=86.29%)\n",
      "13:33:43 [INFO] Train 0/2K (epoch=0, LL=-8735.75, error=42.77%, gnorm=2.646e-02)\n",
      "13:33:45 [INFO] Train 126/2K (epoch=126, LL=-7269.83, error=42.72%, gnorm=7.075e-03)\n",
      "13:33:46 [INFO] Train 209/2K (epoch=209, LL=-7156.10, error=40.16%, gnorm=5.178e-03)\n",
      "13:33:47 [INFO] Train 291/2K (epoch=291, LL=-7103.39, error=38.11%, gnorm=3.709e-03)\n",
      "13:33:48 [INFO] Train 376/2K (epoch=376, LL=-7076.64, error=37.73%, gnorm=2.621e-03)\n",
      "13:33:49 [INFO] Train 464/2K (epoch=464, LL=-7062.16, error=37.22%, gnorm=1.939e-03)\n",
      "13:33:51 [INFO] Train 600/2K (epoch=600, LL=-7050.68, error=37.17%, gnorm=1.407e-03)\n",
      "13:33:53 [INFO] Train 743/2K (epoch=743, LL=-7044.91, error=37.17%, gnorm=1.055e-03)\n",
      "13:33:53 [INFO] Train 768/2K (epoch=768, LL=-7044.28, error=37.08%, gnorm=9.986e-04)\n",
      "13:33:53 [INFO] Model converged (t=10.107)\n",
      "13:33:53 [INFO] Best results obtained at epoch 474: LL=-7060.98, error=37.08%, gnorm=1.88409e-03\n"
     ]
    }
   ],
   "source": [
    "# Train model\n",
    "model.reset_values()\n",
    "train(model, ds, optimizer=optim.Adam, lr_scheduler=sched.ConstantLR, batch_size=0, max_epochs=2000, base_learning_rate=0.01, convergence_threshold=1e-3, acceptance_method=0)"
   ]
  },
  {
   "cell_type": "markdown",
   "metadata": {},
   "source": [
    "Display model results:"
   ]
  },
  {
   "cell_type": "code",
   "execution_count": null,
   "metadata": {},
   "outputs": [],
   "source": [
    "display(model.results.beta_statistics())\n",
    "display(model.results.model_statistics())\n",
    "display(model.results.benchmark())"
   ]
  },
  {
   "cell_type": "markdown",
   "metadata": {},
   "source": [
    "Display model correlation matrices"
   ]
  },
  {
   "cell_type": "code",
   "execution_count": null,
   "metadata": {},
   "outputs": [],
   "source": [
    "display(model.results.model_correlation_matrix())\n",
    "# display(model.results.model_robust_correlation_matrix())"
   ]
  },
  {
   "cell_type": "markdown",
   "metadata": {},
   "source": [
    "Plot model Loglikelihood, training and validation error"
   ]
  },
  {
   "cell_type": "code",
   "execution_count": null,
   "metadata": {},
   "outputs": [],
   "source": [
    "model.results.show_training_plot()"
   ]
  },
  {
   "cell_type": "markdown",
   "metadata": {},
   "source": [
    "Model validation prediction"
   ]
  },
  {
   "cell_type": "code",
   "execution_count": null,
   "metadata": {},
   "outputs": [],
   "source": [
    "# predict CHOICE on the validation set and display the results.\n",
    "# First three columns are the probabilities, the fourth column \n",
    "# is the predicted choice, fifth column is the actual choice.\n",
    "pd.DataFrame(model.predict(ds))"
   ]
  },
  {
   "cell_type": "markdown",
   "metadata": {},
   "source": [
    "Compute elasticities of SM_CO with respect to CHOICE:SM"
   ]
  },
  {
   "cell_type": "code",
   "execution_count": null,
   "metadata": {},
   "outputs": [],
   "source": [
    "sm_co_wrt_sm = model.elasticities(ds, 1)[\"SM_CO\"]\n",
    "print(sm_co_wrt_sm.mean())"
   ]
  },
  {
   "cell_type": "markdown",
   "metadata": {},
   "source": [
    "Plot the elasticities"
   ]
  },
  {
   "cell_type": "code",
   "execution_count": null,
   "metadata": {},
   "outputs": [],
   "source": [
    "import seaborn as sns\n",
    "import matplotlib.pyplot as plt\n",
    "sns.set_style(\"ticks\")\n",
    "\n",
    "fig, ax = plt.subplots()\n",
    "sns.histplot(sm_co_wrt_sm, kde=False, ax=ax, bins=40)\n",
    "\n",
    "sns.despine()\n",
    "plt.show()"
   ]
  }
 ],
 "metadata": {
  "kernelspec": {
   "display_name": "pycmtensor",
   "language": "python",
   "name": "python3"
  },
  "language_info": {
   "codemirror_mode": {
    "name": "ipython",
    "version": 3
   },
   "file_extension": ".py",
   "mimetype": "text/x-python",
   "name": "python",
   "nbconvert_exporter": "python",
   "pygments_lexer": "ipython3",
   "version": "3.11.9"
  }
 },
 "nbformat": 4,
 "nbformat_minor": 4
}
