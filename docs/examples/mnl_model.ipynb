{
 "cells": [
  {
   "cell_type": "markdown",
   "metadata": {},
   "source": [
    "# Multinomial logit model"
   ]
  },
  {
   "cell_type": "markdown",
   "metadata": {},
   "source": [
    "This guide presents an introduction to a simple MNL model example using PyCMTensor."
   ]
  },
  {
   "cell_type": "markdown",
   "metadata": {},
   "source": [
    "Include all necessary packages, including `pandas` and `numpy`:"
   ]
  },
  {
   "cell_type": "code",
   "execution_count": null,
   "metadata": {},
   "outputs": [],
   "source": [
    "import numpy as np\n",
    "import pandas as pd\n",
    "import pycmtensor as cmt\n",
    "from pycmtensor.expressions import Beta\n",
    "from pycmtensor.models import MNL\n",
    "from pycmtensor.statistics import elasticities"
   ]
  },
  {
   "cell_type": "markdown",
   "metadata": {},
   "source": [
    "Load the ``swissmetro.dat`` dataset and define the `Data` object. The arguments for `Data` are as follows:\n",
    "- `df`: the pandas DataFrame object\n",
    "- `choice`: column label in the DataFrame object which corresponds to the dependent choice variable\n",
    "- `drop`: list of conditional statement(s) which is used to drop certain rows\n",
    "- `autoscale`: boolean variable which indicates whether to scale the variables to between -10 and 10\n",
    "- `autoscale_except`: list of column label(s) which to ignore when `autoscale` is True\n",
    "- `split`: split ratio for training:validation datasets (`1.0` indicates all samples are used for training and no validation samples)"
   ]
  },
  {
   "cell_type": "code",
   "execution_count": null,
   "metadata": {},
   "outputs": [],
   "source": [
    "sm = pd.read_csv(\"swissmetro.dat\", sep=\"\\t\")\n",
    "db = cmt.Data(\n",
    "    df=sm,\n",
    "    choice=\"CHOICE\",\n",
    "    drop=[sm[\"CHOICE\"] == 0],\n",
    "    autoscale=True,\n",
    "    autoscale_except=[\"ID\", \"ORIGIN\", \"DEST\", \"CHOICE\"],\n",
    "    split=0.8,\n",
    ")"
   ]
  },
  {
   "cell_type": "markdown",
   "metadata": {},
   "source": [
    "## Model specification"
   ]
  },
  {
   "cell_type": "markdown",
   "metadata": {},
   "source": [
    "Describe the model by defining the $\\beta$ variables `Beta()` and specify the utility as a list of equations. Optionally, include the availability conditions if required.\n",
    "\n",
    "Variables are referenced by using `db[\"<name_of_column>\"]`"
   ]
  },
  {
   "cell_type": "code",
   "execution_count": 2,
   "metadata": {},
   "outputs": [],
   "source": [
    "b_cost = Beta(\"b_cost\", 0.0, None, None, 0)\n",
    "b_time = Beta(\"b_time\", 0.0, None, None, 0)\n",
    "asc_train = Beta(\"asc_train\", 0.0, None, None, 0)\n",
    "asc_car = Beta(\"asc_car\", 0.0, None, None, 0)\n",
    "asc_sm = Beta(\"asc_sm\", 0.0, None, None, 1)\n",
    "\n",
    "U_1 = b_cost * db[\"TRAIN_CO\"] + b_time * db[\"TRAIN_TT\"] + asc_train\n",
    "U_2 = b_cost * db[\"SM_CO\"] + b_time * db[\"SM_TT\"] + asc_sm\n",
    "U_3 = b_cost * db[\"CAR_CO\"] + b_time * db[\"CAR_TT\"] + asc_car\n",
    "\n",
    "# specify the utility function and the availability conditions\n",
    "U = [U_1, U_2, U_3]  # utility\n",
    "AV = [db[\"TRAIN_AV\"], db[\"SM_AV\"], db[\"CAR_AV\"]]  # availability"
   ]
  },
  {
   "cell_type": "markdown",
   "metadata": {},
   "source": [
    "## Define the model"
   ]
  },
  {
   "cell_type": "markdown",
   "metadata": {},
   "source": [
    "Define the MNL model `MNL(db=,params=,utility=,av=,**kwargs)`.\n",
    "Argument options explanation:\n",
    "- `db`: the `Data` object\n",
    "- `params`: dict of params where the keys are the name of the parameter and the values are the `Beta` objects. For example, `params={\"asc_car\":asc_car, \"asc_train\":asc_train}`. A simple shortcut is to use `locals()` to load all locally defined Python variables.\n",
    "\n",
    "keyword arguments are the model hyperparameters. For example, `optimizer=SGD` sets the optimizer algorithm to stochastic gradient descent."
   ]
  },
  {
   "cell_type": "code",
   "execution_count": null,
   "metadata": {},
   "outputs": [],
   "source": [
    "mymodel = MNL(db=db, params=locals(), utility=U, av=AV)"
   ]
  },
  {
   "cell_type": "markdown",
   "metadata": {},
   "source": [
    "## Train the model\n",
    "\n",
    "Train the model by calling the function `.train(db, **kwargs)`.\n",
    "\n",
    "Keyword arguments are the training hyperparameters. Possible options are `max_steps:int`, `patience:int`, `lr_scheduler:scheduler.Scheduler`, `batch_size:int`. For more information and other possible options, see `config.Config.hyperparameters`"
   ]
  },
  {
   "cell_type": "code",
   "execution_count": 3,
   "metadata": {},
   "outputs": [
    {
     "name": "stderr",
     "output_type": "stream",
     "text": [
      "11:01:26 [INFO] Start (n=8575)\n",
      "11:01:35 [INFO] End (t=00:00:10, VE=40.224%, LL=-7529.683422816989, S=23)\n"
     ]
    }
   ],
   "source": [
    "mymodel.train(db, max_steps=100)"
   ]
  },
  {
   "cell_type": "markdown",
   "metadata": {},
   "source": [
    "## Output results and statistics"
   ]
  },
  {
   "cell_type": "markdown",
   "metadata": {},
   "source": [
    "Beta parameters"
   ]
  },
  {
   "cell_type": "code",
   "execution_count": 4,
   "metadata": {},
   "outputs": [
    {
     "name": "stdout",
     "output_type": "stream",
     "text": [
      "              value   std err     t-test   p-value rob. std err rob. t-test  \\\n",
      "asc_car   -0.853707  0.047113 -18.120447       0.0     0.001773 -481.494189   \n",
      "asc_sm          0.0         -          -         -            -           -   \n",
      "asc_train -1.845829   0.05049 -36.558574       0.0     0.010834 -170.368325   \n",
      "b_cost     0.025854  0.019678   1.313796  0.188915      0.00523    4.943254   \n",
      "b_time      -0.5217  0.053767  -9.702955       0.0     0.003695 -141.184022   \n",
      "\n",
      "          rob. p-value  \n",
      "asc_car            0.0  \n",
      "asc_sm               -  \n",
      "asc_train          0.0  \n",
      "b_cost        0.000001  \n",
      "b_time             0.0  \n"
     ]
    }
   ],
   "source": [
    "print(mymodel.results.beta_statistics())"
   ]
  },
  {
   "cell_type": "markdown",
   "metadata": {},
   "source": [
    "Model statistics"
   ]
  },
  {
   "cell_type": "code",
   "execution_count": 5,
   "metadata": {},
   "outputs": [
    {
     "name": "stdout",
     "output_type": "stream",
     "text": [
      "                                          value\n",
      "Number of training samples used          8575.0\n",
      "Number of validation samples used        2143.0\n",
      "Init. log likelihood               -8885.386433\n",
      "Final log likelihood               -7529.683423\n",
      "Accuracy                                 59.78%\n",
      "Likelihood ratio test                2711.40602\n",
      "Rho square                             0.152577\n",
      "Rho square bar                         0.152014\n",
      "Akaike Information Criterion       15069.366846\n",
      "Bayesian Information Criterion     15104.649877\n",
      "Final gradient norm                    0.003011\n"
     ]
    }
   ],
   "source": [
    "print(mymodel.results.model_statistics())"
   ]
  },
  {
   "cell_type": "markdown",
   "metadata": {},
   "source": [
    "Correlation matrix"
   ]
  },
  {
   "cell_type": "code",
   "execution_count": 6,
   "metadata": {},
   "outputs": [
    {
     "name": "stdout",
     "output_type": "stream",
     "text": [
      "             b_cost    b_time  asc_train   asc_car\n",
      "b_cost     1.000000  0.215873   0.234180 -0.019954\n",
      "b_time     0.215873  1.000000   0.750515  0.814288\n",
      "asc_train  0.234180  0.750515   1.000000  0.685223\n",
      "asc_car   -0.019954  0.814288   0.685223  1.000000\n"
     ]
    }
   ],
   "source": [
    "print(mymodel.results.model_correlation_matrix())"
   ]
  },
  {
   "cell_type": "markdown",
   "metadata": {},
   "source": [
    "Benchmark"
   ]
  },
  {
   "cell_type": "code",
   "execution_count": 7,
   "metadata": {},
   "outputs": [
    {
     "name": "stdout",
     "output_type": "stream",
     "text": [
      "                       value\n",
      "Seed                     980\n",
      "Model build time    00:00:13\n",
      "Model train time    00:00:10\n",
      "iterations per sec  345.14/s\n"
     ]
    }
   ],
   "source": [
    "print(mymodel.results.benchmark())"
   ]
  },
  {
   "cell_type": "markdown",
   "metadata": {},
   "source": [
    "Predictions"
   ]
  },
  {
   "cell_type": "code",
   "execution_count": 8,
   "metadata": {},
   "outputs": [
    {
     "name": "stdout",
     "output_type": "stream",
     "text": [
      "[[0.12138601 0.55492529 0.3236887 ]\n",
      " [0.10724806 0.5969908  0.29576114]\n",
      " [0.10717803 0.60330066 0.28952132]\n",
      " ...\n",
      " [0.11440961 0.55831256 0.32727783]\n",
      " [0.12859771 0.5241943  0.34720798]\n",
      " [0.10920566 0.58416641 0.30662793]]\n",
      "(array([1, 2], dtype=int64), array([2068,   75], dtype=int64))\n"
     ]
    }
   ],
   "source": [
    "# predictions\n",
    "print(mymodel.predict(db, return_choices=False))\n",
    "print(np.unique(mymodel.predict(db), return_counts=True))"
   ]
  },
  {
   "cell_type": "markdown",
   "metadata": {},
   "source": [
    "Elasticities"
   ]
  },
  {
   "cell_type": "code",
   "execution_count": 9,
   "metadata": {},
   "outputs": [
    {
     "name": "stdout",
     "output_type": "stream",
     "text": [
      "[-0.06027963 -0.15127238 -0.20175932 ... -0.02805637 -0.05351249\n",
      " -0.04710554]\n"
     ]
    }
   ],
   "source": [
    "\n",
    "\n",
    "print(elasticities(mymodel, db, 0, \"TRAIN_TT\"))"
   ]
  }
 ],
 "metadata": {
  "kernelspec": {
   "display_name": "Python 3.10.0 ('pycmtensor-dev')",
   "language": "python",
   "name": "python3"
  },
  "language_info": {
   "codemirror_mode": {
    "name": "ipython",
    "version": 3
   },
   "file_extension": ".py",
   "mimetype": "text/x-python",
   "name": "python",
   "nbconvert_exporter": "python",
   "pygments_lexer": "ipython3",
   "version": "3.9.13"
  },
  "orig_nbformat": 4,
  "vscode": {
   "interpreter": {
    "hash": "8519cd4d47b15910736c5570af4c4e0aa29a6c9a8fe56130f373e7aa596bd9e4"
   }
  }
 },
 "nbformat": 4,
 "nbformat_minor": 2
}
