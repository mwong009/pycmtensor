{
 "cells": [
  {
   "cell_type": "code",
   "execution_count": 20,
   "id": "3abb5b13",
   "metadata": {},
   "outputs": [
    {
     "name": "stdout",
     "output_type": "stream",
     "text": [
      "\n",
      "        Some results that you can compare against. They were 10 executions\n",
      "        of gemm in float64 with matrices of shape 2000x2000 (M=N=K=2000).\n",
      "        All memory layout was in C order.\n",
      "\n",
      "        CPU tested: Xeon E5345(2.33Ghz, 8M L2 cache, 1333Mhz FSB),\n",
      "                    Xeon E5430(2.66Ghz, 12M L2 cache, 1333Mhz FSB),\n",
      "                    Xeon E5450(3Ghz, 12M L2 cache, 1333Mhz FSB),\n",
      "                    Xeon X5560(2.8Ghz, 12M L2 cache, hyper-threads?)\n",
      "                    Core 2 E8500, Core i7 930(2.8Ghz, hyper-threads enabled),\n",
      "                    Core i7 950(3.07GHz, hyper-threads enabled)\n",
      "                    Xeon X5550(2.67GHz, 8M l2 cache?, hyper-threads enabled)\n",
      "\n",
      "\n",
      "        Libraries tested:\n",
      "            * numpy with ATLAS from distribution (FC9) package (1 thread)\n",
      "            * manually compiled numpy and ATLAS with 2 threads\n",
      "            * goto 1.26 with 1, 2, 4 and 8 threads\n",
      "            * goto2 1.13 compiled with multiple threads enabled\n",
      "\n",
      "                          Xeon   Xeon   Xeon  Core2 i7    i7     Xeon   Xeon\n",
      "        lib/nb threads    E5345  E5430  E5450 E8500 930   950    X5560  X5550\n",
      "\n",
      "        numpy 1.3.0 blas                                                775.92s\n",
      "        numpy_FC9_atlas/1 39.2s  35.0s  30.7s 29.6s 21.5s 19.60s\n",
      "        goto/1            18.7s  16.1s  14.2s 13.7s 16.1s 14.67s\n",
      "        numpy_MAN_atlas/2 12.0s  11.6s  10.2s  9.2s  9.0s\n",
      "        goto/2             9.5s   8.1s   7.1s  7.3s  8.1s  7.4s\n",
      "        goto/4             4.9s   4.4s   3.7s  -     4.1s  3.8s\n",
      "        goto/8             2.7s   2.4s   2.0s  -     4.1s  3.8s\n",
      "        openblas/1                                        14.04s\n",
      "        openblas/2                                         7.16s\n",
      "        openblas/4                                         3.71s\n",
      "        openblas/8                                         3.70s\n",
      "        mkl 11.0.083/1            7.97s\n",
      "        mkl 10.2.2.025/1                                         13.7s\n",
      "        mkl 10.2.2.025/2                                          7.6s\n",
      "        mkl 10.2.2.025/4                                          4.0s\n",
      "        mkl 10.2.2.025/8                                          2.0s\n",
      "        goto2 1.13/1                                                     14.37s\n",
      "        goto2 1.13/2                                                      7.26s\n",
      "        goto2 1.13/4                                                      3.70s\n",
      "        goto2 1.13/8                                                      1.94s\n",
      "        goto2 1.13/16                                                     3.16s\n",
      "\n",
      "        Test time in float32. There were 10 executions of gemm in\n",
      "        float32 with matrices of shape 5000x5000 (M=N=K=5000)\n",
      "        All memory layout was in C order.\n",
      "\n",
      "\n",
      "        cuda version      8.0    7.5    7.0\n",
      "        gpu\n",
      "        M40               0.45s  0.47s\n",
      "        k80               0.92s  0.96s\n",
      "        K6000/NOECC       0.71s         0.69s\n",
      "        P6000/NOECC       0.25s\n",
      "\n",
      "        Titan X (Pascal)  0.28s\n",
      "        GTX Titan X       0.45s  0.45s  0.47s\n",
      "        GTX Titan Black   0.66s  0.64s  0.64s\n",
      "        GTX 1080          0.35s\n",
      "        GTX 980 Ti               0.41s\n",
      "        GTX 970                  0.66s\n",
      "        GTX 680                         1.57s\n",
      "        GTX 750 Ti               2.01s  2.01s\n",
      "        GTX 750                  2.46s  2.37s\n",
      "        GTX 660                  2.32s  2.32s\n",
      "        GTX 580                  2.42s\n",
      "        GTX 480                  2.87s\n",
      "        TX1                             7.6s (float32 storage and computation)\n",
      "        GT 610                          33.5s\n",
      "        \n",
      "Some Aesara flags:\n",
      "    blas__ldflags= -LC:\\Users\\Melvin\\miniconda3\\Library\\bin -lmkl_rt.2\n",
      "    compiledir= C:\\Users\\Melvin\\AppData\\Local\\Aesara\\compiledir_Windows-10-10.0.22000-SP0-Intel64_Family_6_Model_142_Stepping_11_GenuineIntel-3.9.7-64\n",
      "    floatX= float64\n",
      "    device= cpu\n",
      "Some OS information:\n",
      "    sys.platform= win32\n",
      "    sys.version= 3.9.7 (default, Sep 16 2021, 16:59:28) [MSC v.1916 64 bit (AMD64)]\n",
      "    sys.prefix= C:\\Users\\Melvin\\miniconda3\n",
      "Some environment variables:\n",
      "    MKL_NUM_THREADS= 8\n",
      "    OMP_NUM_THREADS= 8\n",
      "    GOTO_NUM_THREADS= None\n",
      "\n",
      "Numpy config: (used when the Aesara flag \"blas__ldflags\" is empty)\n",
      "blas_mkl_info:\n",
      "    libraries = ['mkl_rt']\n",
      "    library_dirs = ['C:/Users/Melvin/miniconda3\\\\Library\\\\lib']\n",
      "    define_macros = [('SCIPY_MKL_H', None), ('HAVE_CBLAS', None)]\n",
      "    include_dirs = ['C:/Users/Melvin/miniconda3\\\\Library\\\\include']\n",
      "blas_opt_info:\n",
      "    libraries = ['mkl_rt']\n",
      "    library_dirs = ['C:/Users/Melvin/miniconda3\\\\Library\\\\lib']\n",
      "    define_macros = [('SCIPY_MKL_H', None), ('HAVE_CBLAS', None)]\n",
      "    include_dirs = ['C:/Users/Melvin/miniconda3\\\\Library\\\\include']\n",
      "lapack_mkl_info:\n",
      "    libraries = ['mkl_rt']\n",
      "    library_dirs = ['C:/Users/Melvin/miniconda3\\\\Library\\\\lib']\n",
      "    define_macros = [('SCIPY_MKL_H', None), ('HAVE_CBLAS', None)]\n",
      "    include_dirs = ['C:/Users/Melvin/miniconda3\\\\Library\\\\include']\n",
      "lapack_opt_info:\n",
      "    libraries = ['mkl_rt']\n",
      "    library_dirs = ['C:/Users/Melvin/miniconda3\\\\Library\\\\lib']\n",
      "    define_macros = [('SCIPY_MKL_H', None), ('HAVE_CBLAS', None)]\n",
      "    include_dirs = ['C:/Users/Melvin/miniconda3\\\\Library\\\\include']\n",
      "Supported SIMD extensions in this NumPy install:\n",
      "    baseline = SSE,SSE2,SSE3\n",
      "    found = SSSE3,SSE41,POPCNT,SSE42,AVX,F16C,FMA3,AVX2\n",
      "    not found = AVX512F,AVX512CD,AVX512_SKX,AVX512_CLX,AVX512_CNL\n",
      "Numpy dot module: numpy\n",
      "Numpy location: C:\\Users\\Melvin\\miniconda3\\lib\\site-packages\\numpy\\__init__.py\n",
      "Numpy version: 1.21.5\n",
      "\n",
      "We executed 10 calls to gemm with a and b matrices of shapes (5000, 5000) and (5000, 5000).\n",
      "\n",
      "Total execution time: 18.59s on CPU (with direct Aesara binding to blas).\n",
      "\n",
      "Try to run this script a few times. Experience shows that the first time is not as fast as following calls. The difference is not big, but consistent.\n"
     ]
    }
   ],
   "source": [
    "from aesara.misc import check_blas\n",
    "!python \"C:\\Users\\Melvin\\OneDrive - TU Eindhoven\\Lab\\aesara\\aesara\\misc\\check_blas.py\""
   ]
  },
  {
   "cell_type": "code",
   "execution_count": 12,
   "id": "c839d492",
   "metadata": {},
   "outputs": [
    {
     "name": "stdout",
     "output_type": "stream",
     "text": [
      "C:\\Users\\Melvin\\miniconda3\\Library\\bin\n",
      "mkl_rt.2\n"
     ]
    }
   ],
   "source": [
    "import os\n",
    "import glob\n",
    "aesararc_dir = os.path.expanduser(\"~\")\n",
    "ld_dir = os.path.join(os.getenv(\"CONDA_PREFIX\"), \"Library\", \"bin\")\n",
    "mkt_rt_files = glob.glob(os.path.join(ld_dir, \"mkl_rt*\"))\n",
    "if len(mkt_rt_files) > 0:\n",
    "    mkl_rt_flag = os.path.basename(mkt_rt_files[-1])\n",
    "    if mkl_rt_flag.endswith(\".dll\"):\n",
    "        mkl_rt_flag = mkl_rt_flag[:-4]\n",
    "print(ld_dir)\n",
    "print(mkl_rt_flag)"
   ]
  },
  {
   "cell_type": "code",
   "execution_count": 13,
   "id": "0b012b6b",
   "metadata": {},
   "outputs": [],
   "source": [
    "with open(os.path.join(aesararc_dir, \".aesararc\"), \"w\") as f:\n",
    "    f.write(\n",
    "        \"# Autogenerated by PyCMTensor\\n\\n\"\n",
    "        f\"[blas]\\nldflags = -L{ld_dir} -l{mkl_rt_flag}\"\n",
    "    )\n"
   ]
  },
  {
   "cell_type": "code",
   "execution_count": 6,
   "id": "63714403",
   "metadata": {},
   "outputs": [],
   "source": [
    "aesara.config.blas__ldflags = f'-L\"{os.path.join(os.getenv(\"CONDA_PREFIX\"), \"Library\", \"bin\")}\" -lmkl_rt.2'"
   ]
  },
  {
   "cell_type": "code",
   "execution_count": 3,
   "id": "ba1bd693",
   "metadata": {},
   "outputs": [
    {
     "data": {
      "text/plain": [
       "'-LC:\\\\Users\\\\Melvin\\\\miniconda3\\\\Library\\\\bin -lmkl_rt.2'"
      ]
     },
     "execution_count": 3,
     "metadata": {},
     "output_type": "execute_result"
    }
   ],
   "source": [
    "aesara.config.blas__ldflags"
   ]
  },
  {
   "cell_type": "code",
   "execution_count": 38,
   "id": "3624525d",
   "metadata": {},
   "outputs": [
    {
     "data": {
      "text/plain": [
       "<aesara.configparser._ChangeFlagsDecorator at 0x14806a05280>"
      ]
     },
     "execution_count": 38,
     "metadata": {},
     "output_type": "execute_result"
    }
   ],
   "source": [
    "aesara.config.change_flags({\"floatX\": \"float32\"})"
   ]
  },
  {
   "cell_type": "code",
   "execution_count": 44,
   "id": "c8598f8d",
   "metadata": {},
   "outputs": [
    {
     "data": {
      "text/plain": [
       "<aesara.configparser._SectionRedirect at 0x14800f3be80>"
      ]
     },
     "execution_count": 44,
     "metadata": {},
     "output_type": "execute_result"
    }
   ],
   "source": [
    "aesara.config.blas"
   ]
  },
  {
   "cell_type": "code",
   "execution_count": 11,
   "id": "20413e98",
   "metadata": {},
   "outputs": [
    {
     "data": {
      "text/plain": [
       "environ{'ALLUSERSPROFILE': 'C:\\\\ProgramData',\n",
       "        'APPDATA': 'C:\\\\Users\\\\Melvin\\\\AppData\\\\Roaming',\n",
       "        'CHOCOLATEYINSTALL': 'C:\\\\ProgramData\\\\chocolatey',\n",
       "        'CHOCOLATEYLASTPATHUPDATE': '132904701816897149',\n",
       "        'CHOCOLATEYTOOLSLOCATION': 'C:\\\\tools',\n",
       "        'COMMONPROGRAMFILES': 'C:\\\\Program Files\\\\Common Files',\n",
       "        'COMMONPROGRAMFILES(X86)': 'C:\\\\Program Files (x86)\\\\Common Files',\n",
       "        'COMMONPROGRAMW6432': 'C:\\\\Program Files\\\\Common Files',\n",
       "        'COMPUTERNAME': 'DESKTOP-G8GBC5Q',\n",
       "        'COMSPEC': 'C:\\\\WINDOWS\\\\system32\\\\cmd.exe',\n",
       "        'CONDA_DEFAULT_ENV': 'base',\n",
       "        'CONDA_EXE': 'C:\\\\Users\\\\Melvin\\\\miniconda3\\\\Scripts\\\\conda.exe',\n",
       "        'CONDA_PREFIX': 'C:\\\\Users\\\\Melvin\\\\miniconda3',\n",
       "        'CONDA_PROMPT_MODIFIER': 'False',\n",
       "        'CONDA_PYTHON_EXE': 'C:\\\\Users\\\\Melvin\\\\miniconda3\\\\python.exe',\n",
       "        'CONDA_SHLVL': '1',\n",
       "        'DRIVERDATA': 'C:\\\\Windows\\\\System32\\\\Drivers\\\\DriverData',\n",
       "        'GEM_HOME': 'C:\\\\Users\\\\Melvin\\\\miniconda3\\\\share\\\\rubygems',\n",
       "        'HOMEDRIVE': 'C:',\n",
       "        'HOMEPATH': '\\\\Users\\\\Melvin',\n",
       "        'LOCALAPPDATA': 'C:\\\\Users\\\\Melvin\\\\AppData\\\\Local',\n",
       "        'LOGONSERVER': '\\\\\\\\DESKTOP-G8GBC5Q',\n",
       "        'NUMBER_OF_PROCESSORS': '8',\n",
       "        'ONEDRIVE': 'C:\\\\Users\\\\Melvin\\\\OneDrive - TU Eindhoven',\n",
       "        'ONEDRIVECOMMERCIAL': 'C:\\\\Users\\\\Melvin\\\\OneDrive - TU Eindhoven',\n",
       "        'ONEDRIVECONSUMER': 'C:\\\\Users\\\\Melvin\\\\OneDrive',\n",
       "        'OS': 'Windows_NT',\n",
       "        'PATH': 'C:\\\\Users\\\\Melvin\\\\.oh-my-posh;C:\\\\Users\\\\Melvin\\\\miniconda3\\\\share\\\\rubygems\\\\bin;C:\\\\Users\\\\Melvin\\\\miniconda3;C:\\\\Users\\\\Melvin\\\\miniconda3\\\\Library\\\\mingw-w64\\\\bin;C:\\\\Users\\\\Melvin\\\\miniconda3\\\\Library\\\\usr\\\\bin;C:\\\\Users\\\\Melvin\\\\miniconda3\\\\Library\\\\bin;C:\\\\Users\\\\Melvin\\\\miniconda3\\\\Scripts;C:\\\\Users\\\\Melvin\\\\miniconda3\\\\bin;C:\\\\Users\\\\Melvin\\\\miniconda3\\\\condabin;C:\\\\opt\\\\PowerShell\\\\7;C:\\\\Windows\\\\system32;C:\\\\Windows;C:\\\\Windows\\\\System32\\\\Wbem;C:\\\\Windows\\\\System32\\\\WindowsPowerShell\\\\v1.0;C:\\\\Windows\\\\System32\\\\OpenSSH;C:\\\\Program Files (x86)\\\\NVIDIA Corporation\\\\PhysX\\\\Common;C:\\\\opt\\\\PowerShell\\\\7;C:\\\\WINDOWS\\\\system32;C:\\\\WINDOWS;C:\\\\WINDOWS\\\\System32\\\\Wbem;C:\\\\WINDOWS\\\\System32\\\\WindowsPowerShell\\\\v1.0;C:\\\\WINDOWS\\\\System32\\\\OpenSSH;C:\\\\Program Files (x86)\\\\Tailscale IPN;C:\\\\opt\\\\Microsoft VS Code\\\\bin;C:\\\\ProgramData\\\\chocolatey\\\\bin;C:\\\\Users\\\\Melvin\\\\AppData\\\\Local\\\\Microsoft\\\\WindowsApps;C:\\\\opt\\\\Brackets',\n",
       "        'PATHEXT': '.COM;.EXE;.BAT;.CMD;.VBS;.VBE;.JS;.JSE;.WSF;.WSH;.MSC;.CPL',\n",
       "        'POSH_GIT_ENABLED': 'False',\n",
       "        'POSH_PATH': 'C:\\\\Users\\\\Melvin\\\\.oh-my-posh',\n",
       "        'POSH_THEME': 'C:\\\\Users\\\\Melvin\\\\OneDrive\\\\Documents\\\\PowerShell\\\\mytheme.omp.json',\n",
       "        'POSH_THEMES_PATH': 'C:\\\\Users\\\\Melvin\\\\.oh-my-posh\\\\themes',\n",
       "        'POWERLINE_COMMAND': 'oh-my-posh',\n",
       "        'POWERSHELL_DISTRIBUTION_CHANNEL': 'MSI:Windows 10 Home',\n",
       "        'PROCESSOR_ARCHITECTURE': 'AMD64',\n",
       "        'PROCESSOR_IDENTIFIER': 'Intel64 Family 6 Model 142 Stepping 11, GenuineIntel',\n",
       "        'PROCESSOR_LEVEL': '6',\n",
       "        'PROCESSOR_REVISION': '8e0b',\n",
       "        'PROGRAMDATA': 'C:\\\\ProgramData',\n",
       "        'PROGRAMFILES': 'C:\\\\Program Files',\n",
       "        'PROGRAMFILES(X86)': 'C:\\\\Program Files (x86)',\n",
       "        'PROGRAMW6432': 'C:\\\\Program Files',\n",
       "        'PSMODULEPATH': 'C:\\\\Users\\\\Melvin\\\\OneDrive\\\\Documents\\\\PowerShell\\\\Modules;C:\\\\Program Files\\\\PowerShell\\\\Modules;c:\\\\opt\\\\powershell\\\\7\\\\Modules;C:\\\\Program Files\\\\WindowsPowerShell\\\\Modules;C:\\\\WINDOWS\\\\system32\\\\WindowsPowerShell\\\\v1.0\\\\Modules',\n",
       "        'PUBLIC': 'C:\\\\Users\\\\Public',\n",
       "        'SYSTEMDRIVE': 'C:',\n",
       "        'SYSTEMROOT': 'C:\\\\WINDOWS',\n",
       "        'TEMP': 'C:\\\\Users\\\\Melvin\\\\AppData\\\\Local\\\\Temp',\n",
       "        'TMP': 'C:\\\\Users\\\\Melvin\\\\AppData\\\\Local\\\\Temp',\n",
       "        'USERDOMAIN': 'DESKTOP-G8GBC5Q',\n",
       "        'USERDOMAIN_ROAMINGPROFILE': 'DESKTOP-G8GBC5Q',\n",
       "        'USERNAME': 'Melvin',\n",
       "        'USERPROFILE': 'C:\\\\Users\\\\Melvin',\n",
       "        'WINDIR': 'C:\\\\WINDOWS',\n",
       "        'WSLENV': 'WT_SESSION::WT_PROFILE_ID',\n",
       "        'WT_PROFILE_ID': '{bab3dfe1-22ec-4190-8a1a-0e6f1150ac8d}',\n",
       "        'WT_SESSION': '2ab05241-b9b0-4da3-9522-a7fcfe53d252',\n",
       "        '_CONDA_EXE': 'C:\\\\Users\\\\Melvin\\\\miniconda3\\\\Scripts\\\\conda.exe',\n",
       "        '_CONDA_ROOT': 'C:\\\\Users\\\\Melvin\\\\miniconda3',\n",
       "        'PYDEVD_USE_FRAME_EVAL': 'NO',\n",
       "        'JPY_INTERRUPT_EVENT': '3292',\n",
       "        'IPY_INTERRUPT_EVENT': '3292',\n",
       "        'JPY_PARENT_PID': '3300',\n",
       "        'TERM': 'xterm-color',\n",
       "        'CLICOLOR': '1',\n",
       "        'PAGER': 'cat',\n",
       "        'GIT_PAGER': 'cat',\n",
       "        'MPLBACKEND': 'module://matplotlib_inline.backend_inline',\n",
       "        'MKL_NUM_THREADS': '8'}"
      ]
     },
     "execution_count": 11,
     "metadata": {},
     "output_type": "execute_result"
    }
   ],
   "source": [
    "import os\n",
    "os.environ[\"MKL_NUM_THREADS\"] = \"8\"\n",
    "os.environ"
   ]
  },
  {
   "cell_type": "code",
   "execution_count": null,
   "id": "8133abc5",
   "metadata": {},
   "outputs": [],
   "source": []
  }
 ],
 "metadata": {
  "kernelspec": {
   "display_name": "Python 3 (ipykernel)",
   "language": "python",
   "name": "python3"
  },
  "language_info": {
   "codemirror_mode": {
    "name": "ipython",
    "version": 3
   },
   "file_extension": ".py",
   "mimetype": "text/x-python",
   "name": "python",
   "nbconvert_exporter": "python",
   "pygments_lexer": "ipython3",
   "version": "3.9.7"
  }
 },
 "nbformat": 4,
 "nbformat_minor": 5
}
