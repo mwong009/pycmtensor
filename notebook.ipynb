{
 "cells": [
  {
   "cell_type": "code",
   "execution_count": 1,
   "metadata": {},
   "outputs": [],
   "source": [
    "def database():\n",
    "\timport pandas as pd\n",
    "\tfrom pycmtensor import Database\n",
    "\tsm = pd.read_csv(\"data/swissmetro.dat\", sep=\"\\t\")\n",
    "\tdb = Database(name=\"swissmetro\", pandasDatabase=sm, choiceVar=\"CHOICE\")\n",
    "\tglobals().update(db.variables)\n",
    "\texclude = ((PURPOSE != 1) * (PURPOSE != 3) + (CHOICE == 0)) > 0\n",
    "\tdb.remove(exclude)\n",
    "\tdb.data[\"CHOICE\"] -= 1 # set the first choice to 0\n",
    "\tdb.choices = sorted(db.data[\"CHOICE\"].unique()) # save original choices\n",
    "\tdb.autoscale(variables=['TRAIN_CO', 'TRAIN_TT', 'CAR_CO', 'CAR_TT', \n",
    "\t\t'SM_CO', 'SM_TT'], default=100., verbose=False)\n",
    "\treturn db"
   ]
  },
  {
   "cell_type": "code",
   "execution_count": 2,
   "metadata": {},
   "outputs": [],
   "source": [
    "def betas():\n",
    "\tfrom pycmtensor.expressions import Beta\n",
    "\tb = {\n",
    "\t\t\"b_cost\": Beta(\"b_cost\", 0.0, None, None, 0),\n",
    "\t\t\"b_time\": Beta(\"b_time\", 0.0, None, None, 0),\n",
    "\t\t\"asc_train\": Beta(\"asc_train\", 0.0, None, None, 0),\n",
    "\t\t\"asc_car\": Beta(\"asc_car\", 0.0, None, None, 0),\n",
    "\t\t\"asc_sm\": Beta(\"asc_sm\", 0.0, None, None, 1),\n",
    "\t}\n",
    "\treturn b\n",
    "\n",
    "def betas_fault():\n",
    "\tfrom pycmtensor.expressions import Beta\n",
    "\tb = {\n",
    "\t\t\"b_cost\": Beta(\"b_cost\", 0.0, None, None, 0),\n",
    "\t\t\"b_time\": Beta(\"b_cost\", 0.0, None, None, 0),\n",
    "\t\t\"asc_train\": Beta(\"asc_train\", 0.0, None, None, 0),\n",
    "\t\t\"asc_car\": Beta(\"asc_car\", 0.0, None, None, 0),\n",
    "\t\t\"asc_sm\": Beta(\"asc_sm\", 0.0, None, None, 1),\n",
    "\t}\n",
    "\treturn b\n",
    "\t"
   ]
  },
  {
   "cell_type": "code",
   "execution_count": 4,
   "metadata": {},
   "outputs": [
    {
     "name": "stderr",
     "output_type": "stream",
     "text": [
      "[2022-03-08 16:38:11] WARNING: Unused Betas from computational graph: asc_train asc_car removed. To explicity keep params in model, set param status=1.\n"
     ]
    }
   ],
   "source": [
    "from pycmtensor.models import MNLogit\n",
    "db = database()\n",
    "locals().update(betas())\n",
    "U_1 = b_cost * db[\"TRAIN_CO\"] + b_time * db[\"TRAIN_TT\"]\n",
    "U_2 = b_cost * db[\"SM_CO\"] + b_time * db[\"SM_TT\"]\n",
    "U_3 = b_cost * db[\"CAR_CO\"] + b_time * db[\"CAR_TT\"]\n",
    "U = [U_1, U_2, U_3]\n",
    "AV = [db[\"TRAIN_AV\"], db[\"SM_AV\"], db[\"CAR_AV\"]]\n",
    "mymodel = MNLogit(u=U, av=AV, database=db, name=\"mymodel\")\n",
    "mymodel.add_params(locals())"
   ]
  },
  {
   "cell_type": "code",
   "execution_count": null,
   "metadata": {},
   "outputs": [
    {
     "data": {
      "text/plain": [
       "[b_cost(0.0, TensorSharedVariable), b_time(0.0, TensorSharedVariable)]"
      ]
     },
     "execution_count": 6,
     "metadata": {},
     "output_type": "execute_result"
    }
   ],
   "source": [
    "mymodel.params"
   ]
  }
 ],
 "metadata": {
  "interpreter": {
   "hash": "778af00a7feac2b7c56e6c502df232e5aa8589a0a8675e326528fd15e3e3c67f"
  },
  "kernelspec": {
   "display_name": "Python 3.9.7 ('icmc')",
   "language": "python",
   "name": "python3"
  },
  "language_info": {
   "codemirror_mode": {
    "name": "ipython",
    "version": 3
   },
   "file_extension": ".py",
   "mimetype": "text/x-python",
   "name": "python",
   "nbconvert_exporter": "python",
   "pygments_lexer": "ipython3",
   "version": "3.9.7"
  },
  "orig_nbformat": 4
 },
 "nbformat": 4,
 "nbformat_minor": 2
}
