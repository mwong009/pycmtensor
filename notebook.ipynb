{
 "cells": [
  {
   "cell_type": "code",
   "execution_count": 105,
   "metadata": {},
   "outputs": [
    {
     "data": {
      "text/plain": [
       "'9000'"
      ]
     },
     "execution_count": 105,
     "metadata": {},
     "output_type": "execute_result"
    }
   ],
   "source": [
    "import configparser\n",
    "import os\n",
    "import sys\n",
    "import glob\n",
    "import multiprocessing\n",
    "import numpy as np\n",
    "\n",
    "def generate_blas_flags():\n",
    "\tif 'CONDA_PREFIX' in os.environ:\n",
    "\t\tld_dir = os.path.join(os.getenv(\"CONDA_PREFIX\"), \"Library\", \"bin\")\n",
    "\t\tmkt_rt_bins = glob.glob(os.path.join(ld_dir, \"mkl_rt*\"))\n",
    "\t\tblas_flags = np.__config__.blas_mkl_info[\"libraries\"]\n",
    "\t\tfor b in mkt_rt_bins:\n",
    "\t\t\tif b.endswith(\".dll\"):\n",
    "\t\t\t\tb = b[:-4]\n",
    "\t\t\tblas_flags = [f\"-l{os.path.basename(b)}\"]\n",
    "\t\treturn blas_flags\n",
    "\telse:\n",
    "\t\traise NameError(\"Conda not installed.\")\n",
    "\n",
    "def generate_ld_path_flags():\n",
    "\tif 'CONDA_PREFIX' in os.environ:\n",
    "\t\tld_dir = os.path.join(os.getenv(\"CONDA_PREFIX\"), \"Library\", \"bin\")\n",
    "\t\tld_path_flags = [f\"-L{ld_dir}\"]\n",
    "\t\treturn ld_path_flags\n",
    "\telse:\n",
    "\t\traise NameError(\"Conda not installed.\")\n",
    "\t\n",
    "def init_aesararc():\n",
    "\tHOMEPATH = os.path.expanduser(\"~\")\n",
    "\taesararc_config_file = os.path.join(HOMEPATH, \".aesararc\")\n",
    "\taesararc_config = configparser.ConfigParser()\n",
    "\taesararc_config.add_section('global')\n",
    "\taesararc_config[\"global\"] = {'device': 'cpu', 'floatX': 'float64'}\n",
    "\taesararc_config.add_section('blas')\n",
    "\tldflags = \"\".join(f\"{ld_path} \" for ld_path in generate_ld_path_flags())\n",
    "\tldflags += \"\".join(f\"{blas} \" for blas in generate_blas_flags())\n",
    "\taesararc_config[\"blas\"][\"ldflags\"] = ldflags\n",
    "\twith open(aesararc_config_file, \"w\") as f:\n",
    "\t\t\taesararc_config.write(f)\n",
    "\n",
    "def _config():\n",
    "\tconfig = configparser.ConfigParser()\n",
    "\tconfig.add_section(\"hyperparameters\")\n",
    "\tconfig[\"hyperparameters\"] = {\n",
    "\t\t\"python_version\": sys.version,\n",
    "\t\t\"cwd\": os.getcwd(),\n",
    "\t\t\"patience\": 9000,\n",
    "\t\t\"patience_increase\": 2,\n",
    "\t\t\"validation_threshold\": 1.003,\n",
    "\t\t\"seed\": 999,\n",
    "\t\t\"base_lr\": 0.0001,\n",
    "\t\t\"max_lr\": 0.01,\n",
    "\t\t\"max_epoch\": 2000,\n",
    "\t\t\"batch_size\": 64,\n",
    "\t\t\"cyclic_lr_mode\": \"triangular2\",\n",
    "\t\t\"cyclic_lr_step_size\": 8,\n",
    "\t}\n",
    "\treturn config\n",
    "\n",
    "def init_env_vars():\n",
    "\tnum_cores = multiprocessing.cpu_count()\n",
    "\tos.environ[\"MKL_NUM_THREADS\"] = str(num_cores)\n",
    "\tos.environ[\"OMP_NUM_THREADS\"] = str(num_cores)\n",
    "\n",
    "class Config:\n",
    "\tdef __init__(self):\n",
    "\t\tself.config = _config()\n",
    "\t\tinit_aesararc()\n",
    "\t\tinit_env_vars()\n",
    "\n",
    "\tdef __repr__(self):\n",
    "\t\trval = f\"config ={{\\n\"\n",
    "\t\tfor key, val in self.config[\"hyperparameters\"].items():\n",
    "\t\t\trval += (f\"    {key}: {val},\\n\")\n",
    "\t\trval += f\"}}\"\n",
    "\t\treturn rval\n",
    "\t\n",
    "\tdef __getitem__(self, name):\n",
    "\t\tif name in self.config[\"hyperparameters\"]:\n",
    "\t\t\treturn self.config[\"hyperparameters\"][name]\n",
    "\n",
    "\tdef __setitem__(self, name, val):\n",
    "\t\tif name in self.config[\"hyperparameters\"]:\n",
    "\t\t\tself.config[\"hyperparameters\"][name] = val\n",
    "\t\telse:\n",
    "\t\t\traise NameError(f\"{name} not found in config file.\")\n",
    "\n",
    "cfg = Config()\n",
    "cfg[\"patience\"]"
   ]
  },
  {
   "cell_type": "code",
   "execution_count": 107,
   "metadata": {},
   "outputs": [
    {
     "name": "stdout",
     "output_type": "stream",
     "text": [
      "config ={\n",
      "    python_version: 3.9.7 (default, Sep 16 2021, 16:59:28) [MSC v.1916 64 bit (AMD64)],\n",
      "    cwd: c:\\Users\\Melvin\\OneDrive - TU Eindhoven\\Lab\\pycmtensor,\n",
      "    patience: 9000,\n",
      "    patience_increase: 2,\n",
      "    validation_threshold: 1.003,\n",
      "    seed: 999,\n",
      "    base_lr: 0.0001,\n",
      "    max_lr: 0.01,\n",
      "    max_epoch: 2000,\n",
      "    batch_size: 64,\n",
      "    cyclic_lr_mode: triangular2,\n",
      "    cyclic_lr_step_size: 8,\n",
      "}\n"
     ]
    }
   ],
   "source": [
    "print(cfg)"
   ]
  },
  {
   "cell_type": "code",
   "execution_count": null,
   "metadata": {},
   "outputs": [],
   "source": []
  }
 ],
 "metadata": {
  "interpreter": {
   "hash": "778af00a7feac2b7c56e6c502df232e5aa8589a0a8675e326528fd15e3e3c67f"
  },
  "kernelspec": {
   "display_name": "Python 3.9.7 ('icmc')",
   "language": "python",
   "name": "python3"
  },
  "language_info": {
   "codemirror_mode": {
    "name": "ipython",
    "version": 3
   },
   "file_extension": ".py",
   "mimetype": "text/x-python",
   "name": "python",
   "nbconvert_exporter": "python",
   "pygments_lexer": "ipython3",
   "version": "3.9.7"
  },
  "orig_nbformat": 4
 },
 "nbformat": 4,
 "nbformat_minor": 2
}
