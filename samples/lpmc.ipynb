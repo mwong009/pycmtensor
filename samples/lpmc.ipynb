{
 "cells": [
  {
   "cell_type": "markdown",
   "metadata": {},
   "source": [
    "# London Passenger Mode Choice"
   ]
  },
  {
   "cell_type": "code",
   "execution_count": 1,
   "metadata": {},
   "outputs": [
    {
     "name": "stderr",
     "output_type": "stream",
     "text": [
      "15:17:19 [INFO] seed: 100 n_train_samples:3986 n_valid_samples:997\n",
      "15:17:19 [WARNING] s_time not in any utility functions\n",
      "15:17:19 [WARNING] b_car_own not in any utility functions\n",
      "15:17:19 [INFO] choice: travel_mode\n",
      "15:17:19 [INFO] inputs in MNL: [purpose, driving_license, dur_walking, dur_cycling, dur_pt_rail, dur_pt_bus, dur_pt_int, dur_driving, cost_transit, cost_driving_fuel, cost_driving_ccharge]\n",
      "15:17:20 [INFO] Build time = 00:00:01\n"
     ]
    }
   ],
   "source": [
    "import os, sys\n",
    "sys.path.insert(0, os.path.abspath(\"..\"))\n",
    "\n",
    "#import packages\n",
    "import pandas as pd\n",
    "from pycmtensor.dataset import Dataset\n",
    "from pycmtensor.expressions import Beta, RandomDraws\n",
    "from pycmtensor.models import MNL\n",
    "\n",
    "lpmc = pd.read_csv(\"../data/lpmc.dat\", sep=\"\\t\")\n",
    "lpmc = lpmc[lpmc[\"travel_year\"]==2015]\n",
    "ds = Dataset(df=lpmc, choice=\"travel_mode\")\n",
    "ds.split(0.8)\n",
    "\n",
    "# Beta parameters\n",
    "asc_walk = Beta(\"asc_walk\", 0.0, None, None, 1)\n",
    "asc_cycle = Beta(\"asc_cycle\", 0.0, None, None, 0)\n",
    "asc_pt = Beta(\"asc_pt\", 0.0, None, None, 0)\n",
    "asc_drive = Beta(\"asc_drive\", 0.0, None, None, 0)\n",
    "b_cost = Beta(\"b_cost\", 0.0, None, None, 0)\n",
    "b_time = Beta(\"b_time\", 0.0, None, None, 0)\n",
    "s_time = Beta(\"s_time\", 0.5, None, None, 0)\n",
    "b_purpose = Beta(\"b_purpose\", 0.0, None, None, 0)\n",
    "b_licence = Beta(\"b_licence\", 0.0, None, None, 0)\n",
    "b_car_own = Beta(\"b_car_own\", 0.0, None, None, 0)\n",
    "\n",
    "rnd_time = RandomDraws('rnd_time', 'lognormal', 100)\n",
    "\n",
    "U_walk = asc_walk + b_time * ds[\"dur_walking\"] # + rnd_time(s_time) * db[\"dur_walking\"]\n",
    "U_cycle = asc_cycle + b_time * ds[\"dur_cycling\"] \n",
    "U_pt = asc_pt + b_time * (ds[\"dur_pt_rail\"] + ds[\"dur_pt_bus\"] + ds[\"dur_pt_int\"]) + b_cost * ds[\"cost_transit\"]\n",
    "U_drive = asc_drive + b_time * ds[\"dur_driving\"] + b_licence * ds[\"driving_license\"] + b_cost * (ds[\"cost_driving_fuel\"] + ds[\"cost_driving_ccharge\"])  + b_purpose * ds[\"purpose\"]\n",
    "\n",
    "U = [U_walk, U_cycle, U_pt, U_drive]\n",
    "mymodel = MNL(ds, locals(), U)"
   ]
  },
  {
   "cell_type": "markdown",
   "metadata": {},
   "source": [
    "## Estimate the models"
   ]
  },
  {
   "cell_type": "code",
   "execution_count": 2,
   "metadata": {},
   "outputs": [
    {
     "name": "stderr",
     "output_type": "stream",
     "text": [
      "15:17:23 [INFO] Start (n=3986, epoch=0, LL=-5525.77, error=81.85%)\n",
      "15:17:23 [INFO] Train 0/2K (epoch=0, LL=-5085.45, error=52.66%, gnorm=2.646e-01)\n",
      "15:17:24 [INFO] Train 217/500 (epoch=217, LL=-3414.91, error=35.31%, gnorm=2.082e-03)\n",
      "15:17:24 [INFO] Train 243/500 (epoch=243, LL=-3414.87, error=35.31%, gnorm=9.700e-04)\n",
      "15:17:24 [INFO] Model converged (t=1.174)\n",
      "15:17:24 [INFO] Best results obtained at epoch 243: LL=-3414.87, error=35.31%, gnorm=9.69964e-04\n"
     ]
    }
   ],
   "source": [
    "from pycmtensor import train\n",
    "from pycmtensor.optimizers import SGD, Adam, AdaGrad, SQNBFGS, RMSProp\n",
    "from pycmtensor.scheduler import StepLR, ConstantLR\n",
    "\n",
    "mymodel.reset_values()\n",
    "train(mymodel, ds, optimizer=Adam, batch_size=0, base_learning_rate=0.1, convergence_threshold=0.001, max_steps=2000, lr_scheduler=ConstantLR, lr_stepLR_drop_every=20, lr_stepLR_factor=0.99, BFGS_warmup=30)"
   ]
  },
  {
   "cell_type": "markdown",
   "metadata": {},
   "source": [
    "## Display results"
   ]
  },
  {
   "cell_type": "code",
   "execution_count": 3,
   "metadata": {},
   "outputs": [
    {
     "name": "stdout",
     "output_type": "stream",
     "text": [
      "           value std err  t-test p-value rob. std err rob. t-test rob. p-value\n",
      "asc_cycle -3.956   0.082 -48.336     0.0        0.082     -48.495          0.0\n",
      "asc_drive -2.956   0.092 -32.048     0.0        0.094     -31.382          0.0\n",
      "asc_pt    -1.379   0.047 -29.597     0.0        0.049     -28.017          0.0\n",
      "asc_walk     0.0       -       -       -            -           -            -\n",
      "b_cost    -0.141   0.013 -10.945     0.0        0.012     -11.474          0.0\n",
      "b_licence  1.464   0.081  18.156     0.0        0.086       17.09          0.0\n",
      "b_purpose  0.291   0.032    9.15     0.0        0.032       8.976          0.0\n",
      "b_time    -4.971   0.182 -27.333     0.0        0.195     -25.517          0.0\n",
      "                                                 value\n",
      "Number of training samples used                   3986\n",
      "Number of validation samples used                  997\n",
      "Number of estimated parameters in the model          8\n",
      "Null. log likelihood                          -5525.77\n",
      "Final log likelihood                          -3414.87\n",
      "Validation Accuracy                             64.69%\n",
      "Training Accuracy                               64.40%\n",
      "Likelihood ratio test                          4221.80\n",
      "Rho square                                       0.382\n",
      "Rho square bar                                   0.381\n",
      "Akaike Information Criterion                   6845.74\n",
      "Bayesian Information Criterion                 6896.07\n",
      "Final gradient norm                          9.700e-04\n",
      "Maximum epochs reached                              No\n",
      "Best result at epoch                               243\n",
      "                                                       value\n",
      "Platform                                  Windows 10.0.22631\n",
      "Processor           Intel(R) Core(TM) i7-8565U CPU @ 1.80GHz\n",
      "RAM                                                 15.85 GB\n",
      "Python version                                        3.11.7\n",
      "PyCMTensor version                                    1.10.0\n",
      "Seed                                                     100\n",
      "Model build time                                    00:00:01\n",
      "Model train time                                    00:00:01\n",
      "epochs per sec                                207.84 epoch/s\n"
     ]
    }
   ],
   "source": [
    "pd.options.display.width = 99\n",
    "print(mymodel.results.beta_statistics())\n",
    "print(mymodel.results.model_statistics())\n",
    "print(mymodel.results.benchmark())"
   ]
  },
  {
   "cell_type": "markdown",
   "metadata": {},
   "source": [
    "## Correlation matrix"
   ]
  },
  {
   "cell_type": "code",
   "execution_count": 4,
   "metadata": {},
   "outputs": [
    {
     "name": "stdout",
     "output_type": "stream",
     "text": [
      "           asc_walk  asc_cycle  asc_pt  asc_drive  b_cost  b_time  b_purpose  b_licence\n",
      "asc_walk      1.000     -0.280   0.135     -0.553   0.049  -0.644      0.433      0.307\n",
      "asc_cycle    -0.280      1.000  -0.352     -0.505   0.128   0.035      0.254      0.132\n",
      "asc_pt        0.135     -0.352   1.000     -0.292  -0.186   0.245      0.457      0.265\n",
      "asc_drive    -0.553     -0.505  -0.292      1.000  -0.055   0.317     -0.773     -0.476\n",
      "b_cost        0.049      0.128  -0.186     -0.055   1.000  -0.018     -0.025     -0.056\n",
      "b_time       -0.644      0.035   0.245      0.317  -0.018   1.000     -0.091     -0.143\n",
      "b_purpose     0.433      0.254   0.457     -0.773  -0.025  -0.091      1.000      0.026\n",
      "b_licence     0.307      0.132   0.265     -0.476  -0.056  -0.143      0.026      1.000\n",
      "           asc_walk  asc_cycle  asc_pt  asc_drive  b_cost  b_time  b_purpose  b_licence\n",
      "asc_walk      1.000     -0.293   0.116     -0.563  -0.001  -0.697      0.428      0.326\n",
      "asc_cycle    -0.293      1.000  -0.335     -0.470   0.136   0.066      0.246      0.095\n",
      "asc_pt        0.116     -0.335   1.000     -0.321  -0.092   0.331      0.442      0.340\n",
      "asc_drive    -0.563     -0.470  -0.321      1.000  -0.069   0.296     -0.767     -0.507\n",
      "b_cost       -0.001      0.136  -0.092     -0.069   1.000   0.084      0.023     -0.089\n",
      "b_time       -0.697      0.066   0.331      0.296   0.084   1.000     -0.079     -0.133\n",
      "b_purpose     0.428      0.246   0.442     -0.767   0.023  -0.079      1.000      0.047\n",
      "b_licence     0.326      0.095   0.340     -0.507  -0.089  -0.133      0.047      1.000\n"
     ]
    }
   ],
   "source": [
    "print(mymodel.results.model_correlation_matrix())\n",
    "print(mymodel.results.model_robust_correlation_matrix())"
   ]
  },
  {
   "cell_type": "markdown",
   "metadata": {},
   "source": [
    "## Predictions"
   ]
  },
  {
   "cell_type": "code",
   "execution_count": 12,
   "metadata": {},
   "outputs": [
    {
     "name": "stdout",
     "output_type": "stream",
     "text": [
      "                0         1         2         3  pred_travel_mode  true_travel_mode\n",
      "0    1.823828e-02  0.026140  0.114631  0.840990                 3                 3\n",
      "1    3.076091e-02  0.015439  0.128448  0.825352                 3                 2\n",
      "2    6.249183e-01  0.019045  0.264769  0.091267                 0                 2\n",
      "3    3.877266e-08  0.002577  0.073290  0.924132                 3                 3\n",
      "4    5.058005e-05  0.025173  0.827738  0.147039                 2                 3\n",
      "..            ...       ...       ...       ...               ...               ...\n",
      "992  3.490210e-01  0.013751  0.159579  0.477649                 3                 0\n",
      "993  7.535218e-03  0.028429  0.107126  0.856910                 3                 3\n",
      "994  2.813242e-01  0.014489  0.175488  0.528699                 3                 3\n",
      "995  4.005819e-05  0.005061  0.011871  0.983029                 3                 3\n",
      "996  1.740788e-02  0.030565  0.183020  0.769007                 3                 3\n",
      "\n",
      "[997 rows x 6 columns]\n"
     ]
    }
   ],
   "source": [
    "prob = mymodel.predict(ds)\n",
    "print(pd.DataFrame(prob))"
   ]
  },
  {
   "cell_type": "markdown",
   "metadata": {},
   "source": [
    "## Elasticities"
   ]
  },
  {
   "cell_type": "code",
   "execution_count": 15,
   "metadata": {},
   "outputs": [
    {
     "name": "stdout",
     "output_type": "stream",
     "text": [
      "      cost_driving_ccharge  cost_driving_fuel  cost_transit  driving_license  dur_cycling  \\\n",
      "0                     -0.0             -0.033         0.063            0.228        0.022   \n",
      "1                     -0.0             -0.074         0.159            0.716        0.022   \n",
      "2                     -0.0             -0.110         0.189            0.000        0.029   \n",
      "3                     -0.0             -0.032         0.000            0.793        0.015   \n",
      "4                     -0.0             -0.089         0.114            0.000        0.031   \n",
      "...                    ...                ...           ...              ...          ...   \n",
      "3981                  -0.0             -0.023         0.000            0.000        0.008   \n",
      "3982                  -0.0             -0.131         0.000            0.798        0.038   \n",
      "3983                  -0.0             -0.018         0.050            0.565        0.016   \n",
      "3984                  -0.0             -0.012         0.040            0.162        0.019   \n",
      "3985                  -0.0             -0.042         0.114            0.000        0.026   \n",
      "\n",
      "      dur_driving  dur_pt_bus  dur_pt_int  dur_pt_rail  dur_walking  purpose  \n",
      "0          -0.193       0.287       0.099        0.000        0.003    0.045  \n",
      "1          -1.033       0.000       0.000        0.312        0.063    0.712  \n",
      "2          -1.159       0.000       0.000        0.459        0.062    0.710  \n",
      "3          -0.482       0.000       0.000        0.107        0.297    0.473  \n",
      "4          -0.561       0.062       0.249        0.560        0.000    0.224  \n",
      "...           ...         ...         ...          ...          ...      ...  \n",
      "3981       -0.199       0.081       0.000        0.000        0.556    1.073  \n",
      "3982       -1.604       0.324       0.221        0.663        0.009    0.476  \n",
      "3983       -0.263       0.168       0.000        0.000        0.376    0.337  \n",
      "3984       -0.117       0.039       0.070        0.047        0.033    0.161  \n",
      "3985       -0.483       0.227       0.000        0.000        0.724    0.247  \n",
      "\n",
      "[3986 rows x 11 columns]\n"
     ]
    }
   ],
   "source": [
    "elas = mymodel.elasticities(ds=ds, wrt_choice=3)\n",
    "print(pd.DataFrame(elas).round(3))"
   ]
  },
  {
   "cell_type": "code",
   "execution_count": 19,
   "metadata": {},
   "outputs": [
    {
     "data": {
      "text/plain": [
       "cost_driving_ccharge   -0.158813\n",
       "cost_driving_fuel      -0.063062\n",
       "cost_transit            0.088155\n",
       "driving_license         0.407574\n",
       "dur_cycling             0.042154\n",
       "dur_driving            -0.794599\n",
       "dur_pt_bus              0.225808\n",
       "dur_pt_int              0.079546\n",
       "dur_pt_rail             0.245628\n",
       "dur_walking             0.333738\n",
       "purpose                 0.441163\n",
       "dtype: float64"
      ]
     },
     "execution_count": 19,
     "metadata": {},
     "output_type": "execute_result"
    }
   ],
   "source": [
    "import numpy as np \n",
    "np.mean(pd.DataFrame(elas), axis=0)"
   ]
  },
  {
   "cell_type": "code",
   "execution_count": 10,
   "metadata": {},
   "outputs": [
    {
     "data": {
      "image/png": "[encoded data removed]",
      "text/plain": [
       "<Figure size 640x480 with 2 Axes>"
      ]
     },
     "metadata": {},
     "output_type": "display_data"
    }
   ],
   "source": [
    "table = mymodel.results.show_training_plot(offset=5)"
   ]
  }
 ],
 "metadata": {
  "kernelspec": {
   "display_name": "pycmtensor-dev",
   "language": "python",
   "name": "python3"
  },
  "language_info": {
   "codemirror_mode": {
    "name": "ipython",
    "version": 3
   },
   "file_extension": ".py",
   "mimetype": "text/x-python",
   "name": "python",
   "nbconvert_exporter": "python",
   "pygments_lexer": "ipython3",
   "version": "3.11.7"
  },
  "orig_nbformat": 4
 },
 "nbformat": 4,
 "nbformat_minor": 2
}
