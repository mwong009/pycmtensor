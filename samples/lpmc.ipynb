{
 "cells": [
  {
   "cell_type": "markdown",
   "metadata": {},
   "source": [
    "# London Passenger Mode Choice"
   ]
  },
  {
   "cell_type": "code",
   "execution_count": 1,
   "metadata": {},
   "outputs": [
    {
     "name": "stderr",
     "output_type": "stream",
     "text": [
      "17:16:32 [WARNING] DepreciationWarning: Import train and compute from pycmtensor instead of pycmtensor.models.basic\n",
      "17:16:32 [INFO] seed: 100 n_train_samples:3986 n_valid_samples:997\n",
      "17:16:33 [WARNING] s_time not in any utility functions\n",
      "17:16:33 [WARNING] b_car_own not in any utility functions\n",
      "17:16:33 [INFO] choice: travel_mode\n",
      "17:16:33 [INFO] inputs in MNL: [purpose, driving_license, dur_walking, dur_cycling, dur_pt_rail, dur_pt_bus, dur_pt_int, dur_driving, cost_transit, cost_driving_fuel, cost_driving_ccharge]\n",
      "17:16:34 [INFO] Build time = 00:00:01\n"
     ]
    }
   ],
   "source": [
    "import os, sys\n",
    "sys.path.insert(0, os.path.abspath(\"..\"))\n",
    "\n",
    "#import packages\n",
    "import pandas as pd\n",
    "from pycmtensor.dataset import Dataset\n",
    "from pycmtensor.expressions import Beta, RandomDraws\n",
    "from pycmtensor.models import MNL\n",
    "\n",
    "lpmc = pd.read_csv(\"../data/lpmc.dat\", sep=\"\\t\")\n",
    "lpmc = lpmc[lpmc[\"travel_year\"]==2015]\n",
    "ds = Dataset(df=lpmc, choice=\"travel_mode\")\n",
    "ds.split(0.8)\n",
    "\n",
    "# Beta parameters\n",
    "asc_walk = Beta(\"asc_walk\", 0.0, None, None, 1)\n",
    "asc_cycle = Beta(\"asc_cycle\", 0.0, None, None, 0)\n",
    "asc_pt = Beta(\"asc_pt\", 0.0, None, None, 0)\n",
    "asc_drive = Beta(\"asc_drive\", 0.0, None, None, 0)\n",
    "b_cost = Beta(\"b_cost\", 0.0, None, None, 0)\n",
    "b_time = Beta(\"b_time\", 0.0, None, None, 0)\n",
    "s_time = Beta(\"s_time\", 0.5, None, None, 0)\n",
    "b_purpose = Beta(\"b_purpose\", 0.0, None, None, 0)\n",
    "b_licence = Beta(\"b_licence\", 0.0, None, None, 0)\n",
    "b_car_own = Beta(\"b_car_own\", 0.0, None, None, 0)\n",
    "\n",
    "rnd_time = RandomDraws('rnd_time', 'lognormal', 100)\n",
    "\n",
    "U_walk = asc_walk + b_time * ds[\"dur_walking\"] # + rnd_time(s_time) * db[\"dur_walking\"]\n",
    "U_cycle = asc_cycle + b_time * ds[\"dur_cycling\"] \n",
    "U_pt = asc_pt + b_time * (ds[\"dur_pt_rail\"] + ds[\"dur_pt_bus\"] + ds[\"dur_pt_int\"]) + b_cost * ds[\"cost_transit\"]\n",
    "U_drive = asc_drive + b_time * ds[\"dur_driving\"] + b_licence * ds[\"driving_license\"] + b_cost * (ds[\"cost_driving_fuel\"] + ds[\"cost_driving_ccharge\"])  + b_purpose * ds[\"purpose\"]\n",
    "\n",
    "U = [U_walk, U_cycle, U_pt, U_drive]\n",
    "mymodel = MNL(ds, locals(), U)"
   ]
  },
  {
   "cell_type": "markdown",
   "metadata": {},
   "source": [
    "## Estimate the models"
   ]
  },
  {
   "cell_type": "code",
   "execution_count": 2,
   "metadata": {},
   "outputs": [
    {
     "name": "stderr",
     "output_type": "stream",
     "text": [
      "17:15:43 [INFO] Start (n=3986, epoch=0, LL=-5525.77, error=81.85%)\n",
      "17:15:43 [INFO] Train 0/2K (epoch=0, LL=-12606.28, error=52.66%, gnorm=2.646e+00)\n",
      "17:15:44 [INFO] Train 149/500 (epoch=149, LL=-3414.86, error=35.41%, gnorm=9.415e-04)\n",
      "17:15:44 [INFO] Model converged (t=0.646)\n",
      "17:15:44 [INFO] Best results obtained at epoch 149: LL=-3414.86, error=35.41%, gnorm=9.41531e-04\n"
     ]
    }
   ],
   "source": [
    "from pycmtensor import train\n",
    "from pycmtensor.optimizers import SGD, Adam, AdaGrad, SQNBFGS, RMSProp\n",
    "from pycmtensor.scheduler import StepLR, ConstantLR\n",
    "\n",
    "mymodel.reset_values()\n",
    "train(mymodel, ds, optimizer=Adam, batch_size=0, base_learning_rate=1., convergence_threshold=0.001, max_steps=2000, lr_scheduler=ConstantLR, lr_stepLR_drop_every=20, lr_stepLR_factor=0.99, BFGS_warmup=30)"
   ]
  },
  {
   "cell_type": "markdown",
   "metadata": {},
   "source": [
    "## Display results"
   ]
  },
  {
   "cell_type": "code",
   "execution_count": null,
   "metadata": {},
   "outputs": [],
   "source": [
    "pd.options.display.width = 99\n",
    "print(mymodel.results.beta_statistics())\n",
    "print(mymodel.results.model_statistics())\n",
    "print(mymodel.results.benchmark())"
   ]
  },
  {
   "cell_type": "markdown",
   "metadata": {},
   "source": [
    "## Correlation matrix"
   ]
  },
  {
   "cell_type": "code",
   "execution_count": null,
   "metadata": {},
   "outputs": [],
   "source": [
    "print(mymodel.results.model_correlation_matrix())\n",
    "print(mymodel.results.model_robust_correlation_matrix())"
   ]
  },
  {
   "cell_type": "markdown",
   "metadata": {},
   "source": [
    "## Predictions"
   ]
  },
  {
   "cell_type": "code",
   "execution_count": null,
   "metadata": {},
   "outputs": [],
   "source": [
    "prob = mymodel.predict(ds, return_probabilities=True)\n",
    "print(pd.DataFrame(prob))\n",
    "\n",
    "choice = mymodel.predict(ds, return_probabilities=False)\n",
    "print(pd.DataFrame(choice))"
   ]
  },
  {
   "cell_type": "markdown",
   "metadata": {},
   "source": [
    "## Elasticities"
   ]
  },
  {
   "cell_type": "code",
   "execution_count": null,
   "metadata": {},
   "outputs": [],
   "source": [
    "elas = mymodel.elasticities(ds, wrt_choice=1)\n",
    "print(pd.DataFrame(elas))"
   ]
  }
 ],
 "metadata": {
  "kernelspec": {
   "display_name": "pycmtensor-dev",
   "language": "python",
   "name": "python3"
  },
  "language_info": {
   "codemirror_mode": {
    "name": "ipython",
    "version": 3
   },
   "file_extension": ".py",
   "mimetype": "text/x-python",
   "name": "python",
   "nbconvert_exporter": "python",
   "pygments_lexer": "ipython3",
   "version": "3.11.6"
  },
  "orig_nbformat": 4
 },
 "nbformat": 4,
 "nbformat_minor": 2
}
